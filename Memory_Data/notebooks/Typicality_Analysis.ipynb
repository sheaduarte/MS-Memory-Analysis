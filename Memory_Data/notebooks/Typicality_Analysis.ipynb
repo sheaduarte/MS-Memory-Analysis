{
 "cells": [
  {
   "cell_type": "markdown",
   "metadata": {},
   "source": [
    "## Data Analysis Pipeline Steps\n",
    "1. Import & concatenate data:\n",
    "- Write a function that takes a folder of data files as an argument and concatenates all the .csv files in that folder into a single pandas dataframe.\n",
    "    - *hint*: use the packages \"glob\" and \"pandas\"\n",
    "    - *hint2*: you need to skip the first three rows of each .csv file for this to work.\n",
    "2. Average response score for each object.\n",
    "- Get a summary of the average score for each object shown.\n",
    "    - *hint*: There are a couple of ways to do this, you can use the *.groupby()* method in pandas to group items in the 'object_shown' column, or you can create a pivot table.\n",
    "- Check whether any objects have average response scores lower than 6.\n",
    "3. Find the images we want to use.\n",
    "- Group by images (in the 'stim1' column) and get the average score for each stim1. \n",
    "    - *hint* use the .groupby() and .mean() methods\n",
    "- For each object, find the two highest-scored images that have the same score. \n",
    "    - If no two objects have the same score, list the two highest scores for each object. \n",
    "    - If more than two objects have matching highest-scores, list all of them."
   ]
  },
  {
   "cell_type": "code",
   "execution_count": 1,
   "metadata": {},
   "outputs": [],
   "source": [
    "import pandas as pd\n",
    "import numpy as np\n",
    "import glob"
   ]
  },
  {
   "cell_type": "code",
   "execution_count": null,
   "metadata": {},
   "outputs": [],
   "source": []
  }
 ],
 "metadata": {
  "language_info": {
   "codemirror_mode": {
    "name": "ipython",
    "version": 3
   },
   "file_extension": ".py",
   "mimetype": "text/x-python",
   "name": "python",
   "nbconvert_exporter": "python",
   "pygments_lexer": "ipython3",
   "version": 3
  },
  "orig_nbformat": 2,
  "kernelspec": {
   "name": "python_defaultSpec_1597007670380",
   "display_name": "Python 3.7.4 64-bit ('base': conda)"
  }
 },
 "nbformat": 4,
 "nbformat_minor": 2
}