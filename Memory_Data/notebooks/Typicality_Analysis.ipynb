{
 "cells": [
  {
   "cell_type": "markdown",
   "metadata": {},
   "source": [
    "## Data Analysis Pipeline Steps\n",
    "1. Import & concatenate data:\n",
    "- Write a function that takes a folder of data files as an argument and concatenates all the .csv files in that folder into a single pandas dataframe.\n",
    "    - *hint*: use the packages \"glob\" and \"pandas\"\n",
    "    - *hint2*: you need to skip the first three rows of each .csv file for this to work.\n",
    "2. Average response score for each object.\n",
    "- Get a summary of the average score for each object shown.\n",
    "    - *hint*: There are a couple of ways to do this, you can use the *.groupby()* method in pandas to group items in the 'object_shown' column, or you can create a pivot table.\n",
    "- Check whether any objects have average response scores lower than 6.\n",
    "3. Find the images we want to use.\n",
    "- Group by images (in the 'stim1' column) and get the average score for each stim1. \n",
    "    - *hint* use the .groupby() and .mean() methods\n",
    "- For each object, find the two highest-scored images that have the same score. \n",
    "    - If no two objects have the same score, list the two highest scores for each object. \n",
    "    - If more than two objects have matching highest-scores, list all of them."
   ]
  },
  {
   "cell_type": "code",
   "execution_count": 80,
   "metadata": {},
   "outputs": [],
   "source": [
    "import pandas as pd\n",
    "import numpy as np\n",
    "from glob import glob"
   ]
  },
  {
   "cell_type": "code",
   "execution_count": 81,
   "metadata": {},
   "outputs": [],
   "source": [
    "def import_all_csvs(folder):\n",
    "\tfiles = glob(folder + '/*.csv')\n",
    "\tmaster_df = pd.concat([pd.read_csv(f, skiprows=[0,1,2,4,5]) for f in files ])\n",
    "\treturn master_df"
   ]
  },
  {
   "cell_type": "code",
   "execution_count": 82,
   "metadata": {
    "tags": []
   },
   "outputs": [],
   "source": [
    "data = import_all_csvs('/Users/sheaduarte/Desktop/Projects/MSImemory/MS-Memory-Analysis/Memory_Data/data/raw/typicality_test_data')"
   ]
  },
  {
   "cell_type": "code",
   "execution_count": 83,
   "metadata": {},
   "outputs": [
    {
     "output_type": "execute_result",
     "data": {
      "text/plain": "   rowNo  type    stim1 stimFormat  ITI responseType responseOptions  \\\n0      7  test  goose_1       .png  800       slider          0_10_1   \n1      8  test  goose_2       .png  800       slider          0_10_1   \n2      9  test  goose_3       .png  800       slider          0_10_1   \n3     10  test  goose_4       .png  800       slider          0_10_1   \n4     11  test  goose_5       .png  800       slider          0_10_1   \n\n                          trialText  head  required object_shown  seperator  \\\n0  How typical is this orientation?   NaN       NaN        goose        NaN   \n1  How typical is this orientation?   NaN       NaN        goose        NaN   \n2  How typical is this orientation?   NaN       NaN        goose        NaN   \n3  How typical is this orientation?   NaN       NaN        goose        NaN   \n4  How typical is this orientation?   NaN       NaN        goose        NaN   \n\n   ITI_ms  ITI_f  ITI_fDuration  timestamp  response     RT  responseCode  \n0     800     48          16.67     513338         9  27561             9  \n1     800     48          16.67     557605         8  43472             8  \n2     800     48          16.67     650207         6  91807             6  \n3     801     48          16.70     659106         8   8102             8  \n4     800     48          16.67     698737         6  38834             6  ",
      "text/html": "<div>\n<style scoped>\n    .dataframe tbody tr th:only-of-type {\n        vertical-align: middle;\n    }\n\n    .dataframe tbody tr th {\n        vertical-align: top;\n    }\n\n    .dataframe thead th {\n        text-align: right;\n    }\n</style>\n<table border=\"1\" class=\"dataframe\">\n  <thead>\n    <tr style=\"text-align: right;\">\n      <th></th>\n      <th>rowNo</th>\n      <th>type</th>\n      <th>stim1</th>\n      <th>stimFormat</th>\n      <th>ITI</th>\n      <th>responseType</th>\n      <th>responseOptions</th>\n      <th>trialText</th>\n      <th>head</th>\n      <th>required</th>\n      <th>object_shown</th>\n      <th>seperator</th>\n      <th>ITI_ms</th>\n      <th>ITI_f</th>\n      <th>ITI_fDuration</th>\n      <th>timestamp</th>\n      <th>response</th>\n      <th>RT</th>\n      <th>responseCode</th>\n    </tr>\n  </thead>\n  <tbody>\n    <tr>\n      <td>0</td>\n      <td>7</td>\n      <td>test</td>\n      <td>goose_1</td>\n      <td>.png</td>\n      <td>800</td>\n      <td>slider</td>\n      <td>0_10_1</td>\n      <td>How typical is this orientation?</td>\n      <td>NaN</td>\n      <td>NaN</td>\n      <td>goose</td>\n      <td>NaN</td>\n      <td>800</td>\n      <td>48</td>\n      <td>16.67</td>\n      <td>513338</td>\n      <td>9</td>\n      <td>27561</td>\n      <td>9</td>\n    </tr>\n    <tr>\n      <td>1</td>\n      <td>8</td>\n      <td>test</td>\n      <td>goose_2</td>\n      <td>.png</td>\n      <td>800</td>\n      <td>slider</td>\n      <td>0_10_1</td>\n      <td>How typical is this orientation?</td>\n      <td>NaN</td>\n      <td>NaN</td>\n      <td>goose</td>\n      <td>NaN</td>\n      <td>800</td>\n      <td>48</td>\n      <td>16.67</td>\n      <td>557605</td>\n      <td>8</td>\n      <td>43472</td>\n      <td>8</td>\n    </tr>\n    <tr>\n      <td>2</td>\n      <td>9</td>\n      <td>test</td>\n      <td>goose_3</td>\n      <td>.png</td>\n      <td>800</td>\n      <td>slider</td>\n      <td>0_10_1</td>\n      <td>How typical is this orientation?</td>\n      <td>NaN</td>\n      <td>NaN</td>\n      <td>goose</td>\n      <td>NaN</td>\n      <td>800</td>\n      <td>48</td>\n      <td>16.67</td>\n      <td>650207</td>\n      <td>6</td>\n      <td>91807</td>\n      <td>6</td>\n    </tr>\n    <tr>\n      <td>3</td>\n      <td>10</td>\n      <td>test</td>\n      <td>goose_4</td>\n      <td>.png</td>\n      <td>800</td>\n      <td>slider</td>\n      <td>0_10_1</td>\n      <td>How typical is this orientation?</td>\n      <td>NaN</td>\n      <td>NaN</td>\n      <td>goose</td>\n      <td>NaN</td>\n      <td>801</td>\n      <td>48</td>\n      <td>16.70</td>\n      <td>659106</td>\n      <td>8</td>\n      <td>8102</td>\n      <td>8</td>\n    </tr>\n    <tr>\n      <td>4</td>\n      <td>11</td>\n      <td>test</td>\n      <td>goose_5</td>\n      <td>.png</td>\n      <td>800</td>\n      <td>slider</td>\n      <td>0_10_1</td>\n      <td>How typical is this orientation?</td>\n      <td>NaN</td>\n      <td>NaN</td>\n      <td>goose</td>\n      <td>NaN</td>\n      <td>800</td>\n      <td>48</td>\n      <td>16.67</td>\n      <td>698737</td>\n      <td>6</td>\n      <td>38834</td>\n      <td>6</td>\n    </tr>\n  </tbody>\n</table>\n</div>"
     },
     "metadata": {},
     "execution_count": 83
    }
   ],
   "source": [
    "data.head()"
   ]
  },
  {
   "cell_type": "code",
   "execution_count": 84,
   "metadata": {},
   "outputs": [],
   "source": [
    "object_means_table = data.pivot_table(values = 'response',index='object_shown')"
   ]
  },
  {
   "cell_type": "markdown",
   "metadata": {},
   "source": [
    "Groupby stim1, find mean of each, round.\n",
    "for each object_shown, find the two highest max image scores, \n",
    "if they're the same, choose those images"
   ]
  },
  {
   "cell_type": "code",
   "execution_count": 85,
   "metadata": {},
   "outputs": [
    {
     "output_type": "display_data",
     "data": {
      "text/plain": "          response\nstim1             \nbat_1          6.0\nbat_2          4.0\nbat_3          5.0\nbat_4          5.0\nbat_5          5.0\n...            ...\nwrench_1       6.0\nwrench_2       6.0\nwrench_3       5.0\nwrench_4       6.0\nwrench_5       5.0\n\n[300 rows x 1 columns]",
      "text/html": "<div>\n<style scoped>\n    .dataframe tbody tr th:only-of-type {\n        vertical-align: middle;\n    }\n\n    .dataframe tbody tr th {\n        vertical-align: top;\n    }\n\n    .dataframe thead th {\n        text-align: right;\n    }\n</style>\n<table border=\"1\" class=\"dataframe\">\n  <thead>\n    <tr style=\"text-align: right;\">\n      <th></th>\n      <th>response</th>\n    </tr>\n    <tr>\n      <th>stim1</th>\n      <th></th>\n    </tr>\n  </thead>\n  <tbody>\n    <tr>\n      <td>bat_1</td>\n      <td>6.0</td>\n    </tr>\n    <tr>\n      <td>bat_2</td>\n      <td>4.0</td>\n    </tr>\n    <tr>\n      <td>bat_3</td>\n      <td>5.0</td>\n    </tr>\n    <tr>\n      <td>bat_4</td>\n      <td>5.0</td>\n    </tr>\n    <tr>\n      <td>bat_5</td>\n      <td>5.0</td>\n    </tr>\n    <tr>\n      <td>...</td>\n      <td>...</td>\n    </tr>\n    <tr>\n      <td>wrench_1</td>\n      <td>6.0</td>\n    </tr>\n    <tr>\n      <td>wrench_2</td>\n      <td>6.0</td>\n    </tr>\n    <tr>\n      <td>wrench_3</td>\n      <td>5.0</td>\n    </tr>\n    <tr>\n      <td>wrench_4</td>\n      <td>6.0</td>\n    </tr>\n    <tr>\n      <td>wrench_5</td>\n      <td>5.0</td>\n    </tr>\n  </tbody>\n</table>\n<p>300 rows × 1 columns</p>\n</div>"
     },
     "metadata": {}
    }
   ],
   "source": [
    "score_pivot = data.pivot_table(index='stim1', values = 'response').round(0)\n",
    "display(score_pivot)"
   ]
  },
  {
   "cell_type": "code",
   "execution_count": 86,
   "metadata": {},
   "outputs": [],
   "source": [
    "score_pivot = score_pivot.reset_index()"
   ]
  },
  {
   "cell_type": "code",
   "execution_count": 87,
   "metadata": {},
   "outputs": [],
   "source": [
    "object_list = list(data['object_shown'].unique())"
   ]
  },
  {
   "cell_type": "code",
   "execution_count": 88,
   "metadata": {
    "tags": []
   },
   "outputs": [
    {
     "output_type": "stream",
     "name": "stdout",
     "text": "['goose', 'record_player', 'crocodile', 'door', 'butterfly', 'smartphone', 'cow', 'horse', 'camera', 'rat', 'cat', 'car', 'rabbit', 'saw', 'frog', 'boat', 'whale', 'bear', 'fish', 'elephant', 'bell', 'wolf', 'tape', 'piano', 'guitar', 'radio', 'train', 'leopard', 'bird', 'cymbal_ride', 'chicken', 'bus', 'walkie', 'pig', 'stapler', 'deer', 'watering_can', 'salamander', 'drum', 'snake', 'crab', 'penguin', 'keyboard', 'drill', 'bicycle', 'laptop', 'camel', 'coins', 'hammer', 'jet', 'dog', 'scissors', 'goat', 'motorcycle', 'rhino', 'shark', 'bat', 'washer', 'tiger', 'wrench']\n"
    }
   ],
   "source": [
    "print(object_list)"
   ]
  },
  {
   "cell_type": "code",
   "execution_count": 89,
   "metadata": {},
   "outputs": [],
   "source": [
    "score_pivot['object_image'] = [x[:-2] for x in score_pivot['stim1']]"
   ]
  },
  {
   "cell_type": "code",
   "execution_count": 90,
   "metadata": {
    "tags": []
   },
   "outputs": [],
   "source": [
    "#display(score_pivot.tail(50))"
   ]
  },
  {
   "cell_type": "code",
   "execution_count": 91,
   "metadata": {
    "tags": []
   },
   "outputs": [],
   "source": [
    "sorted_df = score_pivot.sort_values(['object_image','response'],ascending=False).groupby('object_image').head()"
   ]
  },
  {
   "cell_type": "code",
   "execution_count": 92,
   "metadata": {},
   "outputs": [],
   "source": [
    "sorted_df = sorted_df.reset_index()"
   ]
  },
  {
   "cell_type": "code",
   "execution_count": 93,
   "metadata": {},
   "outputs": [],
   "source": [
    "sorted_df1 = sorted_df[sorted_df.index % 5 == 0]\n",
    "sorted_df1 = sorted_df1.rename(columns={\"response\": \"response1\"})"
   ]
  },
  {
   "cell_type": "code",
   "execution_count": 94,
   "metadata": {},
   "outputs": [],
   "source": [
    "sorted_df2 = sorted_df[sorted_df.index % 5 == 1]\n",
    "sorted_df2 = sorted_df2.rename(columns={'stim1':'stim2',\"response\": \"response2\"})"
   ]
  },
  {
   "cell_type": "code",
   "execution_count": 95,
   "metadata": {},
   "outputs": [
    {
     "output_type": "display_data",
     "data": {
      "text/plain": "     object_image            stim1  response1            stim2  response2\n0          wrench         wrench_1        6.0         wrench_2        6.0\n1            wolf           wolf_1        7.0           wolf_4        7.0\n2           whale          whale_5        7.0          whale_2        6.0\n3    watering_can   watering_can_1        6.0   watering_can_5        6.0\n4          washer         washer_2        8.0         washer_4        7.0\n5          walkie         walkie_1        7.0         walkie_4        6.0\n6           train          train_1        7.0          train_2        7.0\n7           tiger          tiger_1        6.0          tiger_2        6.0\n8            tape           tape_1        8.0           tape_5        7.0\n9         stapler        stapler_1        8.0        stapler_3        7.0\n10          snake          snake_1        7.0          snake_2        7.0\n11     smartphone     smartphone_2        8.0     smartphone_1        7.0\n12          shark          shark_2        7.0          shark_3        6.0\n13       scissors       scissors_1        7.0       scissors_2        7.0\n14            saw            saw_1        7.0            saw_3        7.0\n15     salamander     salamander_3        7.0     salamander_4        6.0\n16          rhino          rhino_2        7.0          rhino_4        7.0\n17  record_player  record_player_1        8.0  record_player_3        8.0\n18            rat            rat_1        6.0            rat_2        6.0\n19          radio          radio_2        8.0          radio_4        7.0\n20         rabbit         rabbit_2        6.0         rabbit_3        6.0\n21            pig            pig_3        7.0            pig_4        7.0\n22          piano          piano_1        8.0          piano_2        7.0\n23        penguin        penguin_1        7.0        penguin_4        7.0\n24     motorcycle     motorcycle_1        8.0     motorcycle_2        8.0\n25        leopard        leopard_1        7.0        leopard_2        6.0\n26         laptop         laptop_2        7.0         laptop_4        6.0\n27       keyboard       keyboard_2        6.0       keyboard_1        5.0\n28            jet            jet_1        6.0            jet_2        6.0\n29          horse          horse_1        8.0          horse_2        7.0\n30         hammer         hammer_3        7.0         hammer_5        7.0\n31         guitar         guitar_3        7.0         guitar_5        7.0\n32          goose          goose_1        8.0          goose_4        8.0\n33           goat           goat_3        7.0           goat_4        6.0\n34           frog           frog_1        7.0           frog_5        7.0\n35           fish           fish_4        7.0           fish_5        7.0\n36       elephant       elephant_1        7.0       elephant_2        7.0\n37           drum           drum_2        8.0           drum_1        6.0\n38          drill          drill_1        7.0          drill_2        7.0\n39           door           door_1        8.0           door_5        8.0\n40            dog            dog_2        8.0            dog_3        7.0\n41           deer           deer_4        7.0           deer_5        7.0\n42    cymbal_ride    cymbal_ride_2        6.0    cymbal_ride_5        6.0\n43      crocodile      crocodile_2        8.0      crocodile_4        7.0\n44           crab           crab_2        7.0           crab_1        6.0\n45            cow            cow_2        8.0            cow_4        7.0\n46          coins          coins_1        7.0          coins_2        7.0\n47        chicken        chicken_1        7.0        chicken_2        7.0\n48            cat            cat_1        7.0            cat_2        7.0\n49            car            car_3        8.0            car_2        7.0\n50         camera         camera_1        8.0         camera_3        8.0\n51          camel          camel_3        7.0          camel_4        7.0\n52      butterfly      butterfly_4        7.0      butterfly_2        6.0\n53            bus            bus_2        6.0            bus_3        6.0\n54           boat           boat_1        7.0           boat_2        7.0\n55           bird           bird_1        6.0           bird_2        6.0\n56        bicycle        bicycle_1        7.0        bicycle_3        7.0\n57           bell           bell_5        7.0           bell_2        4.0\n58           bear           bear_1        7.0           bear_4        6.0\n59            bat            bat_1        6.0            bat_3        5.0",
      "text/html": "<div>\n<style scoped>\n    .dataframe tbody tr th:only-of-type {\n        vertical-align: middle;\n    }\n\n    .dataframe tbody tr th {\n        vertical-align: top;\n    }\n\n    .dataframe thead th {\n        text-align: right;\n    }\n</style>\n<table border=\"1\" class=\"dataframe\">\n  <thead>\n    <tr style=\"text-align: right;\">\n      <th></th>\n      <th>object_image</th>\n      <th>stim1</th>\n      <th>response1</th>\n      <th>stim2</th>\n      <th>response2</th>\n    </tr>\n  </thead>\n  <tbody>\n    <tr>\n      <td>0</td>\n      <td>wrench</td>\n      <td>wrench_1</td>\n      <td>6.0</td>\n      <td>wrench_2</td>\n      <td>6.0</td>\n    </tr>\n    <tr>\n      <td>1</td>\n      <td>wolf</td>\n      <td>wolf_1</td>\n      <td>7.0</td>\n      <td>wolf_4</td>\n      <td>7.0</td>\n    </tr>\n    <tr>\n      <td>2</td>\n      <td>whale</td>\n      <td>whale_5</td>\n      <td>7.0</td>\n      <td>whale_2</td>\n      <td>6.0</td>\n    </tr>\n    <tr>\n      <td>3</td>\n      <td>watering_can</td>\n      <td>watering_can_1</td>\n      <td>6.0</td>\n      <td>watering_can_5</td>\n      <td>6.0</td>\n    </tr>\n    <tr>\n      <td>4</td>\n      <td>washer</td>\n      <td>washer_2</td>\n      <td>8.0</td>\n      <td>washer_4</td>\n      <td>7.0</td>\n    </tr>\n    <tr>\n      <td>5</td>\n      <td>walkie</td>\n      <td>walkie_1</td>\n      <td>7.0</td>\n      <td>walkie_4</td>\n      <td>6.0</td>\n    </tr>\n    <tr>\n      <td>6</td>\n      <td>train</td>\n      <td>train_1</td>\n      <td>7.0</td>\n      <td>train_2</td>\n      <td>7.0</td>\n    </tr>\n    <tr>\n      <td>7</td>\n      <td>tiger</td>\n      <td>tiger_1</td>\n      <td>6.0</td>\n      <td>tiger_2</td>\n      <td>6.0</td>\n    </tr>\n    <tr>\n      <td>8</td>\n      <td>tape</td>\n      <td>tape_1</td>\n      <td>8.0</td>\n      <td>tape_5</td>\n      <td>7.0</td>\n    </tr>\n    <tr>\n      <td>9</td>\n      <td>stapler</td>\n      <td>stapler_1</td>\n      <td>8.0</td>\n      <td>stapler_3</td>\n      <td>7.0</td>\n    </tr>\n    <tr>\n      <td>10</td>\n      <td>snake</td>\n      <td>snake_1</td>\n      <td>7.0</td>\n      <td>snake_2</td>\n      <td>7.0</td>\n    </tr>\n    <tr>\n      <td>11</td>\n      <td>smartphone</td>\n      <td>smartphone_2</td>\n      <td>8.0</td>\n      <td>smartphone_1</td>\n      <td>7.0</td>\n    </tr>\n    <tr>\n      <td>12</td>\n      <td>shark</td>\n      <td>shark_2</td>\n      <td>7.0</td>\n      <td>shark_3</td>\n      <td>6.0</td>\n    </tr>\n    <tr>\n      <td>13</td>\n      <td>scissors</td>\n      <td>scissors_1</td>\n      <td>7.0</td>\n      <td>scissors_2</td>\n      <td>7.0</td>\n    </tr>\n    <tr>\n      <td>14</td>\n      <td>saw</td>\n      <td>saw_1</td>\n      <td>7.0</td>\n      <td>saw_3</td>\n      <td>7.0</td>\n    </tr>\n    <tr>\n      <td>15</td>\n      <td>salamander</td>\n      <td>salamander_3</td>\n      <td>7.0</td>\n      <td>salamander_4</td>\n      <td>6.0</td>\n    </tr>\n    <tr>\n      <td>16</td>\n      <td>rhino</td>\n      <td>rhino_2</td>\n      <td>7.0</td>\n      <td>rhino_4</td>\n      <td>7.0</td>\n    </tr>\n    <tr>\n      <td>17</td>\n      <td>record_player</td>\n      <td>record_player_1</td>\n      <td>8.0</td>\n      <td>record_player_3</td>\n      <td>8.0</td>\n    </tr>\n    <tr>\n      <td>18</td>\n      <td>rat</td>\n      <td>rat_1</td>\n      <td>6.0</td>\n      <td>rat_2</td>\n      <td>6.0</td>\n    </tr>\n    <tr>\n      <td>19</td>\n      <td>radio</td>\n      <td>radio_2</td>\n      <td>8.0</td>\n      <td>radio_4</td>\n      <td>7.0</td>\n    </tr>\n    <tr>\n      <td>20</td>\n      <td>rabbit</td>\n      <td>rabbit_2</td>\n      <td>6.0</td>\n      <td>rabbit_3</td>\n      <td>6.0</td>\n    </tr>\n    <tr>\n      <td>21</td>\n      <td>pig</td>\n      <td>pig_3</td>\n      <td>7.0</td>\n      <td>pig_4</td>\n      <td>7.0</td>\n    </tr>\n    <tr>\n      <td>22</td>\n      <td>piano</td>\n      <td>piano_1</td>\n      <td>8.0</td>\n      <td>piano_2</td>\n      <td>7.0</td>\n    </tr>\n    <tr>\n      <td>23</td>\n      <td>penguin</td>\n      <td>penguin_1</td>\n      <td>7.0</td>\n      <td>penguin_4</td>\n      <td>7.0</td>\n    </tr>\n    <tr>\n      <td>24</td>\n      <td>motorcycle</td>\n      <td>motorcycle_1</td>\n      <td>8.0</td>\n      <td>motorcycle_2</td>\n      <td>8.0</td>\n    </tr>\n    <tr>\n      <td>25</td>\n      <td>leopard</td>\n      <td>leopard_1</td>\n      <td>7.0</td>\n      <td>leopard_2</td>\n      <td>6.0</td>\n    </tr>\n    <tr>\n      <td>26</td>\n      <td>laptop</td>\n      <td>laptop_2</td>\n      <td>7.0</td>\n      <td>laptop_4</td>\n      <td>6.0</td>\n    </tr>\n    <tr>\n      <td>27</td>\n      <td>keyboard</td>\n      <td>keyboard_2</td>\n      <td>6.0</td>\n      <td>keyboard_1</td>\n      <td>5.0</td>\n    </tr>\n    <tr>\n      <td>28</td>\n      <td>jet</td>\n      <td>jet_1</td>\n      <td>6.0</td>\n      <td>jet_2</td>\n      <td>6.0</td>\n    </tr>\n    <tr>\n      <td>29</td>\n      <td>horse</td>\n      <td>horse_1</td>\n      <td>8.0</td>\n      <td>horse_2</td>\n      <td>7.0</td>\n    </tr>\n    <tr>\n      <td>30</td>\n      <td>hammer</td>\n      <td>hammer_3</td>\n      <td>7.0</td>\n      <td>hammer_5</td>\n      <td>7.0</td>\n    </tr>\n    <tr>\n      <td>31</td>\n      <td>guitar</td>\n      <td>guitar_3</td>\n      <td>7.0</td>\n      <td>guitar_5</td>\n      <td>7.0</td>\n    </tr>\n    <tr>\n      <td>32</td>\n      <td>goose</td>\n      <td>goose_1</td>\n      <td>8.0</td>\n      <td>goose_4</td>\n      <td>8.0</td>\n    </tr>\n    <tr>\n      <td>33</td>\n      <td>goat</td>\n      <td>goat_3</td>\n      <td>7.0</td>\n      <td>goat_4</td>\n      <td>6.0</td>\n    </tr>\n    <tr>\n      <td>34</td>\n      <td>frog</td>\n      <td>frog_1</td>\n      <td>7.0</td>\n      <td>frog_5</td>\n      <td>7.0</td>\n    </tr>\n    <tr>\n      <td>35</td>\n      <td>fish</td>\n      <td>fish_4</td>\n      <td>7.0</td>\n      <td>fish_5</td>\n      <td>7.0</td>\n    </tr>\n    <tr>\n      <td>36</td>\n      <td>elephant</td>\n      <td>elephant_1</td>\n      <td>7.0</td>\n      <td>elephant_2</td>\n      <td>7.0</td>\n    </tr>\n    <tr>\n      <td>37</td>\n      <td>drum</td>\n      <td>drum_2</td>\n      <td>8.0</td>\n      <td>drum_1</td>\n      <td>6.0</td>\n    </tr>\n    <tr>\n      <td>38</td>\n      <td>drill</td>\n      <td>drill_1</td>\n      <td>7.0</td>\n      <td>drill_2</td>\n      <td>7.0</td>\n    </tr>\n    <tr>\n      <td>39</td>\n      <td>door</td>\n      <td>door_1</td>\n      <td>8.0</td>\n      <td>door_5</td>\n      <td>8.0</td>\n    </tr>\n    <tr>\n      <td>40</td>\n      <td>dog</td>\n      <td>dog_2</td>\n      <td>8.0</td>\n      <td>dog_3</td>\n      <td>7.0</td>\n    </tr>\n    <tr>\n      <td>41</td>\n      <td>deer</td>\n      <td>deer_4</td>\n      <td>7.0</td>\n      <td>deer_5</td>\n      <td>7.0</td>\n    </tr>\n    <tr>\n      <td>42</td>\n      <td>cymbal_ride</td>\n      <td>cymbal_ride_2</td>\n      <td>6.0</td>\n      <td>cymbal_ride_5</td>\n      <td>6.0</td>\n    </tr>\n    <tr>\n      <td>43</td>\n      <td>crocodile</td>\n      <td>crocodile_2</td>\n      <td>8.0</td>\n      <td>crocodile_4</td>\n      <td>7.0</td>\n    </tr>\n    <tr>\n      <td>44</td>\n      <td>crab</td>\n      <td>crab_2</td>\n      <td>7.0</td>\n      <td>crab_1</td>\n      <td>6.0</td>\n    </tr>\n    <tr>\n      <td>45</td>\n      <td>cow</td>\n      <td>cow_2</td>\n      <td>8.0</td>\n      <td>cow_4</td>\n      <td>7.0</td>\n    </tr>\n    <tr>\n      <td>46</td>\n      <td>coins</td>\n      <td>coins_1</td>\n      <td>7.0</td>\n      <td>coins_2</td>\n      <td>7.0</td>\n    </tr>\n    <tr>\n      <td>47</td>\n      <td>chicken</td>\n      <td>chicken_1</td>\n      <td>7.0</td>\n      <td>chicken_2</td>\n      <td>7.0</td>\n    </tr>\n    <tr>\n      <td>48</td>\n      <td>cat</td>\n      <td>cat_1</td>\n      <td>7.0</td>\n      <td>cat_2</td>\n      <td>7.0</td>\n    </tr>\n    <tr>\n      <td>49</td>\n      <td>car</td>\n      <td>car_3</td>\n      <td>8.0</td>\n      <td>car_2</td>\n      <td>7.0</td>\n    </tr>\n    <tr>\n      <td>50</td>\n      <td>camera</td>\n      <td>camera_1</td>\n      <td>8.0</td>\n      <td>camera_3</td>\n      <td>8.0</td>\n    </tr>\n    <tr>\n      <td>51</td>\n      <td>camel</td>\n      <td>camel_3</td>\n      <td>7.0</td>\n      <td>camel_4</td>\n      <td>7.0</td>\n    </tr>\n    <tr>\n      <td>52</td>\n      <td>butterfly</td>\n      <td>butterfly_4</td>\n      <td>7.0</td>\n      <td>butterfly_2</td>\n      <td>6.0</td>\n    </tr>\n    <tr>\n      <td>53</td>\n      <td>bus</td>\n      <td>bus_2</td>\n      <td>6.0</td>\n      <td>bus_3</td>\n      <td>6.0</td>\n    </tr>\n    <tr>\n      <td>54</td>\n      <td>boat</td>\n      <td>boat_1</td>\n      <td>7.0</td>\n      <td>boat_2</td>\n      <td>7.0</td>\n    </tr>\n    <tr>\n      <td>55</td>\n      <td>bird</td>\n      <td>bird_1</td>\n      <td>6.0</td>\n      <td>bird_2</td>\n      <td>6.0</td>\n    </tr>\n    <tr>\n      <td>56</td>\n      <td>bicycle</td>\n      <td>bicycle_1</td>\n      <td>7.0</td>\n      <td>bicycle_3</td>\n      <td>7.0</td>\n    </tr>\n    <tr>\n      <td>57</td>\n      <td>bell</td>\n      <td>bell_5</td>\n      <td>7.0</td>\n      <td>bell_2</td>\n      <td>4.0</td>\n    </tr>\n    <tr>\n      <td>58</td>\n      <td>bear</td>\n      <td>bear_1</td>\n      <td>7.0</td>\n      <td>bear_4</td>\n      <td>6.0</td>\n    </tr>\n    <tr>\n      <td>59</td>\n      <td>bat</td>\n      <td>bat_1</td>\n      <td>6.0</td>\n      <td>bat_3</td>\n      <td>5.0</td>\n    </tr>\n  </tbody>\n</table>\n</div>"
     },
     "metadata": {}
    }
   ],
   "source": [
    "stim_df = pd.merge(sorted_df1,sorted_df2, on='object_image', how='right')\n",
    "stim_df = stim_df[['object_image','stim1','response1', 'stim2','response2']]\n",
    "display(stim_df)"
   ]
  },
  {
   "cell_type": "code",
   "execution_count": 96,
   "metadata": {},
   "outputs": [],
   "source": [
    "control_items = ['wrench','whale','walkie','watering_can','tape','shark','salamander','rhino','record_player','radio','rabbit','laptop','fish','crab','coins','camel','butterfly','bus']"
   ]
  },
  {
   "cell_type": "code",
   "execution_count": 97,
   "metadata": {},
   "outputs": [
    {
     "output_type": "execute_result",
     "data": {
      "text/plain": "['wrench',\n 'watering_can',\n 'washer',\n 'walkie',\n 'train',\n 'tape',\n 'stapler',\n 'smartphone',\n 'scissors',\n 'saw',\n 'record_player',\n 'radio',\n 'piano',\n 'motorcycle',\n 'laptop',\n 'keyboard',\n 'jet',\n 'hammer',\n 'guitar',\n 'drum',\n 'drill',\n 'door',\n 'cymbal_ride',\n 'coins',\n 'car',\n 'camera',\n 'bus',\n 'boat',\n 'bicycle',\n 'bell']"
     },
     "metadata": {},
     "execution_count": 97
    }
   ],
   "source": [
    "all_objects = list(stim_df['object_image'])\n",
    "animate = ['wolf', 'whale', 'tiger', 'snake', 'shark', 'salamander', 'rhino', 'rat', 'rabbit', 'pig', 'penguin', 'leopard', 'horse', 'goose', 'goat', 'frog', 'fish', 'elephant', 'dog', 'deer', 'crocodile', 'crab', 'cow', 'chicken', 'cat', 'camel','butterfly','bird','bear','bat']\n",
    "inanimate_df = stim_df[stim_df['object_image'].isin(animate) == False]\n",
    "inanimate = list(inanimate_df['object_image'])\n",
    "inanimate"
   ]
  },
  {
   "cell_type": "code",
   "execution_count": 98,
   "metadata": {},
   "outputs": [
    {
     "output_type": "execute_result",
     "data": {
      "text/plain": "     object_image            stim1  response1            stim2  response2\n0          wrench         wrench_1        6.0         wrench_2        6.0\n2           whale          whale_5        7.0          whale_2        6.0\n3    watering_can   watering_can_1        6.0   watering_can_5        6.0\n5          walkie         walkie_1        7.0         walkie_4        6.0\n8            tape           tape_1        8.0           tape_5        7.0\n12          shark          shark_2        7.0          shark_3        6.0\n15     salamander     salamander_3        7.0     salamander_4        6.0\n16          rhino          rhino_2        7.0          rhino_4        7.0\n17  record_player  record_player_1        8.0  record_player_3        8.0\n19          radio          radio_2        8.0          radio_4        7.0\n20         rabbit         rabbit_2        6.0         rabbit_3        6.0\n26         laptop         laptop_2        7.0         laptop_4        6.0\n35           fish           fish_4        7.0           fish_5        7.0\n44           crab           crab_2        7.0           crab_1        6.0\n46          coins          coins_1        7.0          coins_2        7.0\n51          camel          camel_3        7.0          camel_4        7.0\n52      butterfly      butterfly_4        7.0      butterfly_2        6.0\n53            bus            bus_2        6.0            bus_3        6.0",
      "text/html": "<div>\n<style scoped>\n    .dataframe tbody tr th:only-of-type {\n        vertical-align: middle;\n    }\n\n    .dataframe tbody tr th {\n        vertical-align: top;\n    }\n\n    .dataframe thead th {\n        text-align: right;\n    }\n</style>\n<table border=\"1\" class=\"dataframe\">\n  <thead>\n    <tr style=\"text-align: right;\">\n      <th></th>\n      <th>object_image</th>\n      <th>stim1</th>\n      <th>response1</th>\n      <th>stim2</th>\n      <th>response2</th>\n    </tr>\n  </thead>\n  <tbody>\n    <tr>\n      <td>0</td>\n      <td>wrench</td>\n      <td>wrench_1</td>\n      <td>6.0</td>\n      <td>wrench_2</td>\n      <td>6.0</td>\n    </tr>\n    <tr>\n      <td>2</td>\n      <td>whale</td>\n      <td>whale_5</td>\n      <td>7.0</td>\n      <td>whale_2</td>\n      <td>6.0</td>\n    </tr>\n    <tr>\n      <td>3</td>\n      <td>watering_can</td>\n      <td>watering_can_1</td>\n      <td>6.0</td>\n      <td>watering_can_5</td>\n      <td>6.0</td>\n    </tr>\n    <tr>\n      <td>5</td>\n      <td>walkie</td>\n      <td>walkie_1</td>\n      <td>7.0</td>\n      <td>walkie_4</td>\n      <td>6.0</td>\n    </tr>\n    <tr>\n      <td>8</td>\n      <td>tape</td>\n      <td>tape_1</td>\n      <td>8.0</td>\n      <td>tape_5</td>\n      <td>7.0</td>\n    </tr>\n    <tr>\n      <td>12</td>\n      <td>shark</td>\n      <td>shark_2</td>\n      <td>7.0</td>\n      <td>shark_3</td>\n      <td>6.0</td>\n    </tr>\n    <tr>\n      <td>15</td>\n      <td>salamander</td>\n      <td>salamander_3</td>\n      <td>7.0</td>\n      <td>salamander_4</td>\n      <td>6.0</td>\n    </tr>\n    <tr>\n      <td>16</td>\n      <td>rhino</td>\n      <td>rhino_2</td>\n      <td>7.0</td>\n      <td>rhino_4</td>\n      <td>7.0</td>\n    </tr>\n    <tr>\n      <td>17</td>\n      <td>record_player</td>\n      <td>record_player_1</td>\n      <td>8.0</td>\n      <td>record_player_3</td>\n      <td>8.0</td>\n    </tr>\n    <tr>\n      <td>19</td>\n      <td>radio</td>\n      <td>radio_2</td>\n      <td>8.0</td>\n      <td>radio_4</td>\n      <td>7.0</td>\n    </tr>\n    <tr>\n      <td>20</td>\n      <td>rabbit</td>\n      <td>rabbit_2</td>\n      <td>6.0</td>\n      <td>rabbit_3</td>\n      <td>6.0</td>\n    </tr>\n    <tr>\n      <td>26</td>\n      <td>laptop</td>\n      <td>laptop_2</td>\n      <td>7.0</td>\n      <td>laptop_4</td>\n      <td>6.0</td>\n    </tr>\n    <tr>\n      <td>35</td>\n      <td>fish</td>\n      <td>fish_4</td>\n      <td>7.0</td>\n      <td>fish_5</td>\n      <td>7.0</td>\n    </tr>\n    <tr>\n      <td>44</td>\n      <td>crab</td>\n      <td>crab_2</td>\n      <td>7.0</td>\n      <td>crab_1</td>\n      <td>6.0</td>\n    </tr>\n    <tr>\n      <td>46</td>\n      <td>coins</td>\n      <td>coins_1</td>\n      <td>7.0</td>\n      <td>coins_2</td>\n      <td>7.0</td>\n    </tr>\n    <tr>\n      <td>51</td>\n      <td>camel</td>\n      <td>camel_3</td>\n      <td>7.0</td>\n      <td>camel_4</td>\n      <td>7.0</td>\n    </tr>\n    <tr>\n      <td>52</td>\n      <td>butterfly</td>\n      <td>butterfly_4</td>\n      <td>7.0</td>\n      <td>butterfly_2</td>\n      <td>6.0</td>\n    </tr>\n    <tr>\n      <td>53</td>\n      <td>bus</td>\n      <td>bus_2</td>\n      <td>6.0</td>\n      <td>bus_3</td>\n      <td>6.0</td>\n    </tr>\n  </tbody>\n</table>\n</div>"
     },
     "metadata": {},
     "execution_count": 98
    }
   ],
   "source": [
    "control_images = stim_df[stim_df['object_image'].isin(control_items)]\n",
    "len(control_images)\n",
    "control_images"
   ]
  },
  {
   "cell_type": "code",
   "execution_count": 99,
   "metadata": {},
   "outputs": [
    {
     "output_type": "execute_result",
     "data": {
      "text/plain": "   object_image          stim1  response1          stim2  response2\n0          wolf         wolf_1        7.0         wolf_4        7.0\n1        washer       washer_2        8.0       washer_4        7.0\n2         train        train_1        7.0        train_2        7.0\n3         tiger        tiger_1        6.0        tiger_2        6.0\n4       stapler      stapler_1        8.0      stapler_3        7.0\n5         snake        snake_1        7.0        snake_2        7.0\n6    smartphone   smartphone_2        8.0   smartphone_1        7.0\n7      scissors     scissors_1        7.0     scissors_2        7.0\n8           saw          saw_1        7.0          saw_3        7.0\n9           rat          rat_1        6.0          rat_2        6.0\n10          pig          pig_3        7.0          pig_4        7.0\n11        piano        piano_1        8.0        piano_2        7.0\n12      penguin      penguin_1        7.0      penguin_4        7.0\n13   motorcycle   motorcycle_1        8.0   motorcycle_2        8.0\n14      leopard      leopard_1        7.0      leopard_2        6.0\n15     keyboard     keyboard_2        6.0     keyboard_1        5.0\n16          jet          jet_1        6.0          jet_2        6.0\n17        horse        horse_1        8.0        horse_2        7.0\n18       hammer       hammer_3        7.0       hammer_5        7.0\n19       guitar       guitar_3        7.0       guitar_5        7.0\n20        goose        goose_1        8.0        goose_4        8.0\n21         goat         goat_3        7.0         goat_4        6.0\n22         frog         frog_1        7.0         frog_5        7.0\n23     elephant     elephant_1        7.0     elephant_2        7.0\n24         drum         drum_2        8.0         drum_1        6.0\n25        drill        drill_1        7.0        drill_2        7.0\n26         door         door_1        8.0         door_5        8.0\n27          dog          dog_2        8.0          dog_3        7.0\n28         deer         deer_4        7.0         deer_5        7.0\n29  cymbal_ride  cymbal_ride_2        6.0  cymbal_ride_5        6.0\n30    crocodile    crocodile_2        8.0    crocodile_4        7.0\n31          cow          cow_2        8.0          cow_4        7.0\n32      chicken      chicken_1        7.0      chicken_2        7.0\n33          cat          cat_1        7.0          cat_2        7.0\n34          car          car_3        8.0          car_2        7.0\n35       camera       camera_1        8.0       camera_3        8.0\n36         boat         boat_1        7.0         boat_2        7.0\n37         bird         bird_1        6.0         bird_2        6.0\n38      bicycle      bicycle_1        7.0      bicycle_3        7.0\n39         bell         bell_5        7.0         bell_2        4.0\n40         bear         bear_1        7.0         bear_4        6.0\n41          bat          bat_1        6.0          bat_3        5.0",
      "text/html": "<div>\n<style scoped>\n    .dataframe tbody tr th:only-of-type {\n        vertical-align: middle;\n    }\n\n    .dataframe tbody tr th {\n        vertical-align: top;\n    }\n\n    .dataframe thead th {\n        text-align: right;\n    }\n</style>\n<table border=\"1\" class=\"dataframe\">\n  <thead>\n    <tr style=\"text-align: right;\">\n      <th></th>\n      <th>object_image</th>\n      <th>stim1</th>\n      <th>response1</th>\n      <th>stim2</th>\n      <th>response2</th>\n    </tr>\n  </thead>\n  <tbody>\n    <tr>\n      <td>0</td>\n      <td>wolf</td>\n      <td>wolf_1</td>\n      <td>7.0</td>\n      <td>wolf_4</td>\n      <td>7.0</td>\n    </tr>\n    <tr>\n      <td>1</td>\n      <td>washer</td>\n      <td>washer_2</td>\n      <td>8.0</td>\n      <td>washer_4</td>\n      <td>7.0</td>\n    </tr>\n    <tr>\n      <td>2</td>\n      <td>train</td>\n      <td>train_1</td>\n      <td>7.0</td>\n      <td>train_2</td>\n      <td>7.0</td>\n    </tr>\n    <tr>\n      <td>3</td>\n      <td>tiger</td>\n      <td>tiger_1</td>\n      <td>6.0</td>\n      <td>tiger_2</td>\n      <td>6.0</td>\n    </tr>\n    <tr>\n      <td>4</td>\n      <td>stapler</td>\n      <td>stapler_1</td>\n      <td>8.0</td>\n      <td>stapler_3</td>\n      <td>7.0</td>\n    </tr>\n    <tr>\n      <td>5</td>\n      <td>snake</td>\n      <td>snake_1</td>\n      <td>7.0</td>\n      <td>snake_2</td>\n      <td>7.0</td>\n    </tr>\n    <tr>\n      <td>6</td>\n      <td>smartphone</td>\n      <td>smartphone_2</td>\n      <td>8.0</td>\n      <td>smartphone_1</td>\n      <td>7.0</td>\n    </tr>\n    <tr>\n      <td>7</td>\n      <td>scissors</td>\n      <td>scissors_1</td>\n      <td>7.0</td>\n      <td>scissors_2</td>\n      <td>7.0</td>\n    </tr>\n    <tr>\n      <td>8</td>\n      <td>saw</td>\n      <td>saw_1</td>\n      <td>7.0</td>\n      <td>saw_3</td>\n      <td>7.0</td>\n    </tr>\n    <tr>\n      <td>9</td>\n      <td>rat</td>\n      <td>rat_1</td>\n      <td>6.0</td>\n      <td>rat_2</td>\n      <td>6.0</td>\n    </tr>\n    <tr>\n      <td>10</td>\n      <td>pig</td>\n      <td>pig_3</td>\n      <td>7.0</td>\n      <td>pig_4</td>\n      <td>7.0</td>\n    </tr>\n    <tr>\n      <td>11</td>\n      <td>piano</td>\n      <td>piano_1</td>\n      <td>8.0</td>\n      <td>piano_2</td>\n      <td>7.0</td>\n    </tr>\n    <tr>\n      <td>12</td>\n      <td>penguin</td>\n      <td>penguin_1</td>\n      <td>7.0</td>\n      <td>penguin_4</td>\n      <td>7.0</td>\n    </tr>\n    <tr>\n      <td>13</td>\n      <td>motorcycle</td>\n      <td>motorcycle_1</td>\n      <td>8.0</td>\n      <td>motorcycle_2</td>\n      <td>8.0</td>\n    </tr>\n    <tr>\n      <td>14</td>\n      <td>leopard</td>\n      <td>leopard_1</td>\n      <td>7.0</td>\n      <td>leopard_2</td>\n      <td>6.0</td>\n    </tr>\n    <tr>\n      <td>15</td>\n      <td>keyboard</td>\n      <td>keyboard_2</td>\n      <td>6.0</td>\n      <td>keyboard_1</td>\n      <td>5.0</td>\n    </tr>\n    <tr>\n      <td>16</td>\n      <td>jet</td>\n      <td>jet_1</td>\n      <td>6.0</td>\n      <td>jet_2</td>\n      <td>6.0</td>\n    </tr>\n    <tr>\n      <td>17</td>\n      <td>horse</td>\n      <td>horse_1</td>\n      <td>8.0</td>\n      <td>horse_2</td>\n      <td>7.0</td>\n    </tr>\n    <tr>\n      <td>18</td>\n      <td>hammer</td>\n      <td>hammer_3</td>\n      <td>7.0</td>\n      <td>hammer_5</td>\n      <td>7.0</td>\n    </tr>\n    <tr>\n      <td>19</td>\n      <td>guitar</td>\n      <td>guitar_3</td>\n      <td>7.0</td>\n      <td>guitar_5</td>\n      <td>7.0</td>\n    </tr>\n    <tr>\n      <td>20</td>\n      <td>goose</td>\n      <td>goose_1</td>\n      <td>8.0</td>\n      <td>goose_4</td>\n      <td>8.0</td>\n    </tr>\n    <tr>\n      <td>21</td>\n      <td>goat</td>\n      <td>goat_3</td>\n      <td>7.0</td>\n      <td>goat_4</td>\n      <td>6.0</td>\n    </tr>\n    <tr>\n      <td>22</td>\n      <td>frog</td>\n      <td>frog_1</td>\n      <td>7.0</td>\n      <td>frog_5</td>\n      <td>7.0</td>\n    </tr>\n    <tr>\n      <td>23</td>\n      <td>elephant</td>\n      <td>elephant_1</td>\n      <td>7.0</td>\n      <td>elephant_2</td>\n      <td>7.0</td>\n    </tr>\n    <tr>\n      <td>24</td>\n      <td>drum</td>\n      <td>drum_2</td>\n      <td>8.0</td>\n      <td>drum_1</td>\n      <td>6.0</td>\n    </tr>\n    <tr>\n      <td>25</td>\n      <td>drill</td>\n      <td>drill_1</td>\n      <td>7.0</td>\n      <td>drill_2</td>\n      <td>7.0</td>\n    </tr>\n    <tr>\n      <td>26</td>\n      <td>door</td>\n      <td>door_1</td>\n      <td>8.0</td>\n      <td>door_5</td>\n      <td>8.0</td>\n    </tr>\n    <tr>\n      <td>27</td>\n      <td>dog</td>\n      <td>dog_2</td>\n      <td>8.0</td>\n      <td>dog_3</td>\n      <td>7.0</td>\n    </tr>\n    <tr>\n      <td>28</td>\n      <td>deer</td>\n      <td>deer_4</td>\n      <td>7.0</td>\n      <td>deer_5</td>\n      <td>7.0</td>\n    </tr>\n    <tr>\n      <td>29</td>\n      <td>cymbal_ride</td>\n      <td>cymbal_ride_2</td>\n      <td>6.0</td>\n      <td>cymbal_ride_5</td>\n      <td>6.0</td>\n    </tr>\n    <tr>\n      <td>30</td>\n      <td>crocodile</td>\n      <td>crocodile_2</td>\n      <td>8.0</td>\n      <td>crocodile_4</td>\n      <td>7.0</td>\n    </tr>\n    <tr>\n      <td>31</td>\n      <td>cow</td>\n      <td>cow_2</td>\n      <td>8.0</td>\n      <td>cow_4</td>\n      <td>7.0</td>\n    </tr>\n    <tr>\n      <td>32</td>\n      <td>chicken</td>\n      <td>chicken_1</td>\n      <td>7.0</td>\n      <td>chicken_2</td>\n      <td>7.0</td>\n    </tr>\n    <tr>\n      <td>33</td>\n      <td>cat</td>\n      <td>cat_1</td>\n      <td>7.0</td>\n      <td>cat_2</td>\n      <td>7.0</td>\n    </tr>\n    <tr>\n      <td>34</td>\n      <td>car</td>\n      <td>car_3</td>\n      <td>8.0</td>\n      <td>car_2</td>\n      <td>7.0</td>\n    </tr>\n    <tr>\n      <td>35</td>\n      <td>camera</td>\n      <td>camera_1</td>\n      <td>8.0</td>\n      <td>camera_3</td>\n      <td>8.0</td>\n    </tr>\n    <tr>\n      <td>36</td>\n      <td>boat</td>\n      <td>boat_1</td>\n      <td>7.0</td>\n      <td>boat_2</td>\n      <td>7.0</td>\n    </tr>\n    <tr>\n      <td>37</td>\n      <td>bird</td>\n      <td>bird_1</td>\n      <td>6.0</td>\n      <td>bird_2</td>\n      <td>6.0</td>\n    </tr>\n    <tr>\n      <td>38</td>\n      <td>bicycle</td>\n      <td>bicycle_1</td>\n      <td>7.0</td>\n      <td>bicycle_3</td>\n      <td>7.0</td>\n    </tr>\n    <tr>\n      <td>39</td>\n      <td>bell</td>\n      <td>bell_5</td>\n      <td>7.0</td>\n      <td>bell_2</td>\n      <td>4.0</td>\n    </tr>\n    <tr>\n      <td>40</td>\n      <td>bear</td>\n      <td>bear_1</td>\n      <td>7.0</td>\n      <td>bear_4</td>\n      <td>6.0</td>\n    </tr>\n    <tr>\n      <td>41</td>\n      <td>bat</td>\n      <td>bat_1</td>\n      <td>6.0</td>\n      <td>bat_3</td>\n      <td>5.0</td>\n    </tr>\n  </tbody>\n</table>\n</div>"
     },
     "metadata": {},
     "execution_count": 99
    }
   ],
   "source": [
    "use_images = stim_df[stim_df['object_image'].isin(control_items) == False]\n",
    "use_images=use_images.reset_index(drop=True)\n",
    "use_images"
   ]
  },
  {
   "cell_type": "markdown",
   "metadata": {},
   "source": [
    "Make an encoding df, then make a retrieval df, concat the dfs, make one all the way through then make the others.\n",
    "enc: I can subset this into 3 dfs, add the sounds into each, then concat them back together. Each one of these dfs will be each condition. I want 7 of each level of animacy, so I can first subset into 2 dfs based on animacy, then add 7 cols from each animacy df to df1, then df2, then df3. "
   ]
  },
  {
   "cell_type": "markdown",
   "metadata": {},
   "source": [
    "# Counterbalancing conditions"
   ]
  },
  {
   "cell_type": "code",
   "execution_count": 111,
   "metadata": {},
   "outputs": [
    {
     "output_type": "execute_result",
     "data": {
      "text/plain": "    image_shown          stim1    animacy\n0          wolf         wolf_1    animate\n1        washer       washer_2  inanimate\n2         train        train_1  inanimate\n3         tiger        tiger_1    animate\n4       stapler      stapler_1  inanimate\n5         snake        snake_1    animate\n6    smartphone   smartphone_2  inanimate\n7      scissors     scissors_1  inanimate\n8           saw          saw_1  inanimate\n9           rat          rat_1    animate\n10          pig          pig_3    animate\n11        piano        piano_1  inanimate\n12      penguin      penguin_1    animate\n13   motorcycle   motorcycle_1  inanimate\n14      leopard      leopard_1    animate\n15     keyboard     keyboard_2  inanimate\n16          jet          jet_1  inanimate\n17        horse        horse_1    animate\n18       hammer       hammer_3  inanimate\n19       guitar       guitar_3  inanimate\n20        goose        goose_1    animate\n21         goat         goat_3    animate\n22         frog         frog_1    animate\n23     elephant     elephant_1    animate\n24         drum         drum_2  inanimate\n25        drill        drill_1  inanimate\n26         door         door_1  inanimate\n27          dog          dog_2    animate\n28         deer         deer_4    animate\n29  cymbal_ride  cymbal_ride_2  inanimate\n30    crocodile    crocodile_2    animate\n31          cow          cow_2    animate\n32      chicken      chicken_1    animate\n33          cat          cat_1    animate\n34          car          car_3  inanimate\n35       camera       camera_1  inanimate\n36         boat         boat_1  inanimate\n37         bird         bird_1    animate\n38      bicycle      bicycle_1  inanimate\n39         bell         bell_5  inanimate\n40         bear         bear_1    animate\n41          bat          bat_1    animate",
      "text/html": "<div>\n<style scoped>\n    .dataframe tbody tr th:only-of-type {\n        vertical-align: middle;\n    }\n\n    .dataframe tbody tr th {\n        vertical-align: top;\n    }\n\n    .dataframe thead th {\n        text-align: right;\n    }\n</style>\n<table border=\"1\" class=\"dataframe\">\n  <thead>\n    <tr style=\"text-align: right;\">\n      <th></th>\n      <th>image_shown</th>\n      <th>stim1</th>\n      <th>animacy</th>\n    </tr>\n  </thead>\n  <tbody>\n    <tr>\n      <td>0</td>\n      <td>wolf</td>\n      <td>wolf_1</td>\n      <td>animate</td>\n    </tr>\n    <tr>\n      <td>1</td>\n      <td>washer</td>\n      <td>washer_2</td>\n      <td>inanimate</td>\n    </tr>\n    <tr>\n      <td>2</td>\n      <td>train</td>\n      <td>train_1</td>\n      <td>inanimate</td>\n    </tr>\n    <tr>\n      <td>3</td>\n      <td>tiger</td>\n      <td>tiger_1</td>\n      <td>animate</td>\n    </tr>\n    <tr>\n      <td>4</td>\n      <td>stapler</td>\n      <td>stapler_1</td>\n      <td>inanimate</td>\n    </tr>\n    <tr>\n      <td>5</td>\n      <td>snake</td>\n      <td>snake_1</td>\n      <td>animate</td>\n    </tr>\n    <tr>\n      <td>6</td>\n      <td>smartphone</td>\n      <td>smartphone_2</td>\n      <td>inanimate</td>\n    </tr>\n    <tr>\n      <td>7</td>\n      <td>scissors</td>\n      <td>scissors_1</td>\n      <td>inanimate</td>\n    </tr>\n    <tr>\n      <td>8</td>\n      <td>saw</td>\n      <td>saw_1</td>\n      <td>inanimate</td>\n    </tr>\n    <tr>\n      <td>9</td>\n      <td>rat</td>\n      <td>rat_1</td>\n      <td>animate</td>\n    </tr>\n    <tr>\n      <td>10</td>\n      <td>pig</td>\n      <td>pig_3</td>\n      <td>animate</td>\n    </tr>\n    <tr>\n      <td>11</td>\n      <td>piano</td>\n      <td>piano_1</td>\n      <td>inanimate</td>\n    </tr>\n    <tr>\n      <td>12</td>\n      <td>penguin</td>\n      <td>penguin_1</td>\n      <td>animate</td>\n    </tr>\n    <tr>\n      <td>13</td>\n      <td>motorcycle</td>\n      <td>motorcycle_1</td>\n      <td>inanimate</td>\n    </tr>\n    <tr>\n      <td>14</td>\n      <td>leopard</td>\n      <td>leopard_1</td>\n      <td>animate</td>\n    </tr>\n    <tr>\n      <td>15</td>\n      <td>keyboard</td>\n      <td>keyboard_2</td>\n      <td>inanimate</td>\n    </tr>\n    <tr>\n      <td>16</td>\n      <td>jet</td>\n      <td>jet_1</td>\n      <td>inanimate</td>\n    </tr>\n    <tr>\n      <td>17</td>\n      <td>horse</td>\n      <td>horse_1</td>\n      <td>animate</td>\n    </tr>\n    <tr>\n      <td>18</td>\n      <td>hammer</td>\n      <td>hammer_3</td>\n      <td>inanimate</td>\n    </tr>\n    <tr>\n      <td>19</td>\n      <td>guitar</td>\n      <td>guitar_3</td>\n      <td>inanimate</td>\n    </tr>\n    <tr>\n      <td>20</td>\n      <td>goose</td>\n      <td>goose_1</td>\n      <td>animate</td>\n    </tr>\n    <tr>\n      <td>21</td>\n      <td>goat</td>\n      <td>goat_3</td>\n      <td>animate</td>\n    </tr>\n    <tr>\n      <td>22</td>\n      <td>frog</td>\n      <td>frog_1</td>\n      <td>animate</td>\n    </tr>\n    <tr>\n      <td>23</td>\n      <td>elephant</td>\n      <td>elephant_1</td>\n      <td>animate</td>\n    </tr>\n    <tr>\n      <td>24</td>\n      <td>drum</td>\n      <td>drum_2</td>\n      <td>inanimate</td>\n    </tr>\n    <tr>\n      <td>25</td>\n      <td>drill</td>\n      <td>drill_1</td>\n      <td>inanimate</td>\n    </tr>\n    <tr>\n      <td>26</td>\n      <td>door</td>\n      <td>door_1</td>\n      <td>inanimate</td>\n    </tr>\n    <tr>\n      <td>27</td>\n      <td>dog</td>\n      <td>dog_2</td>\n      <td>animate</td>\n    </tr>\n    <tr>\n      <td>28</td>\n      <td>deer</td>\n      <td>deer_4</td>\n      <td>animate</td>\n    </tr>\n    <tr>\n      <td>29</td>\n      <td>cymbal_ride</td>\n      <td>cymbal_ride_2</td>\n      <td>inanimate</td>\n    </tr>\n    <tr>\n      <td>30</td>\n      <td>crocodile</td>\n      <td>crocodile_2</td>\n      <td>animate</td>\n    </tr>\n    <tr>\n      <td>31</td>\n      <td>cow</td>\n      <td>cow_2</td>\n      <td>animate</td>\n    </tr>\n    <tr>\n      <td>32</td>\n      <td>chicken</td>\n      <td>chicken_1</td>\n      <td>animate</td>\n    </tr>\n    <tr>\n      <td>33</td>\n      <td>cat</td>\n      <td>cat_1</td>\n      <td>animate</td>\n    </tr>\n    <tr>\n      <td>34</td>\n      <td>car</td>\n      <td>car_3</td>\n      <td>inanimate</td>\n    </tr>\n    <tr>\n      <td>35</td>\n      <td>camera</td>\n      <td>camera_1</td>\n      <td>inanimate</td>\n    </tr>\n    <tr>\n      <td>36</td>\n      <td>boat</td>\n      <td>boat_1</td>\n      <td>inanimate</td>\n    </tr>\n    <tr>\n      <td>37</td>\n      <td>bird</td>\n      <td>bird_1</td>\n      <td>animate</td>\n    </tr>\n    <tr>\n      <td>38</td>\n      <td>bicycle</td>\n      <td>bicycle_1</td>\n      <td>inanimate</td>\n    </tr>\n    <tr>\n      <td>39</td>\n      <td>bell</td>\n      <td>bell_5</td>\n      <td>inanimate</td>\n    </tr>\n    <tr>\n      <td>40</td>\n      <td>bear</td>\n      <td>bear_1</td>\n      <td>animate</td>\n    </tr>\n    <tr>\n      <td>41</td>\n      <td>bat</td>\n      <td>bat_1</td>\n      <td>animate</td>\n    </tr>\n  </tbody>\n</table>\n</div>"
     },
     "metadata": {},
     "execution_count": 111
    }
   ],
   "source": [
    "np.random.seed(123)\n",
    "enc = pd.DataFrame()\n",
    "enc['image_shown'] = use_images['object_image']\n",
    "enc['stim1'] = use_images['stim1']\n",
    "enc['animacy'] = enc['image_shown'].isin(animate)\n",
    "enc['animacy'] = enc['animacy'].replace({True: 'animate', False: 'inanimate'})\n",
    "#enc = enc.sample(frac = 1)\n",
    "enc = enc.reset_index(drop=True)\n",
    "enc"
   ]
  },
  {
   "cell_type": "code",
   "execution_count": 117,
   "metadata": {},
   "outputs": [
    {
     "output_type": "execute_result",
     "data": {
      "text/plain": "   image_shown        stim1  animacy\n0         wolf       wolf_1  animate\n1        tiger      tiger_1  animate\n2        snake      snake_1  animate\n3          rat        rat_1  animate\n4          pig        pig_3  animate\n5      penguin    penguin_1  animate\n6      leopard    leopard_1  animate\n7        horse      horse_1  animate\n8        goose      goose_1  animate\n9         goat       goat_3  animate\n10        frog       frog_1  animate\n11    elephant   elephant_1  animate\n12         dog        dog_2  animate\n13        deer       deer_4  animate\n14   crocodile  crocodile_2  animate\n15         cow        cow_2  animate\n16     chicken    chicken_1  animate\n17         cat        cat_1  animate\n18        bird       bird_1  animate\n19        bear       bear_1  animate\n20         bat        bat_1  animate",
      "text/html": "<div>\n<style scoped>\n    .dataframe tbody tr th:only-of-type {\n        vertical-align: middle;\n    }\n\n    .dataframe tbody tr th {\n        vertical-align: top;\n    }\n\n    .dataframe thead th {\n        text-align: right;\n    }\n</style>\n<table border=\"1\" class=\"dataframe\">\n  <thead>\n    <tr style=\"text-align: right;\">\n      <th></th>\n      <th>image_shown</th>\n      <th>stim1</th>\n      <th>animacy</th>\n    </tr>\n  </thead>\n  <tbody>\n    <tr>\n      <td>0</td>\n      <td>wolf</td>\n      <td>wolf_1</td>\n      <td>animate</td>\n    </tr>\n    <tr>\n      <td>1</td>\n      <td>tiger</td>\n      <td>tiger_1</td>\n      <td>animate</td>\n    </tr>\n    <tr>\n      <td>2</td>\n      <td>snake</td>\n      <td>snake_1</td>\n      <td>animate</td>\n    </tr>\n    <tr>\n      <td>3</td>\n      <td>rat</td>\n      <td>rat_1</td>\n      <td>animate</td>\n    </tr>\n    <tr>\n      <td>4</td>\n      <td>pig</td>\n      <td>pig_3</td>\n      <td>animate</td>\n    </tr>\n    <tr>\n      <td>5</td>\n      <td>penguin</td>\n      <td>penguin_1</td>\n      <td>animate</td>\n    </tr>\n    <tr>\n      <td>6</td>\n      <td>leopard</td>\n      <td>leopard_1</td>\n      <td>animate</td>\n    </tr>\n    <tr>\n      <td>7</td>\n      <td>horse</td>\n      <td>horse_1</td>\n      <td>animate</td>\n    </tr>\n    <tr>\n      <td>8</td>\n      <td>goose</td>\n      <td>goose_1</td>\n      <td>animate</td>\n    </tr>\n    <tr>\n      <td>9</td>\n      <td>goat</td>\n      <td>goat_3</td>\n      <td>animate</td>\n    </tr>\n    <tr>\n      <td>10</td>\n      <td>frog</td>\n      <td>frog_1</td>\n      <td>animate</td>\n    </tr>\n    <tr>\n      <td>11</td>\n      <td>elephant</td>\n      <td>elephant_1</td>\n      <td>animate</td>\n    </tr>\n    <tr>\n      <td>12</td>\n      <td>dog</td>\n      <td>dog_2</td>\n      <td>animate</td>\n    </tr>\n    <tr>\n      <td>13</td>\n      <td>deer</td>\n      <td>deer_4</td>\n      <td>animate</td>\n    </tr>\n    <tr>\n      <td>14</td>\n      <td>crocodile</td>\n      <td>crocodile_2</td>\n      <td>animate</td>\n    </tr>\n    <tr>\n      <td>15</td>\n      <td>cow</td>\n      <td>cow_2</td>\n      <td>animate</td>\n    </tr>\n    <tr>\n      <td>16</td>\n      <td>chicken</td>\n      <td>chicken_1</td>\n      <td>animate</td>\n    </tr>\n    <tr>\n      <td>17</td>\n      <td>cat</td>\n      <td>cat_1</td>\n      <td>animate</td>\n    </tr>\n    <tr>\n      <td>18</td>\n      <td>bird</td>\n      <td>bird_1</td>\n      <td>animate</td>\n    </tr>\n    <tr>\n      <td>19</td>\n      <td>bear</td>\n      <td>bear_1</td>\n      <td>animate</td>\n    </tr>\n    <tr>\n      <td>20</td>\n      <td>bat</td>\n      <td>bat_1</td>\n      <td>animate</td>\n    </tr>\n  </tbody>\n</table>\n</div>"
     },
     "metadata": {},
     "execution_count": 117
    }
   ],
   "source": [
    "anim_df = enc[enc['animacy']=='animate']\n",
    "anim_df = anim_df.reset_index(drop=True)\n",
    "inanim_df = enc[enc['animacy']=='inanimate']\n",
    "inanim_df = inanim_df.reset_index(drop=True)\n",
    "anim_df"
   ]
  },
  {
   "cell_type": "code",
   "execution_count": 118,
   "metadata": {},
   "outputs": [
    {
     "output_type": "execute_result",
     "data": {
      "text/plain": "    image_shown          stim1    animacy\n0        washer       washer_2  inanimate\n1         train        train_1  inanimate\n2       stapler      stapler_1  inanimate\n3    smartphone   smartphone_2  inanimate\n4      scissors     scissors_1  inanimate\n5           saw          saw_1  inanimate\n6         piano        piano_1  inanimate\n7    motorcycle   motorcycle_1  inanimate\n8      keyboard     keyboard_2  inanimate\n9           jet          jet_1  inanimate\n10       hammer       hammer_3  inanimate\n11       guitar       guitar_3  inanimate\n12         drum         drum_2  inanimate\n13        drill        drill_1  inanimate\n14         door         door_1  inanimate\n15  cymbal_ride  cymbal_ride_2  inanimate\n16          car          car_3  inanimate\n17       camera       camera_1  inanimate\n18         boat         boat_1  inanimate\n19      bicycle      bicycle_1  inanimate\n20         bell         bell_5  inanimate",
      "text/html": "<div>\n<style scoped>\n    .dataframe tbody tr th:only-of-type {\n        vertical-align: middle;\n    }\n\n    .dataframe tbody tr th {\n        vertical-align: top;\n    }\n\n    .dataframe thead th {\n        text-align: right;\n    }\n</style>\n<table border=\"1\" class=\"dataframe\">\n  <thead>\n    <tr style=\"text-align: right;\">\n      <th></th>\n      <th>image_shown</th>\n      <th>stim1</th>\n      <th>animacy</th>\n    </tr>\n  </thead>\n  <tbody>\n    <tr>\n      <td>0</td>\n      <td>washer</td>\n      <td>washer_2</td>\n      <td>inanimate</td>\n    </tr>\n    <tr>\n      <td>1</td>\n      <td>train</td>\n      <td>train_1</td>\n      <td>inanimate</td>\n    </tr>\n    <tr>\n      <td>2</td>\n      <td>stapler</td>\n      <td>stapler_1</td>\n      <td>inanimate</td>\n    </tr>\n    <tr>\n      <td>3</td>\n      <td>smartphone</td>\n      <td>smartphone_2</td>\n      <td>inanimate</td>\n    </tr>\n    <tr>\n      <td>4</td>\n      <td>scissors</td>\n      <td>scissors_1</td>\n      <td>inanimate</td>\n    </tr>\n    <tr>\n      <td>5</td>\n      <td>saw</td>\n      <td>saw_1</td>\n      <td>inanimate</td>\n    </tr>\n    <tr>\n      <td>6</td>\n      <td>piano</td>\n      <td>piano_1</td>\n      <td>inanimate</td>\n    </tr>\n    <tr>\n      <td>7</td>\n      <td>motorcycle</td>\n      <td>motorcycle_1</td>\n      <td>inanimate</td>\n    </tr>\n    <tr>\n      <td>8</td>\n      <td>keyboard</td>\n      <td>keyboard_2</td>\n      <td>inanimate</td>\n    </tr>\n    <tr>\n      <td>9</td>\n      <td>jet</td>\n      <td>jet_1</td>\n      <td>inanimate</td>\n    </tr>\n    <tr>\n      <td>10</td>\n      <td>hammer</td>\n      <td>hammer_3</td>\n      <td>inanimate</td>\n    </tr>\n    <tr>\n      <td>11</td>\n      <td>guitar</td>\n      <td>guitar_3</td>\n      <td>inanimate</td>\n    </tr>\n    <tr>\n      <td>12</td>\n      <td>drum</td>\n      <td>drum_2</td>\n      <td>inanimate</td>\n    </tr>\n    <tr>\n      <td>13</td>\n      <td>drill</td>\n      <td>drill_1</td>\n      <td>inanimate</td>\n    </tr>\n    <tr>\n      <td>14</td>\n      <td>door</td>\n      <td>door_1</td>\n      <td>inanimate</td>\n    </tr>\n    <tr>\n      <td>15</td>\n      <td>cymbal_ride</td>\n      <td>cymbal_ride_2</td>\n      <td>inanimate</td>\n    </tr>\n    <tr>\n      <td>16</td>\n      <td>car</td>\n      <td>car_3</td>\n      <td>inanimate</td>\n    </tr>\n    <tr>\n      <td>17</td>\n      <td>camera</td>\n      <td>camera_1</td>\n      <td>inanimate</td>\n    </tr>\n    <tr>\n      <td>18</td>\n      <td>boat</td>\n      <td>boat_1</td>\n      <td>inanimate</td>\n    </tr>\n    <tr>\n      <td>19</td>\n      <td>bicycle</td>\n      <td>bicycle_1</td>\n      <td>inanimate</td>\n    </tr>\n    <tr>\n      <td>20</td>\n      <td>bell</td>\n      <td>bell_5</td>\n      <td>inanimate</td>\n    </tr>\n  </tbody>\n</table>\n</div>"
     },
     "metadata": {},
     "execution_count": 118
    }
   ],
   "source": [
    "inanim_df"
   ]
  },
  {
   "cell_type": "code",
   "execution_count": 119,
   "metadata": {},
   "outputs": [],
   "source": [
    "group1 = anim_df[0:7].append(inanim_df[0:7])\n",
    "group2 = anim_df[7:14].append(inanim_df[7:14])\n",
    "group3 = anim_df[14:].append(inanim_df[14:])"
   ]
  },
  {
   "cell_type": "code",
   "execution_count": 125,
   "metadata": {},
   "outputs": [
    {
     "output_type": "execute_result",
     "data": {
      "text/plain": "14"
     },
     "metadata": {},
     "execution_count": 125
    }
   ],
   "source": [
    "len(group3)"
   ]
  },
  {
   "cell_type": "code",
   "execution_count": 126,
   "metadata": {},
   "outputs": [
    {
     "output_type": "execute_result",
     "data": {
      "text/plain": "   image_shown         stim1    animacy\n7        horse       horse_1    animate\n8        goose       goose_1    animate\n9         goat        goat_3    animate\n10        frog        frog_1    animate\n11    elephant    elephant_1    animate\n12         dog         dog_2    animate\n13        deer        deer_4    animate\n7   motorcycle  motorcycle_1  inanimate\n8     keyboard    keyboard_2  inanimate\n9          jet         jet_1  inanimate\n10      hammer      hammer_3  inanimate\n11      guitar      guitar_3  inanimate\n12        drum        drum_2  inanimate\n13       drill       drill_1  inanimate",
      "text/html": "<div>\n<style scoped>\n    .dataframe tbody tr th:only-of-type {\n        vertical-align: middle;\n    }\n\n    .dataframe tbody tr th {\n        vertical-align: top;\n    }\n\n    .dataframe thead th {\n        text-align: right;\n    }\n</style>\n<table border=\"1\" class=\"dataframe\">\n  <thead>\n    <tr style=\"text-align: right;\">\n      <th></th>\n      <th>image_shown</th>\n      <th>stim1</th>\n      <th>animacy</th>\n    </tr>\n  </thead>\n  <tbody>\n    <tr>\n      <td>7</td>\n      <td>horse</td>\n      <td>horse_1</td>\n      <td>animate</td>\n    </tr>\n    <tr>\n      <td>8</td>\n      <td>goose</td>\n      <td>goose_1</td>\n      <td>animate</td>\n    </tr>\n    <tr>\n      <td>9</td>\n      <td>goat</td>\n      <td>goat_3</td>\n      <td>animate</td>\n    </tr>\n    <tr>\n      <td>10</td>\n      <td>frog</td>\n      <td>frog_1</td>\n      <td>animate</td>\n    </tr>\n    <tr>\n      <td>11</td>\n      <td>elephant</td>\n      <td>elephant_1</td>\n      <td>animate</td>\n    </tr>\n    <tr>\n      <td>12</td>\n      <td>dog</td>\n      <td>dog_2</td>\n      <td>animate</td>\n    </tr>\n    <tr>\n      <td>13</td>\n      <td>deer</td>\n      <td>deer_4</td>\n      <td>animate</td>\n    </tr>\n    <tr>\n      <td>7</td>\n      <td>motorcycle</td>\n      <td>motorcycle_1</td>\n      <td>inanimate</td>\n    </tr>\n    <tr>\n      <td>8</td>\n      <td>keyboard</td>\n      <td>keyboard_2</td>\n      <td>inanimate</td>\n    </tr>\n    <tr>\n      <td>9</td>\n      <td>jet</td>\n      <td>jet_1</td>\n      <td>inanimate</td>\n    </tr>\n    <tr>\n      <td>10</td>\n      <td>hammer</td>\n      <td>hammer_3</td>\n      <td>inanimate</td>\n    </tr>\n    <tr>\n      <td>11</td>\n      <td>guitar</td>\n      <td>guitar_3</td>\n      <td>inanimate</td>\n    </tr>\n    <tr>\n      <td>12</td>\n      <td>drum</td>\n      <td>drum_2</td>\n      <td>inanimate</td>\n    </tr>\n    <tr>\n      <td>13</td>\n      <td>drill</td>\n      <td>drill_1</td>\n      <td>inanimate</td>\n    </tr>\n  </tbody>\n</table>\n</div>"
     },
     "metadata": {},
     "execution_count": 126
    }
   ],
   "source": [
    "group2"
   ]
  },
  {
   "cell_type": "code",
   "execution_count": 127,
   "metadata": {},
   "outputs": [
    {
     "output_type": "execute_result",
     "data": {
      "text/plain": "    image_shown          stim1    animacy\n14    crocodile    crocodile_2    animate\n15          cow          cow_2    animate\n16      chicken      chicken_1    animate\n17          cat          cat_1    animate\n18         bird         bird_1    animate\n19         bear         bear_1    animate\n20          bat          bat_1    animate\n14         door         door_1  inanimate\n15  cymbal_ride  cymbal_ride_2  inanimate\n16          car          car_3  inanimate\n17       camera       camera_1  inanimate\n18         boat         boat_1  inanimate\n19      bicycle      bicycle_1  inanimate\n20         bell         bell_5  inanimate",
      "text/html": "<div>\n<style scoped>\n    .dataframe tbody tr th:only-of-type {\n        vertical-align: middle;\n    }\n\n    .dataframe tbody tr th {\n        vertical-align: top;\n    }\n\n    .dataframe thead th {\n        text-align: right;\n    }\n</style>\n<table border=\"1\" class=\"dataframe\">\n  <thead>\n    <tr style=\"text-align: right;\">\n      <th></th>\n      <th>image_shown</th>\n      <th>stim1</th>\n      <th>animacy</th>\n    </tr>\n  </thead>\n  <tbody>\n    <tr>\n      <td>14</td>\n      <td>crocodile</td>\n      <td>crocodile_2</td>\n      <td>animate</td>\n    </tr>\n    <tr>\n      <td>15</td>\n      <td>cow</td>\n      <td>cow_2</td>\n      <td>animate</td>\n    </tr>\n    <tr>\n      <td>16</td>\n      <td>chicken</td>\n      <td>chicken_1</td>\n      <td>animate</td>\n    </tr>\n    <tr>\n      <td>17</td>\n      <td>cat</td>\n      <td>cat_1</td>\n      <td>animate</td>\n    </tr>\n    <tr>\n      <td>18</td>\n      <td>bird</td>\n      <td>bird_1</td>\n      <td>animate</td>\n    </tr>\n    <tr>\n      <td>19</td>\n      <td>bear</td>\n      <td>bear_1</td>\n      <td>animate</td>\n    </tr>\n    <tr>\n      <td>20</td>\n      <td>bat</td>\n      <td>bat_1</td>\n      <td>animate</td>\n    </tr>\n    <tr>\n      <td>14</td>\n      <td>door</td>\n      <td>door_1</td>\n      <td>inanimate</td>\n    </tr>\n    <tr>\n      <td>15</td>\n      <td>cymbal_ride</td>\n      <td>cymbal_ride_2</td>\n      <td>inanimate</td>\n    </tr>\n    <tr>\n      <td>16</td>\n      <td>car</td>\n      <td>car_3</td>\n      <td>inanimate</td>\n    </tr>\n    <tr>\n      <td>17</td>\n      <td>camera</td>\n      <td>camera_1</td>\n      <td>inanimate</td>\n    </tr>\n    <tr>\n      <td>18</td>\n      <td>boat</td>\n      <td>boat_1</td>\n      <td>inanimate</td>\n    </tr>\n    <tr>\n      <td>19</td>\n      <td>bicycle</td>\n      <td>bicycle_1</td>\n      <td>inanimate</td>\n    </tr>\n    <tr>\n      <td>20</td>\n      <td>bell</td>\n      <td>bell_5</td>\n      <td>inanimate</td>\n    </tr>\n  </tbody>\n</table>\n</div>"
     },
     "metadata": {},
     "execution_count": 127
    }
   ],
   "source": [
    "group3"
   ]
  },
  {
   "cell_type": "markdown",
   "metadata": {},
   "source": [
    "## Congruent"
   ]
  },
  {
   "cell_type": "code",
   "execution_count": 128,
   "metadata": {},
   "outputs": [
    {
     "output_type": "execute_result",
     "data": {
      "text/plain": "  image_shown         stim1    animacy  condition            audio\n0        wolf        wolf_1    animate  congruent        wolfA.mp3\n1       tiger       tiger_1    animate  congruent       tigerA.mp3\n2       snake       snake_1    animate  congruent       snakeA.mp3\n3         rat         rat_1    animate  congruent         ratA.mp3\n4         pig         pig_3    animate  congruent         pigA.mp3\n5     penguin     penguin_1    animate  congruent     penguinA.mp3\n6     leopard     leopard_1    animate  congruent     leopardA.mp3\n0      washer      washer_2  inanimate  congruent      washerA.mp3\n1       train       train_1  inanimate  congruent       trainA.mp3\n2     stapler     stapler_1  inanimate  congruent     staplerA.mp3\n3  smartphone  smartphone_2  inanimate  congruent  smartphoneA.mp3\n4    scissors    scissors_1  inanimate  congruent    scissorsA.mp3\n5         saw         saw_1  inanimate  congruent         sawA.mp3\n6       piano       piano_1  inanimate  congruent       pianoA.mp3",
      "text/html": "<div>\n<style scoped>\n    .dataframe tbody tr th:only-of-type {\n        vertical-align: middle;\n    }\n\n    .dataframe tbody tr th {\n        vertical-align: top;\n    }\n\n    .dataframe thead th {\n        text-align: right;\n    }\n</style>\n<table border=\"1\" class=\"dataframe\">\n  <thead>\n    <tr style=\"text-align: right;\">\n      <th></th>\n      <th>image_shown</th>\n      <th>stim1</th>\n      <th>animacy</th>\n      <th>condition</th>\n      <th>audio</th>\n    </tr>\n  </thead>\n  <tbody>\n    <tr>\n      <td>0</td>\n      <td>wolf</td>\n      <td>wolf_1</td>\n      <td>animate</td>\n      <td>congruent</td>\n      <td>wolfA.mp3</td>\n    </tr>\n    <tr>\n      <td>1</td>\n      <td>tiger</td>\n      <td>tiger_1</td>\n      <td>animate</td>\n      <td>congruent</td>\n      <td>tigerA.mp3</td>\n    </tr>\n    <tr>\n      <td>2</td>\n      <td>snake</td>\n      <td>snake_1</td>\n      <td>animate</td>\n      <td>congruent</td>\n      <td>snakeA.mp3</td>\n    </tr>\n    <tr>\n      <td>3</td>\n      <td>rat</td>\n      <td>rat_1</td>\n      <td>animate</td>\n      <td>congruent</td>\n      <td>ratA.mp3</td>\n    </tr>\n    <tr>\n      <td>4</td>\n      <td>pig</td>\n      <td>pig_3</td>\n      <td>animate</td>\n      <td>congruent</td>\n      <td>pigA.mp3</td>\n    </tr>\n    <tr>\n      <td>5</td>\n      <td>penguin</td>\n      <td>penguin_1</td>\n      <td>animate</td>\n      <td>congruent</td>\n      <td>penguinA.mp3</td>\n    </tr>\n    <tr>\n      <td>6</td>\n      <td>leopard</td>\n      <td>leopard_1</td>\n      <td>animate</td>\n      <td>congruent</td>\n      <td>leopardA.mp3</td>\n    </tr>\n    <tr>\n      <td>0</td>\n      <td>washer</td>\n      <td>washer_2</td>\n      <td>inanimate</td>\n      <td>congruent</td>\n      <td>washerA.mp3</td>\n    </tr>\n    <tr>\n      <td>1</td>\n      <td>train</td>\n      <td>train_1</td>\n      <td>inanimate</td>\n      <td>congruent</td>\n      <td>trainA.mp3</td>\n    </tr>\n    <tr>\n      <td>2</td>\n      <td>stapler</td>\n      <td>stapler_1</td>\n      <td>inanimate</td>\n      <td>congruent</td>\n      <td>staplerA.mp3</td>\n    </tr>\n    <tr>\n      <td>3</td>\n      <td>smartphone</td>\n      <td>smartphone_2</td>\n      <td>inanimate</td>\n      <td>congruent</td>\n      <td>smartphoneA.mp3</td>\n    </tr>\n    <tr>\n      <td>4</td>\n      <td>scissors</td>\n      <td>scissors_1</td>\n      <td>inanimate</td>\n      <td>congruent</td>\n      <td>scissorsA.mp3</td>\n    </tr>\n    <tr>\n      <td>5</td>\n      <td>saw</td>\n      <td>saw_1</td>\n      <td>inanimate</td>\n      <td>congruent</td>\n      <td>sawA.mp3</td>\n    </tr>\n    <tr>\n      <td>6</td>\n      <td>piano</td>\n      <td>piano_1</td>\n      <td>inanimate</td>\n      <td>congruent</td>\n      <td>pianoA.mp3</td>\n    </tr>\n  </tbody>\n</table>\n</div>"
     },
     "metadata": {},
     "execution_count": 128
    }
   ],
   "source": [
    "enc_cong1 = pd.DataFrame()\n",
    "enc_cong1 = enc_cong1.append(group1)\n",
    "enc_cong1['condition'] = 'congruent'\n",
    "enc_cong1['audio'] = enc_cong1['image_shown'] + 'A.mp3'\n",
    "enc_cong1"
   ]
  },
  {
   "cell_type": "code",
   "execution_count": 129,
   "metadata": {},
   "outputs": [
    {
     "output_type": "execute_result",
     "data": {
      "text/plain": "   image_shown         stim1    animacy  condition            audio\n7        horse       horse_1    animate  congruent       horseA.mp3\n8        goose       goose_1    animate  congruent       gooseA.mp3\n9         goat        goat_3    animate  congruent        goatA.mp3\n10        frog        frog_1    animate  congruent        frogA.mp3\n11    elephant    elephant_1    animate  congruent    elephantA.mp3\n12         dog         dog_2    animate  congruent         dogA.mp3\n13        deer        deer_4    animate  congruent        deerA.mp3\n7   motorcycle  motorcycle_1  inanimate  congruent  motorcycleA.mp3\n8     keyboard    keyboard_2  inanimate  congruent    keyboardA.mp3\n9          jet         jet_1  inanimate  congruent         jetA.mp3\n10      hammer      hammer_3  inanimate  congruent      hammerA.mp3\n11      guitar      guitar_3  inanimate  congruent      guitarA.mp3\n12        drum        drum_2  inanimate  congruent        drumA.mp3\n13       drill       drill_1  inanimate  congruent       drillA.mp3",
      "text/html": "<div>\n<style scoped>\n    .dataframe tbody tr th:only-of-type {\n        vertical-align: middle;\n    }\n\n    .dataframe tbody tr th {\n        vertical-align: top;\n    }\n\n    .dataframe thead th {\n        text-align: right;\n    }\n</style>\n<table border=\"1\" class=\"dataframe\">\n  <thead>\n    <tr style=\"text-align: right;\">\n      <th></th>\n      <th>image_shown</th>\n      <th>stim1</th>\n      <th>animacy</th>\n      <th>condition</th>\n      <th>audio</th>\n    </tr>\n  </thead>\n  <tbody>\n    <tr>\n      <td>7</td>\n      <td>horse</td>\n      <td>horse_1</td>\n      <td>animate</td>\n      <td>congruent</td>\n      <td>horseA.mp3</td>\n    </tr>\n    <tr>\n      <td>8</td>\n      <td>goose</td>\n      <td>goose_1</td>\n      <td>animate</td>\n      <td>congruent</td>\n      <td>gooseA.mp3</td>\n    </tr>\n    <tr>\n      <td>9</td>\n      <td>goat</td>\n      <td>goat_3</td>\n      <td>animate</td>\n      <td>congruent</td>\n      <td>goatA.mp3</td>\n    </tr>\n    <tr>\n      <td>10</td>\n      <td>frog</td>\n      <td>frog_1</td>\n      <td>animate</td>\n      <td>congruent</td>\n      <td>frogA.mp3</td>\n    </tr>\n    <tr>\n      <td>11</td>\n      <td>elephant</td>\n      <td>elephant_1</td>\n      <td>animate</td>\n      <td>congruent</td>\n      <td>elephantA.mp3</td>\n    </tr>\n    <tr>\n      <td>12</td>\n      <td>dog</td>\n      <td>dog_2</td>\n      <td>animate</td>\n      <td>congruent</td>\n      <td>dogA.mp3</td>\n    </tr>\n    <tr>\n      <td>13</td>\n      <td>deer</td>\n      <td>deer_4</td>\n      <td>animate</td>\n      <td>congruent</td>\n      <td>deerA.mp3</td>\n    </tr>\n    <tr>\n      <td>7</td>\n      <td>motorcycle</td>\n      <td>motorcycle_1</td>\n      <td>inanimate</td>\n      <td>congruent</td>\n      <td>motorcycleA.mp3</td>\n    </tr>\n    <tr>\n      <td>8</td>\n      <td>keyboard</td>\n      <td>keyboard_2</td>\n      <td>inanimate</td>\n      <td>congruent</td>\n      <td>keyboardA.mp3</td>\n    </tr>\n    <tr>\n      <td>9</td>\n      <td>jet</td>\n      <td>jet_1</td>\n      <td>inanimate</td>\n      <td>congruent</td>\n      <td>jetA.mp3</td>\n    </tr>\n    <tr>\n      <td>10</td>\n      <td>hammer</td>\n      <td>hammer_3</td>\n      <td>inanimate</td>\n      <td>congruent</td>\n      <td>hammerA.mp3</td>\n    </tr>\n    <tr>\n      <td>11</td>\n      <td>guitar</td>\n      <td>guitar_3</td>\n      <td>inanimate</td>\n      <td>congruent</td>\n      <td>guitarA.mp3</td>\n    </tr>\n    <tr>\n      <td>12</td>\n      <td>drum</td>\n      <td>drum_2</td>\n      <td>inanimate</td>\n      <td>congruent</td>\n      <td>drumA.mp3</td>\n    </tr>\n    <tr>\n      <td>13</td>\n      <td>drill</td>\n      <td>drill_1</td>\n      <td>inanimate</td>\n      <td>congruent</td>\n      <td>drillA.mp3</td>\n    </tr>\n  </tbody>\n</table>\n</div>"
     },
     "metadata": {},
     "execution_count": 129
    }
   ],
   "source": [
    "enc_cong2 = pd.DataFrame()\n",
    "enc_cong2 = enc_cong2.append(group2)\n",
    "enc_cong2['condition'] = 'congruent'\n",
    "enc_cong2['audio'] = enc_cong2['image_shown'] + 'A.mp3'\n",
    "enc_cong2"
   ]
  },
  {
   "cell_type": "code",
   "execution_count": 130,
   "metadata": {},
   "outputs": [
    {
     "output_type": "execute_result",
     "data": {
      "text/plain": "    image_shown          stim1    animacy  condition             audio\n14    crocodile    crocodile_2    animate  congruent    crocodileA.mp3\n15          cow          cow_2    animate  congruent          cowA.mp3\n16      chicken      chicken_1    animate  congruent      chickenA.mp3\n17          cat          cat_1    animate  congruent          catA.mp3\n18         bird         bird_1    animate  congruent         birdA.mp3\n19         bear         bear_1    animate  congruent         bearA.mp3\n20          bat          bat_1    animate  congruent          batA.mp3\n14         door         door_1  inanimate  congruent         doorA.mp3\n15  cymbal_ride  cymbal_ride_2  inanimate  congruent  cymbal_rideA.mp3\n16          car          car_3  inanimate  congruent          carA.mp3\n17       camera       camera_1  inanimate  congruent       cameraA.mp3\n18         boat         boat_1  inanimate  congruent         boatA.mp3\n19      bicycle      bicycle_1  inanimate  congruent      bicycleA.mp3\n20         bell         bell_5  inanimate  congruent         bellA.mp3",
      "text/html": "<div>\n<style scoped>\n    .dataframe tbody tr th:only-of-type {\n        vertical-align: middle;\n    }\n\n    .dataframe tbody tr th {\n        vertical-align: top;\n    }\n\n    .dataframe thead th {\n        text-align: right;\n    }\n</style>\n<table border=\"1\" class=\"dataframe\">\n  <thead>\n    <tr style=\"text-align: right;\">\n      <th></th>\n      <th>image_shown</th>\n      <th>stim1</th>\n      <th>animacy</th>\n      <th>condition</th>\n      <th>audio</th>\n    </tr>\n  </thead>\n  <tbody>\n    <tr>\n      <td>14</td>\n      <td>crocodile</td>\n      <td>crocodile_2</td>\n      <td>animate</td>\n      <td>congruent</td>\n      <td>crocodileA.mp3</td>\n    </tr>\n    <tr>\n      <td>15</td>\n      <td>cow</td>\n      <td>cow_2</td>\n      <td>animate</td>\n      <td>congruent</td>\n      <td>cowA.mp3</td>\n    </tr>\n    <tr>\n      <td>16</td>\n      <td>chicken</td>\n      <td>chicken_1</td>\n      <td>animate</td>\n      <td>congruent</td>\n      <td>chickenA.mp3</td>\n    </tr>\n    <tr>\n      <td>17</td>\n      <td>cat</td>\n      <td>cat_1</td>\n      <td>animate</td>\n      <td>congruent</td>\n      <td>catA.mp3</td>\n    </tr>\n    <tr>\n      <td>18</td>\n      <td>bird</td>\n      <td>bird_1</td>\n      <td>animate</td>\n      <td>congruent</td>\n      <td>birdA.mp3</td>\n    </tr>\n    <tr>\n      <td>19</td>\n      <td>bear</td>\n      <td>bear_1</td>\n      <td>animate</td>\n      <td>congruent</td>\n      <td>bearA.mp3</td>\n    </tr>\n    <tr>\n      <td>20</td>\n      <td>bat</td>\n      <td>bat_1</td>\n      <td>animate</td>\n      <td>congruent</td>\n      <td>batA.mp3</td>\n    </tr>\n    <tr>\n      <td>14</td>\n      <td>door</td>\n      <td>door_1</td>\n      <td>inanimate</td>\n      <td>congruent</td>\n      <td>doorA.mp3</td>\n    </tr>\n    <tr>\n      <td>15</td>\n      <td>cymbal_ride</td>\n      <td>cymbal_ride_2</td>\n      <td>inanimate</td>\n      <td>congruent</td>\n      <td>cymbal_rideA.mp3</td>\n    </tr>\n    <tr>\n      <td>16</td>\n      <td>car</td>\n      <td>car_3</td>\n      <td>inanimate</td>\n      <td>congruent</td>\n      <td>carA.mp3</td>\n    </tr>\n    <tr>\n      <td>17</td>\n      <td>camera</td>\n      <td>camera_1</td>\n      <td>inanimate</td>\n      <td>congruent</td>\n      <td>cameraA.mp3</td>\n    </tr>\n    <tr>\n      <td>18</td>\n      <td>boat</td>\n      <td>boat_1</td>\n      <td>inanimate</td>\n      <td>congruent</td>\n      <td>boatA.mp3</td>\n    </tr>\n    <tr>\n      <td>19</td>\n      <td>bicycle</td>\n      <td>bicycle_1</td>\n      <td>inanimate</td>\n      <td>congruent</td>\n      <td>bicycleA.mp3</td>\n    </tr>\n    <tr>\n      <td>20</td>\n      <td>bell</td>\n      <td>bell_5</td>\n      <td>inanimate</td>\n      <td>congruent</td>\n      <td>bellA.mp3</td>\n    </tr>\n  </tbody>\n</table>\n</div>"
     },
     "metadata": {},
     "execution_count": 130
    }
   ],
   "source": [
    "enc_cong3 = pd.DataFrame()\n",
    "enc_cong3 = enc_cong3.append(group3)\n",
    "enc_cong3['condition'] = 'congruent'\n",
    "enc_cong3['audio'] = enc_cong3['image_shown'] + 'A.mp3'\n",
    "enc_cong3"
   ]
  },
  {
   "cell_type": "markdown",
   "metadata": {},
   "source": [
    "## Incongruent"
   ]
  },
  {
   "cell_type": "code",
   "execution_count": 131,
   "metadata": {},
   "outputs": [
    {
     "output_type": "execute_result",
     "data": {
      "text/plain": "  image_shown         stim1    animacy    condition             audio\n0        wolf        wolf_1    animate  incongruent    crocodileA.mp3\n1       tiger       tiger_1    animate  incongruent          cowA.mp3\n2       snake       snake_1    animate  incongruent      chickenA.mp3\n3         rat         rat_1    animate  incongruent          catA.mp3\n4         pig         pig_3    animate  incongruent         birdA.mp3\n5     penguin     penguin_1    animate  incongruent         bearA.mp3\n6     leopard     leopard_1    animate  incongruent          batA.mp3\n0      washer      washer_2  inanimate  incongruent         doorA.mp3\n1       train       train_1  inanimate  incongruent  cymbal_rideA.mp3\n2     stapler     stapler_1  inanimate  incongruent          carA.mp3\n3  smartphone  smartphone_2  inanimate  incongruent       cameraA.mp3\n4    scissors    scissors_1  inanimate  incongruent         boatA.mp3\n5         saw         saw_1  inanimate  incongruent      bicycleA.mp3\n6       piano       piano_1  inanimate  incongruent         bellA.mp3",
      "text/html": "<div>\n<style scoped>\n    .dataframe tbody tr th:only-of-type {\n        vertical-align: middle;\n    }\n\n    .dataframe tbody tr th {\n        vertical-align: top;\n    }\n\n    .dataframe thead th {\n        text-align: right;\n    }\n</style>\n<table border=\"1\" class=\"dataframe\">\n  <thead>\n    <tr style=\"text-align: right;\">\n      <th></th>\n      <th>image_shown</th>\n      <th>stim1</th>\n      <th>animacy</th>\n      <th>condition</th>\n      <th>audio</th>\n    </tr>\n  </thead>\n  <tbody>\n    <tr>\n      <td>0</td>\n      <td>wolf</td>\n      <td>wolf_1</td>\n      <td>animate</td>\n      <td>incongruent</td>\n      <td>crocodileA.mp3</td>\n    </tr>\n    <tr>\n      <td>1</td>\n      <td>tiger</td>\n      <td>tiger_1</td>\n      <td>animate</td>\n      <td>incongruent</td>\n      <td>cowA.mp3</td>\n    </tr>\n    <tr>\n      <td>2</td>\n      <td>snake</td>\n      <td>snake_1</td>\n      <td>animate</td>\n      <td>incongruent</td>\n      <td>chickenA.mp3</td>\n    </tr>\n    <tr>\n      <td>3</td>\n      <td>rat</td>\n      <td>rat_1</td>\n      <td>animate</td>\n      <td>incongruent</td>\n      <td>catA.mp3</td>\n    </tr>\n    <tr>\n      <td>4</td>\n      <td>pig</td>\n      <td>pig_3</td>\n      <td>animate</td>\n      <td>incongruent</td>\n      <td>birdA.mp3</td>\n    </tr>\n    <tr>\n      <td>5</td>\n      <td>penguin</td>\n      <td>penguin_1</td>\n      <td>animate</td>\n      <td>incongruent</td>\n      <td>bearA.mp3</td>\n    </tr>\n    <tr>\n      <td>6</td>\n      <td>leopard</td>\n      <td>leopard_1</td>\n      <td>animate</td>\n      <td>incongruent</td>\n      <td>batA.mp3</td>\n    </tr>\n    <tr>\n      <td>0</td>\n      <td>washer</td>\n      <td>washer_2</td>\n      <td>inanimate</td>\n      <td>incongruent</td>\n      <td>doorA.mp3</td>\n    </tr>\n    <tr>\n      <td>1</td>\n      <td>train</td>\n      <td>train_1</td>\n      <td>inanimate</td>\n      <td>incongruent</td>\n      <td>cymbal_rideA.mp3</td>\n    </tr>\n    <tr>\n      <td>2</td>\n      <td>stapler</td>\n      <td>stapler_1</td>\n      <td>inanimate</td>\n      <td>incongruent</td>\n      <td>carA.mp3</td>\n    </tr>\n    <tr>\n      <td>3</td>\n      <td>smartphone</td>\n      <td>smartphone_2</td>\n      <td>inanimate</td>\n      <td>incongruent</td>\n      <td>cameraA.mp3</td>\n    </tr>\n    <tr>\n      <td>4</td>\n      <td>scissors</td>\n      <td>scissors_1</td>\n      <td>inanimate</td>\n      <td>incongruent</td>\n      <td>boatA.mp3</td>\n    </tr>\n    <tr>\n      <td>5</td>\n      <td>saw</td>\n      <td>saw_1</td>\n      <td>inanimate</td>\n      <td>incongruent</td>\n      <td>bicycleA.mp3</td>\n    </tr>\n    <tr>\n      <td>6</td>\n      <td>piano</td>\n      <td>piano_1</td>\n      <td>inanimate</td>\n      <td>incongruent</td>\n      <td>bellA.mp3</td>\n    </tr>\n  </tbody>\n</table>\n</div>"
     },
     "metadata": {},
     "execution_count": 131
    }
   ],
   "source": [
    "enc_incong1 = pd.DataFrame()\n",
    "enc_incong1 = enc_incong1.append(group1)\n",
    "enc_incong1['condition'] = 'incongruent'\n",
    "incong1_audio = list(enc_cong3['audio'])\n",
    "enc_incong1['audio'] = incong1_audio\n",
    "enc_incong1"
   ]
  },
  {
   "cell_type": "code",
   "execution_count": 132,
   "metadata": {},
   "outputs": [
    {
     "output_type": "execute_result",
     "data": {
      "text/plain": "   image_shown         stim1    animacy    condition            audio\n7        horse       horse_1    animate  incongruent        wolfA.mp3\n8        goose       goose_1    animate  incongruent       tigerA.mp3\n9         goat        goat_3    animate  incongruent       snakeA.mp3\n10        frog        frog_1    animate  incongruent         ratA.mp3\n11    elephant    elephant_1    animate  incongruent         pigA.mp3\n12         dog         dog_2    animate  incongruent     penguinA.mp3\n13        deer        deer_4    animate  incongruent     leopardA.mp3\n7   motorcycle  motorcycle_1  inanimate  incongruent      washerA.mp3\n8     keyboard    keyboard_2  inanimate  incongruent       trainA.mp3\n9          jet         jet_1  inanimate  incongruent     staplerA.mp3\n10      hammer      hammer_3  inanimate  incongruent  smartphoneA.mp3\n11      guitar      guitar_3  inanimate  incongruent    scissorsA.mp3\n12        drum        drum_2  inanimate  incongruent         sawA.mp3\n13       drill       drill_1  inanimate  incongruent       pianoA.mp3",
      "text/html": "<div>\n<style scoped>\n    .dataframe tbody tr th:only-of-type {\n        vertical-align: middle;\n    }\n\n    .dataframe tbody tr th {\n        vertical-align: top;\n    }\n\n    .dataframe thead th {\n        text-align: right;\n    }\n</style>\n<table border=\"1\" class=\"dataframe\">\n  <thead>\n    <tr style=\"text-align: right;\">\n      <th></th>\n      <th>image_shown</th>\n      <th>stim1</th>\n      <th>animacy</th>\n      <th>condition</th>\n      <th>audio</th>\n    </tr>\n  </thead>\n  <tbody>\n    <tr>\n      <td>7</td>\n      <td>horse</td>\n      <td>horse_1</td>\n      <td>animate</td>\n      <td>incongruent</td>\n      <td>wolfA.mp3</td>\n    </tr>\n    <tr>\n      <td>8</td>\n      <td>goose</td>\n      <td>goose_1</td>\n      <td>animate</td>\n      <td>incongruent</td>\n      <td>tigerA.mp3</td>\n    </tr>\n    <tr>\n      <td>9</td>\n      <td>goat</td>\n      <td>goat_3</td>\n      <td>animate</td>\n      <td>incongruent</td>\n      <td>snakeA.mp3</td>\n    </tr>\n    <tr>\n      <td>10</td>\n      <td>frog</td>\n      <td>frog_1</td>\n      <td>animate</td>\n      <td>incongruent</td>\n      <td>ratA.mp3</td>\n    </tr>\n    <tr>\n      <td>11</td>\n      <td>elephant</td>\n      <td>elephant_1</td>\n      <td>animate</td>\n      <td>incongruent</td>\n      <td>pigA.mp3</td>\n    </tr>\n    <tr>\n      <td>12</td>\n      <td>dog</td>\n      <td>dog_2</td>\n      <td>animate</td>\n      <td>incongruent</td>\n      <td>penguinA.mp3</td>\n    </tr>\n    <tr>\n      <td>13</td>\n      <td>deer</td>\n      <td>deer_4</td>\n      <td>animate</td>\n      <td>incongruent</td>\n      <td>leopardA.mp3</td>\n    </tr>\n    <tr>\n      <td>7</td>\n      <td>motorcycle</td>\n      <td>motorcycle_1</td>\n      <td>inanimate</td>\n      <td>incongruent</td>\n      <td>washerA.mp3</td>\n    </tr>\n    <tr>\n      <td>8</td>\n      <td>keyboard</td>\n      <td>keyboard_2</td>\n      <td>inanimate</td>\n      <td>incongruent</td>\n      <td>trainA.mp3</td>\n    </tr>\n    <tr>\n      <td>9</td>\n      <td>jet</td>\n      <td>jet_1</td>\n      <td>inanimate</td>\n      <td>incongruent</td>\n      <td>staplerA.mp3</td>\n    </tr>\n    <tr>\n      <td>10</td>\n      <td>hammer</td>\n      <td>hammer_3</td>\n      <td>inanimate</td>\n      <td>incongruent</td>\n      <td>smartphoneA.mp3</td>\n    </tr>\n    <tr>\n      <td>11</td>\n      <td>guitar</td>\n      <td>guitar_3</td>\n      <td>inanimate</td>\n      <td>incongruent</td>\n      <td>scissorsA.mp3</td>\n    </tr>\n    <tr>\n      <td>12</td>\n      <td>drum</td>\n      <td>drum_2</td>\n      <td>inanimate</td>\n      <td>incongruent</td>\n      <td>sawA.mp3</td>\n    </tr>\n    <tr>\n      <td>13</td>\n      <td>drill</td>\n      <td>drill_1</td>\n      <td>inanimate</td>\n      <td>incongruent</td>\n      <td>pianoA.mp3</td>\n    </tr>\n  </tbody>\n</table>\n</div>"
     },
     "metadata": {},
     "execution_count": 132
    }
   ],
   "source": [
    "enc_incong2 = pd.DataFrame()\n",
    "enc_incong2 = enc_incong2.append(group2)\n",
    "enc_incong2['condition'] = 'incongruent'\n",
    "incong2_audio = list(enc_cong1['audio'])\n",
    "enc_incong2['audio'] = incong2_audio\n",
    "enc_incong2"
   ]
  },
  {
   "cell_type": "code",
   "execution_count": 133,
   "metadata": {},
   "outputs": [
    {
     "output_type": "execute_result",
     "data": {
      "text/plain": "    image_shown          stim1    animacy    condition            audio\n14    crocodile    crocodile_2    animate  incongruent       horseA.mp3\n15          cow          cow_2    animate  incongruent       gooseA.mp3\n16      chicken      chicken_1    animate  incongruent        goatA.mp3\n17          cat          cat_1    animate  incongruent        frogA.mp3\n18         bird         bird_1    animate  incongruent    elephantA.mp3\n19         bear         bear_1    animate  incongruent         dogA.mp3\n20          bat          bat_1    animate  incongruent        deerA.mp3\n14         door         door_1  inanimate  incongruent  motorcycleA.mp3\n15  cymbal_ride  cymbal_ride_2  inanimate  incongruent    keyboardA.mp3\n16          car          car_3  inanimate  incongruent         jetA.mp3\n17       camera       camera_1  inanimate  incongruent      hammerA.mp3\n18         boat         boat_1  inanimate  incongruent      guitarA.mp3\n19      bicycle      bicycle_1  inanimate  incongruent        drumA.mp3\n20         bell         bell_5  inanimate  incongruent       drillA.mp3",
      "text/html": "<div>\n<style scoped>\n    .dataframe tbody tr th:only-of-type {\n        vertical-align: middle;\n    }\n\n    .dataframe tbody tr th {\n        vertical-align: top;\n    }\n\n    .dataframe thead th {\n        text-align: right;\n    }\n</style>\n<table border=\"1\" class=\"dataframe\">\n  <thead>\n    <tr style=\"text-align: right;\">\n      <th></th>\n      <th>image_shown</th>\n      <th>stim1</th>\n      <th>animacy</th>\n      <th>condition</th>\n      <th>audio</th>\n    </tr>\n  </thead>\n  <tbody>\n    <tr>\n      <td>14</td>\n      <td>crocodile</td>\n      <td>crocodile_2</td>\n      <td>animate</td>\n      <td>incongruent</td>\n      <td>horseA.mp3</td>\n    </tr>\n    <tr>\n      <td>15</td>\n      <td>cow</td>\n      <td>cow_2</td>\n      <td>animate</td>\n      <td>incongruent</td>\n      <td>gooseA.mp3</td>\n    </tr>\n    <tr>\n      <td>16</td>\n      <td>chicken</td>\n      <td>chicken_1</td>\n      <td>animate</td>\n      <td>incongruent</td>\n      <td>goatA.mp3</td>\n    </tr>\n    <tr>\n      <td>17</td>\n      <td>cat</td>\n      <td>cat_1</td>\n      <td>animate</td>\n      <td>incongruent</td>\n      <td>frogA.mp3</td>\n    </tr>\n    <tr>\n      <td>18</td>\n      <td>bird</td>\n      <td>bird_1</td>\n      <td>animate</td>\n      <td>incongruent</td>\n      <td>elephantA.mp3</td>\n    </tr>\n    <tr>\n      <td>19</td>\n      <td>bear</td>\n      <td>bear_1</td>\n      <td>animate</td>\n      <td>incongruent</td>\n      <td>dogA.mp3</td>\n    </tr>\n    <tr>\n      <td>20</td>\n      <td>bat</td>\n      <td>bat_1</td>\n      <td>animate</td>\n      <td>incongruent</td>\n      <td>deerA.mp3</td>\n    </tr>\n    <tr>\n      <td>14</td>\n      <td>door</td>\n      <td>door_1</td>\n      <td>inanimate</td>\n      <td>incongruent</td>\n      <td>motorcycleA.mp3</td>\n    </tr>\n    <tr>\n      <td>15</td>\n      <td>cymbal_ride</td>\n      <td>cymbal_ride_2</td>\n      <td>inanimate</td>\n      <td>incongruent</td>\n      <td>keyboardA.mp3</td>\n    </tr>\n    <tr>\n      <td>16</td>\n      <td>car</td>\n      <td>car_3</td>\n      <td>inanimate</td>\n      <td>incongruent</td>\n      <td>jetA.mp3</td>\n    </tr>\n    <tr>\n      <td>17</td>\n      <td>camera</td>\n      <td>camera_1</td>\n      <td>inanimate</td>\n      <td>incongruent</td>\n      <td>hammerA.mp3</td>\n    </tr>\n    <tr>\n      <td>18</td>\n      <td>boat</td>\n      <td>boat_1</td>\n      <td>inanimate</td>\n      <td>incongruent</td>\n      <td>guitarA.mp3</td>\n    </tr>\n    <tr>\n      <td>19</td>\n      <td>bicycle</td>\n      <td>bicycle_1</td>\n      <td>inanimate</td>\n      <td>incongruent</td>\n      <td>drumA.mp3</td>\n    </tr>\n    <tr>\n      <td>20</td>\n      <td>bell</td>\n      <td>bell_5</td>\n      <td>inanimate</td>\n      <td>incongruent</td>\n      <td>drillA.mp3</td>\n    </tr>\n  </tbody>\n</table>\n</div>"
     },
     "metadata": {},
     "execution_count": 133
    }
   ],
   "source": [
    "enc_incong3 = pd.DataFrame()\n",
    "enc_incong3 = enc_incong3.append(group3)\n",
    "enc_incong3['condition'] = 'incongruent'\n",
    "incong3_audio = list(enc_cong2['audio'])\n",
    "enc_incong3['audio'] = incong3_audio\n",
    "enc_incong3"
   ]
  },
  {
   "cell_type": "markdown",
   "metadata": {},
   "source": [
    "## Control"
   ]
  },
  {
   "cell_type": "code",
   "execution_count": 134,
   "metadata": {},
   "outputs": [],
   "source": [
    "jumble_list = ['jumble1.mp3', 'jumble2.mp3','jumble3.mp3','jumble4.mp3','jumble5.mp3','jumble6.mp3','jumble7.mp3','jumble8.mp3','jumble9.mp3','jumble10.mp3','jumble11.mp3','jumble12.mp3','jumble13.mp3','jumble14.mp3']"
   ]
  },
  {
   "cell_type": "code",
   "execution_count": 135,
   "metadata": {},
   "outputs": [
    {
     "output_type": "execute_result",
     "data": {
      "text/plain": "  image_shown         stim1    animacy condition         audio\n0        wolf        wolf_1    animate   control   jumble1.mp3\n1       tiger       tiger_1    animate   control   jumble2.mp3\n2       snake       snake_1    animate   control   jumble3.mp3\n3         rat         rat_1    animate   control   jumble4.mp3\n4         pig         pig_3    animate   control   jumble5.mp3\n5     penguin     penguin_1    animate   control   jumble6.mp3\n6     leopard     leopard_1    animate   control   jumble7.mp3\n0      washer      washer_2  inanimate   control   jumble8.mp3\n1       train       train_1  inanimate   control   jumble9.mp3\n2     stapler     stapler_1  inanimate   control  jumble10.mp3\n3  smartphone  smartphone_2  inanimate   control  jumble11.mp3\n4    scissors    scissors_1  inanimate   control  jumble12.mp3\n5         saw         saw_1  inanimate   control  jumble13.mp3\n6       piano       piano_1  inanimate   control  jumble14.mp3",
      "text/html": "<div>\n<style scoped>\n    .dataframe tbody tr th:only-of-type {\n        vertical-align: middle;\n    }\n\n    .dataframe tbody tr th {\n        vertical-align: top;\n    }\n\n    .dataframe thead th {\n        text-align: right;\n    }\n</style>\n<table border=\"1\" class=\"dataframe\">\n  <thead>\n    <tr style=\"text-align: right;\">\n      <th></th>\n      <th>image_shown</th>\n      <th>stim1</th>\n      <th>animacy</th>\n      <th>condition</th>\n      <th>audio</th>\n    </tr>\n  </thead>\n  <tbody>\n    <tr>\n      <td>0</td>\n      <td>wolf</td>\n      <td>wolf_1</td>\n      <td>animate</td>\n      <td>control</td>\n      <td>jumble1.mp3</td>\n    </tr>\n    <tr>\n      <td>1</td>\n      <td>tiger</td>\n      <td>tiger_1</td>\n      <td>animate</td>\n      <td>control</td>\n      <td>jumble2.mp3</td>\n    </tr>\n    <tr>\n      <td>2</td>\n      <td>snake</td>\n      <td>snake_1</td>\n      <td>animate</td>\n      <td>control</td>\n      <td>jumble3.mp3</td>\n    </tr>\n    <tr>\n      <td>3</td>\n      <td>rat</td>\n      <td>rat_1</td>\n      <td>animate</td>\n      <td>control</td>\n      <td>jumble4.mp3</td>\n    </tr>\n    <tr>\n      <td>4</td>\n      <td>pig</td>\n      <td>pig_3</td>\n      <td>animate</td>\n      <td>control</td>\n      <td>jumble5.mp3</td>\n    </tr>\n    <tr>\n      <td>5</td>\n      <td>penguin</td>\n      <td>penguin_1</td>\n      <td>animate</td>\n      <td>control</td>\n      <td>jumble6.mp3</td>\n    </tr>\n    <tr>\n      <td>6</td>\n      <td>leopard</td>\n      <td>leopard_1</td>\n      <td>animate</td>\n      <td>control</td>\n      <td>jumble7.mp3</td>\n    </tr>\n    <tr>\n      <td>0</td>\n      <td>washer</td>\n      <td>washer_2</td>\n      <td>inanimate</td>\n      <td>control</td>\n      <td>jumble8.mp3</td>\n    </tr>\n    <tr>\n      <td>1</td>\n      <td>train</td>\n      <td>train_1</td>\n      <td>inanimate</td>\n      <td>control</td>\n      <td>jumble9.mp3</td>\n    </tr>\n    <tr>\n      <td>2</td>\n      <td>stapler</td>\n      <td>stapler_1</td>\n      <td>inanimate</td>\n      <td>control</td>\n      <td>jumble10.mp3</td>\n    </tr>\n    <tr>\n      <td>3</td>\n      <td>smartphone</td>\n      <td>smartphone_2</td>\n      <td>inanimate</td>\n      <td>control</td>\n      <td>jumble11.mp3</td>\n    </tr>\n    <tr>\n      <td>4</td>\n      <td>scissors</td>\n      <td>scissors_1</td>\n      <td>inanimate</td>\n      <td>control</td>\n      <td>jumble12.mp3</td>\n    </tr>\n    <tr>\n      <td>5</td>\n      <td>saw</td>\n      <td>saw_1</td>\n      <td>inanimate</td>\n      <td>control</td>\n      <td>jumble13.mp3</td>\n    </tr>\n    <tr>\n      <td>6</td>\n      <td>piano</td>\n      <td>piano_1</td>\n      <td>inanimate</td>\n      <td>control</td>\n      <td>jumble14.mp3</td>\n    </tr>\n  </tbody>\n</table>\n</div>"
     },
     "metadata": {},
     "execution_count": 135
    }
   ],
   "source": [
    "enc_ctrl1 = pd.DataFrame()\n",
    "enc_ctrl1 = enc_ctrl1.append(group1)\n",
    "enc_ctrl1['condition'] = 'control'\n",
    "enc_ctrl1['audio'] = jumble_list\n",
    "enc_ctrl1"
   ]
  },
  {
   "cell_type": "code",
   "execution_count": 136,
   "metadata": {},
   "outputs": [
    {
     "output_type": "execute_result",
     "data": {
      "text/plain": "   image_shown         stim1    animacy condition         audio\n7        horse       horse_1    animate   control   jumble1.mp3\n8        goose       goose_1    animate   control   jumble2.mp3\n9         goat        goat_3    animate   control   jumble3.mp3\n10        frog        frog_1    animate   control   jumble4.mp3\n11    elephant    elephant_1    animate   control   jumble5.mp3\n12         dog         dog_2    animate   control   jumble6.mp3\n13        deer        deer_4    animate   control   jumble7.mp3\n7   motorcycle  motorcycle_1  inanimate   control   jumble8.mp3\n8     keyboard    keyboard_2  inanimate   control   jumble9.mp3\n9          jet         jet_1  inanimate   control  jumble10.mp3\n10      hammer      hammer_3  inanimate   control  jumble11.mp3\n11      guitar      guitar_3  inanimate   control  jumble12.mp3\n12        drum        drum_2  inanimate   control  jumble13.mp3\n13       drill       drill_1  inanimate   control  jumble14.mp3",
      "text/html": "<div>\n<style scoped>\n    .dataframe tbody tr th:only-of-type {\n        vertical-align: middle;\n    }\n\n    .dataframe tbody tr th {\n        vertical-align: top;\n    }\n\n    .dataframe thead th {\n        text-align: right;\n    }\n</style>\n<table border=\"1\" class=\"dataframe\">\n  <thead>\n    <tr style=\"text-align: right;\">\n      <th></th>\n      <th>image_shown</th>\n      <th>stim1</th>\n      <th>animacy</th>\n      <th>condition</th>\n      <th>audio</th>\n    </tr>\n  </thead>\n  <tbody>\n    <tr>\n      <td>7</td>\n      <td>horse</td>\n      <td>horse_1</td>\n      <td>animate</td>\n      <td>control</td>\n      <td>jumble1.mp3</td>\n    </tr>\n    <tr>\n      <td>8</td>\n      <td>goose</td>\n      <td>goose_1</td>\n      <td>animate</td>\n      <td>control</td>\n      <td>jumble2.mp3</td>\n    </tr>\n    <tr>\n      <td>9</td>\n      <td>goat</td>\n      <td>goat_3</td>\n      <td>animate</td>\n      <td>control</td>\n      <td>jumble3.mp3</td>\n    </tr>\n    <tr>\n      <td>10</td>\n      <td>frog</td>\n      <td>frog_1</td>\n      <td>animate</td>\n      <td>control</td>\n      <td>jumble4.mp3</td>\n    </tr>\n    <tr>\n      <td>11</td>\n      <td>elephant</td>\n      <td>elephant_1</td>\n      <td>animate</td>\n      <td>control</td>\n      <td>jumble5.mp3</td>\n    </tr>\n    <tr>\n      <td>12</td>\n      <td>dog</td>\n      <td>dog_2</td>\n      <td>animate</td>\n      <td>control</td>\n      <td>jumble6.mp3</td>\n    </tr>\n    <tr>\n      <td>13</td>\n      <td>deer</td>\n      <td>deer_4</td>\n      <td>animate</td>\n      <td>control</td>\n      <td>jumble7.mp3</td>\n    </tr>\n    <tr>\n      <td>7</td>\n      <td>motorcycle</td>\n      <td>motorcycle_1</td>\n      <td>inanimate</td>\n      <td>control</td>\n      <td>jumble8.mp3</td>\n    </tr>\n    <tr>\n      <td>8</td>\n      <td>keyboard</td>\n      <td>keyboard_2</td>\n      <td>inanimate</td>\n      <td>control</td>\n      <td>jumble9.mp3</td>\n    </tr>\n    <tr>\n      <td>9</td>\n      <td>jet</td>\n      <td>jet_1</td>\n      <td>inanimate</td>\n      <td>control</td>\n      <td>jumble10.mp3</td>\n    </tr>\n    <tr>\n      <td>10</td>\n      <td>hammer</td>\n      <td>hammer_3</td>\n      <td>inanimate</td>\n      <td>control</td>\n      <td>jumble11.mp3</td>\n    </tr>\n    <tr>\n      <td>11</td>\n      <td>guitar</td>\n      <td>guitar_3</td>\n      <td>inanimate</td>\n      <td>control</td>\n      <td>jumble12.mp3</td>\n    </tr>\n    <tr>\n      <td>12</td>\n      <td>drum</td>\n      <td>drum_2</td>\n      <td>inanimate</td>\n      <td>control</td>\n      <td>jumble13.mp3</td>\n    </tr>\n    <tr>\n      <td>13</td>\n      <td>drill</td>\n      <td>drill_1</td>\n      <td>inanimate</td>\n      <td>control</td>\n      <td>jumble14.mp3</td>\n    </tr>\n  </tbody>\n</table>\n</div>"
     },
     "metadata": {},
     "execution_count": 136
    }
   ],
   "source": [
    "enc_ctrl2 = pd.DataFrame()\n",
    "enc_ctrl2 = enc_ctrl2.append(group2)\n",
    "enc_ctrl2['condition'] = 'control'\n",
    "enc_ctrl2['audio'] = jumble_list\n",
    "enc_ctrl2"
   ]
  },
  {
   "cell_type": "code",
   "execution_count": 137,
   "metadata": {},
   "outputs": [
    {
     "output_type": "execute_result",
     "data": {
      "text/plain": "    image_shown          stim1    animacy condition         audio\n14    crocodile    crocodile_2    animate   control   jumble1.mp3\n15          cow          cow_2    animate   control   jumble2.mp3\n16      chicken      chicken_1    animate   control   jumble3.mp3\n17          cat          cat_1    animate   control   jumble4.mp3\n18         bird         bird_1    animate   control   jumble5.mp3\n19         bear         bear_1    animate   control   jumble6.mp3\n20          bat          bat_1    animate   control   jumble7.mp3\n14         door         door_1  inanimate   control   jumble8.mp3\n15  cymbal_ride  cymbal_ride_2  inanimate   control   jumble9.mp3\n16          car          car_3  inanimate   control  jumble10.mp3\n17       camera       camera_1  inanimate   control  jumble11.mp3\n18         boat         boat_1  inanimate   control  jumble12.mp3\n19      bicycle      bicycle_1  inanimate   control  jumble13.mp3\n20         bell         bell_5  inanimate   control  jumble14.mp3",
      "text/html": "<div>\n<style scoped>\n    .dataframe tbody tr th:only-of-type {\n        vertical-align: middle;\n    }\n\n    .dataframe tbody tr th {\n        vertical-align: top;\n    }\n\n    .dataframe thead th {\n        text-align: right;\n    }\n</style>\n<table border=\"1\" class=\"dataframe\">\n  <thead>\n    <tr style=\"text-align: right;\">\n      <th></th>\n      <th>image_shown</th>\n      <th>stim1</th>\n      <th>animacy</th>\n      <th>condition</th>\n      <th>audio</th>\n    </tr>\n  </thead>\n  <tbody>\n    <tr>\n      <td>14</td>\n      <td>crocodile</td>\n      <td>crocodile_2</td>\n      <td>animate</td>\n      <td>control</td>\n      <td>jumble1.mp3</td>\n    </tr>\n    <tr>\n      <td>15</td>\n      <td>cow</td>\n      <td>cow_2</td>\n      <td>animate</td>\n      <td>control</td>\n      <td>jumble2.mp3</td>\n    </tr>\n    <tr>\n      <td>16</td>\n      <td>chicken</td>\n      <td>chicken_1</td>\n      <td>animate</td>\n      <td>control</td>\n      <td>jumble3.mp3</td>\n    </tr>\n    <tr>\n      <td>17</td>\n      <td>cat</td>\n      <td>cat_1</td>\n      <td>animate</td>\n      <td>control</td>\n      <td>jumble4.mp3</td>\n    </tr>\n    <tr>\n      <td>18</td>\n      <td>bird</td>\n      <td>bird_1</td>\n      <td>animate</td>\n      <td>control</td>\n      <td>jumble5.mp3</td>\n    </tr>\n    <tr>\n      <td>19</td>\n      <td>bear</td>\n      <td>bear_1</td>\n      <td>animate</td>\n      <td>control</td>\n      <td>jumble6.mp3</td>\n    </tr>\n    <tr>\n      <td>20</td>\n      <td>bat</td>\n      <td>bat_1</td>\n      <td>animate</td>\n      <td>control</td>\n      <td>jumble7.mp3</td>\n    </tr>\n    <tr>\n      <td>14</td>\n      <td>door</td>\n      <td>door_1</td>\n      <td>inanimate</td>\n      <td>control</td>\n      <td>jumble8.mp3</td>\n    </tr>\n    <tr>\n      <td>15</td>\n      <td>cymbal_ride</td>\n      <td>cymbal_ride_2</td>\n      <td>inanimate</td>\n      <td>control</td>\n      <td>jumble9.mp3</td>\n    </tr>\n    <tr>\n      <td>16</td>\n      <td>car</td>\n      <td>car_3</td>\n      <td>inanimate</td>\n      <td>control</td>\n      <td>jumble10.mp3</td>\n    </tr>\n    <tr>\n      <td>17</td>\n      <td>camera</td>\n      <td>camera_1</td>\n      <td>inanimate</td>\n      <td>control</td>\n      <td>jumble11.mp3</td>\n    </tr>\n    <tr>\n      <td>18</td>\n      <td>boat</td>\n      <td>boat_1</td>\n      <td>inanimate</td>\n      <td>control</td>\n      <td>jumble12.mp3</td>\n    </tr>\n    <tr>\n      <td>19</td>\n      <td>bicycle</td>\n      <td>bicycle_1</td>\n      <td>inanimate</td>\n      <td>control</td>\n      <td>jumble13.mp3</td>\n    </tr>\n    <tr>\n      <td>20</td>\n      <td>bell</td>\n      <td>bell_5</td>\n      <td>inanimate</td>\n      <td>control</td>\n      <td>jumble14.mp3</td>\n    </tr>\n  </tbody>\n</table>\n</div>"
     },
     "metadata": {},
     "execution_count": 137
    }
   ],
   "source": [
    "enc_ctrl3 = pd.DataFrame()\n",
    "enc_ctrl3 = enc_ctrl3.append(group3)\n",
    "enc_ctrl3['condition'] = 'control'\n",
    "enc_ctrl3['audio'] = jumble_list\n",
    "enc_ctrl3"
   ]
  },
  {
   "cell_type": "markdown",
   "metadata": {},
   "source": [
    "## Put them all together\n",
    "### 3 files for 3 conditions"
   ]
  },
  {
   "cell_type": "code",
   "execution_count": 138,
   "metadata": {},
   "outputs": [
    {
     "output_type": "execute_result",
     "data": {
      "text/plain": "    index  image_shown          stim1    animacy    condition  \\\n0       0         wolf         wolf_1    animate    congruent   \n1       1        tiger        tiger_1    animate    congruent   \n2       2        snake        snake_1    animate    congruent   \n3       3          rat          rat_1    animate    congruent   \n4       4          pig          pig_3    animate    congruent   \n5       5      penguin      penguin_1    animate    congruent   \n6       6      leopard      leopard_1    animate    congruent   \n7       0       washer       washer_2  inanimate    congruent   \n8       1        train        train_1  inanimate    congruent   \n9       2      stapler      stapler_1  inanimate    congruent   \n10      3   smartphone   smartphone_2  inanimate    congruent   \n11      4     scissors     scissors_1  inanimate    congruent   \n12      5          saw          saw_1  inanimate    congruent   \n13      6        piano        piano_1  inanimate    congruent   \n14     14    crocodile    crocodile_2    animate  incongruent   \n15     15          cow          cow_2    animate  incongruent   \n16     16      chicken      chicken_1    animate  incongruent   \n17     17          cat          cat_1    animate  incongruent   \n18     18         bird         bird_1    animate  incongruent   \n19     19         bear         bear_1    animate  incongruent   \n20     20          bat          bat_1    animate  incongruent   \n21     14         door         door_1  inanimate  incongruent   \n22     15  cymbal_ride  cymbal_ride_2  inanimate  incongruent   \n23     16          car          car_3  inanimate  incongruent   \n24     17       camera       camera_1  inanimate  incongruent   \n25     18         boat         boat_1  inanimate  incongruent   \n26     19      bicycle      bicycle_1  inanimate  incongruent   \n27     20         bell         bell_5  inanimate  incongruent   \n28      7        horse        horse_1    animate      control   \n29      8        goose        goose_1    animate      control   \n30      9         goat         goat_3    animate      control   \n31     10         frog         frog_1    animate      control   \n32     11     elephant     elephant_1    animate      control   \n33     12          dog          dog_2    animate      control   \n34     13         deer         deer_4    animate      control   \n35      7   motorcycle   motorcycle_1  inanimate      control   \n36      8     keyboard     keyboard_2  inanimate      control   \n37      9          jet          jet_1  inanimate      control   \n38     10       hammer       hammer_3  inanimate      control   \n39     11       guitar       guitar_3  inanimate      control   \n40     12         drum         drum_2  inanimate      control   \n41     13        drill        drill_1  inanimate      control   \n\n              audio     phase  type stimFormat  presTime  button1    button2  \n0         wolfA.mp3  encoding  test       .png       400  animate  inanimate  \n1        tigerA.mp3  encoding  test       .png       400  animate  inanimate  \n2        snakeA.mp3  encoding  test       .png       400  animate  inanimate  \n3          ratA.mp3  encoding  test       .png       400  animate  inanimate  \n4          pigA.mp3  encoding  test       .png       400  animate  inanimate  \n5      penguinA.mp3  encoding  test       .png       400  animate  inanimate  \n6      leopardA.mp3  encoding  test       .png       400  animate  inanimate  \n7       washerA.mp3  encoding  test       .png       400  animate  inanimate  \n8        trainA.mp3  encoding  test       .png       400  animate  inanimate  \n9      staplerA.mp3  encoding  test       .png       400  animate  inanimate  \n10  smartphoneA.mp3  encoding  test       .png       400  animate  inanimate  \n11    scissorsA.mp3  encoding  test       .png       400  animate  inanimate  \n12         sawA.mp3  encoding  test       .png       400  animate  inanimate  \n13       pianoA.mp3  encoding  test       .png       400  animate  inanimate  \n14       horseA.mp3  encoding  test       .png       400  animate  inanimate  \n15       gooseA.mp3  encoding  test       .png       400  animate  inanimate  \n16        goatA.mp3  encoding  test       .png       400  animate  inanimate  \n17        frogA.mp3  encoding  test       .png       400  animate  inanimate  \n18    elephantA.mp3  encoding  test       .png       400  animate  inanimate  \n19         dogA.mp3  encoding  test       .png       400  animate  inanimate  \n20        deerA.mp3  encoding  test       .png       400  animate  inanimate  \n21  motorcycleA.mp3  encoding  test       .png       400  animate  inanimate  \n22    keyboardA.mp3  encoding  test       .png       400  animate  inanimate  \n23        doorA.mp3  encoding  test       .png       400  animate  inanimate  \n24      hammerA.mp3  encoding  test       .png       400  animate  inanimate  \n25      guitarA.mp3  encoding  test       .png       400  animate  inanimate  \n26        drumA.mp3  encoding  test       .png       400  animate  inanimate  \n27      hammerA.mp3  encoding  test       .png       400  animate  inanimate  \n28      jumble1.mp3  encoding  test       .png       400  animate  inanimate  \n29      jumble2.mp3  encoding  test       .png       400  animate  inanimate  \n30      jumble3.mp3  encoding  test       .png       400  animate  inanimate  \n31      jumble4.mp3  encoding  test       .png       400  animate  inanimate  \n32      jumble5.mp3  encoding  test       .png       400  animate  inanimate  \n33      jumble6.mp3  encoding  test       .png       400  animate  inanimate  \n34      jumble7.mp3  encoding  test       .png       400  animate  inanimate  \n35      jumble8.mp3  encoding  test       .png       400  animate  inanimate  \n36      jumble9.mp3  encoding  test       .png       400  animate  inanimate  \n37     jumble10.mp3  encoding  test       .png       400  animate  inanimate  \n38     jumble11.mp3  encoding  test       .png       400  animate  inanimate  \n39     jumble12.mp3  encoding  test       .png       400  animate  inanimate  \n40     jumble13.mp3  encoding  test       .png       400  animate  inanimate  \n41     jumble14.mp3  encoding  test       .png       400  animate  inanimate  ",
      "text/html": "<div>\n<style scoped>\n    .dataframe tbody tr th:only-of-type {\n        vertical-align: middle;\n    }\n\n    .dataframe tbody tr th {\n        vertical-align: top;\n    }\n\n    .dataframe thead th {\n        text-align: right;\n    }\n</style>\n<table border=\"1\" class=\"dataframe\">\n  <thead>\n    <tr style=\"text-align: right;\">\n      <th></th>\n      <th>index</th>\n      <th>image_shown</th>\n      <th>stim1</th>\n      <th>animacy</th>\n      <th>condition</th>\n      <th>audio</th>\n      <th>phase</th>\n      <th>type</th>\n      <th>stimFormat</th>\n      <th>presTime</th>\n      <th>button1</th>\n      <th>button2</th>\n    </tr>\n  </thead>\n  <tbody>\n    <tr>\n      <td>0</td>\n      <td>0</td>\n      <td>wolf</td>\n      <td>wolf_1</td>\n      <td>animate</td>\n      <td>congruent</td>\n      <td>wolfA.mp3</td>\n      <td>encoding</td>\n      <td>test</td>\n      <td>.png</td>\n      <td>400</td>\n      <td>animate</td>\n      <td>inanimate</td>\n    </tr>\n    <tr>\n      <td>1</td>\n      <td>1</td>\n      <td>tiger</td>\n      <td>tiger_1</td>\n      <td>animate</td>\n      <td>congruent</td>\n      <td>tigerA.mp3</td>\n      <td>encoding</td>\n      <td>test</td>\n      <td>.png</td>\n      <td>400</td>\n      <td>animate</td>\n      <td>inanimate</td>\n    </tr>\n    <tr>\n      <td>2</td>\n      <td>2</td>\n      <td>snake</td>\n      <td>snake_1</td>\n      <td>animate</td>\n      <td>congruent</td>\n      <td>snakeA.mp3</td>\n      <td>encoding</td>\n      <td>test</td>\n      <td>.png</td>\n      <td>400</td>\n      <td>animate</td>\n      <td>inanimate</td>\n    </tr>\n    <tr>\n      <td>3</td>\n      <td>3</td>\n      <td>rat</td>\n      <td>rat_1</td>\n      <td>animate</td>\n      <td>congruent</td>\n      <td>ratA.mp3</td>\n      <td>encoding</td>\n      <td>test</td>\n      <td>.png</td>\n      <td>400</td>\n      <td>animate</td>\n      <td>inanimate</td>\n    </tr>\n    <tr>\n      <td>4</td>\n      <td>4</td>\n      <td>pig</td>\n      <td>pig_3</td>\n      <td>animate</td>\n      <td>congruent</td>\n      <td>pigA.mp3</td>\n      <td>encoding</td>\n      <td>test</td>\n      <td>.png</td>\n      <td>400</td>\n      <td>animate</td>\n      <td>inanimate</td>\n    </tr>\n    <tr>\n      <td>5</td>\n      <td>5</td>\n      <td>penguin</td>\n      <td>penguin_1</td>\n      <td>animate</td>\n      <td>congruent</td>\n      <td>penguinA.mp3</td>\n      <td>encoding</td>\n      <td>test</td>\n      <td>.png</td>\n      <td>400</td>\n      <td>animate</td>\n      <td>inanimate</td>\n    </tr>\n    <tr>\n      <td>6</td>\n      <td>6</td>\n      <td>leopard</td>\n      <td>leopard_1</td>\n      <td>animate</td>\n      <td>congruent</td>\n      <td>leopardA.mp3</td>\n      <td>encoding</td>\n      <td>test</td>\n      <td>.png</td>\n      <td>400</td>\n      <td>animate</td>\n      <td>inanimate</td>\n    </tr>\n    <tr>\n      <td>7</td>\n      <td>0</td>\n      <td>washer</td>\n      <td>washer_2</td>\n      <td>inanimate</td>\n      <td>congruent</td>\n      <td>washerA.mp3</td>\n      <td>encoding</td>\n      <td>test</td>\n      <td>.png</td>\n      <td>400</td>\n      <td>animate</td>\n      <td>inanimate</td>\n    </tr>\n    <tr>\n      <td>8</td>\n      <td>1</td>\n      <td>train</td>\n      <td>train_1</td>\n      <td>inanimate</td>\n      <td>congruent</td>\n      <td>trainA.mp3</td>\n      <td>encoding</td>\n      <td>test</td>\n      <td>.png</td>\n      <td>400</td>\n      <td>animate</td>\n      <td>inanimate</td>\n    </tr>\n    <tr>\n      <td>9</td>\n      <td>2</td>\n      <td>stapler</td>\n      <td>stapler_1</td>\n      <td>inanimate</td>\n      <td>congruent</td>\n      <td>staplerA.mp3</td>\n      <td>encoding</td>\n      <td>test</td>\n      <td>.png</td>\n      <td>400</td>\n      <td>animate</td>\n      <td>inanimate</td>\n    </tr>\n    <tr>\n      <td>10</td>\n      <td>3</td>\n      <td>smartphone</td>\n      <td>smartphone_2</td>\n      <td>inanimate</td>\n      <td>congruent</td>\n      <td>smartphoneA.mp3</td>\n      <td>encoding</td>\n      <td>test</td>\n      <td>.png</td>\n      <td>400</td>\n      <td>animate</td>\n      <td>inanimate</td>\n    </tr>\n    <tr>\n      <td>11</td>\n      <td>4</td>\n      <td>scissors</td>\n      <td>scissors_1</td>\n      <td>inanimate</td>\n      <td>congruent</td>\n      <td>scissorsA.mp3</td>\n      <td>encoding</td>\n      <td>test</td>\n      <td>.png</td>\n      <td>400</td>\n      <td>animate</td>\n      <td>inanimate</td>\n    </tr>\n    <tr>\n      <td>12</td>\n      <td>5</td>\n      <td>saw</td>\n      <td>saw_1</td>\n      <td>inanimate</td>\n      <td>congruent</td>\n      <td>sawA.mp3</td>\n      <td>encoding</td>\n      <td>test</td>\n      <td>.png</td>\n      <td>400</td>\n      <td>animate</td>\n      <td>inanimate</td>\n    </tr>\n    <tr>\n      <td>13</td>\n      <td>6</td>\n      <td>piano</td>\n      <td>piano_1</td>\n      <td>inanimate</td>\n      <td>congruent</td>\n      <td>pianoA.mp3</td>\n      <td>encoding</td>\n      <td>test</td>\n      <td>.png</td>\n      <td>400</td>\n      <td>animate</td>\n      <td>inanimate</td>\n    </tr>\n    <tr>\n      <td>14</td>\n      <td>14</td>\n      <td>crocodile</td>\n      <td>crocodile_2</td>\n      <td>animate</td>\n      <td>incongruent</td>\n      <td>horseA.mp3</td>\n      <td>encoding</td>\n      <td>test</td>\n      <td>.png</td>\n      <td>400</td>\n      <td>animate</td>\n      <td>inanimate</td>\n    </tr>\n    <tr>\n      <td>15</td>\n      <td>15</td>\n      <td>cow</td>\n      <td>cow_2</td>\n      <td>animate</td>\n      <td>incongruent</td>\n      <td>gooseA.mp3</td>\n      <td>encoding</td>\n      <td>test</td>\n      <td>.png</td>\n      <td>400</td>\n      <td>animate</td>\n      <td>inanimate</td>\n    </tr>\n    <tr>\n      <td>16</td>\n      <td>16</td>\n      <td>chicken</td>\n      <td>chicken_1</td>\n      <td>animate</td>\n      <td>incongruent</td>\n      <td>goatA.mp3</td>\n      <td>encoding</td>\n      <td>test</td>\n      <td>.png</td>\n      <td>400</td>\n      <td>animate</td>\n      <td>inanimate</td>\n    </tr>\n    <tr>\n      <td>17</td>\n      <td>17</td>\n      <td>cat</td>\n      <td>cat_1</td>\n      <td>animate</td>\n      <td>incongruent</td>\n      <td>frogA.mp3</td>\n      <td>encoding</td>\n      <td>test</td>\n      <td>.png</td>\n      <td>400</td>\n      <td>animate</td>\n      <td>inanimate</td>\n    </tr>\n    <tr>\n      <td>18</td>\n      <td>18</td>\n      <td>bird</td>\n      <td>bird_1</td>\n      <td>animate</td>\n      <td>incongruent</td>\n      <td>elephantA.mp3</td>\n      <td>encoding</td>\n      <td>test</td>\n      <td>.png</td>\n      <td>400</td>\n      <td>animate</td>\n      <td>inanimate</td>\n    </tr>\n    <tr>\n      <td>19</td>\n      <td>19</td>\n      <td>bear</td>\n      <td>bear_1</td>\n      <td>animate</td>\n      <td>incongruent</td>\n      <td>dogA.mp3</td>\n      <td>encoding</td>\n      <td>test</td>\n      <td>.png</td>\n      <td>400</td>\n      <td>animate</td>\n      <td>inanimate</td>\n    </tr>\n    <tr>\n      <td>20</td>\n      <td>20</td>\n      <td>bat</td>\n      <td>bat_1</td>\n      <td>animate</td>\n      <td>incongruent</td>\n      <td>deerA.mp3</td>\n      <td>encoding</td>\n      <td>test</td>\n      <td>.png</td>\n      <td>400</td>\n      <td>animate</td>\n      <td>inanimate</td>\n    </tr>\n    <tr>\n      <td>21</td>\n      <td>14</td>\n      <td>door</td>\n      <td>door_1</td>\n      <td>inanimate</td>\n      <td>incongruent</td>\n      <td>motorcycleA.mp3</td>\n      <td>encoding</td>\n      <td>test</td>\n      <td>.png</td>\n      <td>400</td>\n      <td>animate</td>\n      <td>inanimate</td>\n    </tr>\n    <tr>\n      <td>22</td>\n      <td>15</td>\n      <td>cymbal_ride</td>\n      <td>cymbal_ride_2</td>\n      <td>inanimate</td>\n      <td>incongruent</td>\n      <td>keyboardA.mp3</td>\n      <td>encoding</td>\n      <td>test</td>\n      <td>.png</td>\n      <td>400</td>\n      <td>animate</td>\n      <td>inanimate</td>\n    </tr>\n    <tr>\n      <td>23</td>\n      <td>16</td>\n      <td>car</td>\n      <td>car_3</td>\n      <td>inanimate</td>\n      <td>incongruent</td>\n      <td>doorA.mp3</td>\n      <td>encoding</td>\n      <td>test</td>\n      <td>.png</td>\n      <td>400</td>\n      <td>animate</td>\n      <td>inanimate</td>\n    </tr>\n    <tr>\n      <td>24</td>\n      <td>17</td>\n      <td>camera</td>\n      <td>camera_1</td>\n      <td>inanimate</td>\n      <td>incongruent</td>\n      <td>hammerA.mp3</td>\n      <td>encoding</td>\n      <td>test</td>\n      <td>.png</td>\n      <td>400</td>\n      <td>animate</td>\n      <td>inanimate</td>\n    </tr>\n    <tr>\n      <td>25</td>\n      <td>18</td>\n      <td>boat</td>\n      <td>boat_1</td>\n      <td>inanimate</td>\n      <td>incongruent</td>\n      <td>guitarA.mp3</td>\n      <td>encoding</td>\n      <td>test</td>\n      <td>.png</td>\n      <td>400</td>\n      <td>animate</td>\n      <td>inanimate</td>\n    </tr>\n    <tr>\n      <td>26</td>\n      <td>19</td>\n      <td>bicycle</td>\n      <td>bicycle_1</td>\n      <td>inanimate</td>\n      <td>incongruent</td>\n      <td>drumA.mp3</td>\n      <td>encoding</td>\n      <td>test</td>\n      <td>.png</td>\n      <td>400</td>\n      <td>animate</td>\n      <td>inanimate</td>\n    </tr>\n    <tr>\n      <td>27</td>\n      <td>20</td>\n      <td>bell</td>\n      <td>bell_5</td>\n      <td>inanimate</td>\n      <td>incongruent</td>\n      <td>hammerA.mp3</td>\n      <td>encoding</td>\n      <td>test</td>\n      <td>.png</td>\n      <td>400</td>\n      <td>animate</td>\n      <td>inanimate</td>\n    </tr>\n    <tr>\n      <td>28</td>\n      <td>7</td>\n      <td>horse</td>\n      <td>horse_1</td>\n      <td>animate</td>\n      <td>control</td>\n      <td>jumble1.mp3</td>\n      <td>encoding</td>\n      <td>test</td>\n      <td>.png</td>\n      <td>400</td>\n      <td>animate</td>\n      <td>inanimate</td>\n    </tr>\n    <tr>\n      <td>29</td>\n      <td>8</td>\n      <td>goose</td>\n      <td>goose_1</td>\n      <td>animate</td>\n      <td>control</td>\n      <td>jumble2.mp3</td>\n      <td>encoding</td>\n      <td>test</td>\n      <td>.png</td>\n      <td>400</td>\n      <td>animate</td>\n      <td>inanimate</td>\n    </tr>\n    <tr>\n      <td>30</td>\n      <td>9</td>\n      <td>goat</td>\n      <td>goat_3</td>\n      <td>animate</td>\n      <td>control</td>\n      <td>jumble3.mp3</td>\n      <td>encoding</td>\n      <td>test</td>\n      <td>.png</td>\n      <td>400</td>\n      <td>animate</td>\n      <td>inanimate</td>\n    </tr>\n    <tr>\n      <td>31</td>\n      <td>10</td>\n      <td>frog</td>\n      <td>frog_1</td>\n      <td>animate</td>\n      <td>control</td>\n      <td>jumble4.mp3</td>\n      <td>encoding</td>\n      <td>test</td>\n      <td>.png</td>\n      <td>400</td>\n      <td>animate</td>\n      <td>inanimate</td>\n    </tr>\n    <tr>\n      <td>32</td>\n      <td>11</td>\n      <td>elephant</td>\n      <td>elephant_1</td>\n      <td>animate</td>\n      <td>control</td>\n      <td>jumble5.mp3</td>\n      <td>encoding</td>\n      <td>test</td>\n      <td>.png</td>\n      <td>400</td>\n      <td>animate</td>\n      <td>inanimate</td>\n    </tr>\n    <tr>\n      <td>33</td>\n      <td>12</td>\n      <td>dog</td>\n      <td>dog_2</td>\n      <td>animate</td>\n      <td>control</td>\n      <td>jumble6.mp3</td>\n      <td>encoding</td>\n      <td>test</td>\n      <td>.png</td>\n      <td>400</td>\n      <td>animate</td>\n      <td>inanimate</td>\n    </tr>\n    <tr>\n      <td>34</td>\n      <td>13</td>\n      <td>deer</td>\n      <td>deer_4</td>\n      <td>animate</td>\n      <td>control</td>\n      <td>jumble7.mp3</td>\n      <td>encoding</td>\n      <td>test</td>\n      <td>.png</td>\n      <td>400</td>\n      <td>animate</td>\n      <td>inanimate</td>\n    </tr>\n    <tr>\n      <td>35</td>\n      <td>7</td>\n      <td>motorcycle</td>\n      <td>motorcycle_1</td>\n      <td>inanimate</td>\n      <td>control</td>\n      <td>jumble8.mp3</td>\n      <td>encoding</td>\n      <td>test</td>\n      <td>.png</td>\n      <td>400</td>\n      <td>animate</td>\n      <td>inanimate</td>\n    </tr>\n    <tr>\n      <td>36</td>\n      <td>8</td>\n      <td>keyboard</td>\n      <td>keyboard_2</td>\n      <td>inanimate</td>\n      <td>control</td>\n      <td>jumble9.mp3</td>\n      <td>encoding</td>\n      <td>test</td>\n      <td>.png</td>\n      <td>400</td>\n      <td>animate</td>\n      <td>inanimate</td>\n    </tr>\n    <tr>\n      <td>37</td>\n      <td>9</td>\n      <td>jet</td>\n      <td>jet_1</td>\n      <td>inanimate</td>\n      <td>control</td>\n      <td>jumble10.mp3</td>\n      <td>encoding</td>\n      <td>test</td>\n      <td>.png</td>\n      <td>400</td>\n      <td>animate</td>\n      <td>inanimate</td>\n    </tr>\n    <tr>\n      <td>38</td>\n      <td>10</td>\n      <td>hammer</td>\n      <td>hammer_3</td>\n      <td>inanimate</td>\n      <td>control</td>\n      <td>jumble11.mp3</td>\n      <td>encoding</td>\n      <td>test</td>\n      <td>.png</td>\n      <td>400</td>\n      <td>animate</td>\n      <td>inanimate</td>\n    </tr>\n    <tr>\n      <td>39</td>\n      <td>11</td>\n      <td>guitar</td>\n      <td>guitar_3</td>\n      <td>inanimate</td>\n      <td>control</td>\n      <td>jumble12.mp3</td>\n      <td>encoding</td>\n      <td>test</td>\n      <td>.png</td>\n      <td>400</td>\n      <td>animate</td>\n      <td>inanimate</td>\n    </tr>\n    <tr>\n      <td>40</td>\n      <td>12</td>\n      <td>drum</td>\n      <td>drum_2</td>\n      <td>inanimate</td>\n      <td>control</td>\n      <td>jumble13.mp3</td>\n      <td>encoding</td>\n      <td>test</td>\n      <td>.png</td>\n      <td>400</td>\n      <td>animate</td>\n      <td>inanimate</td>\n    </tr>\n    <tr>\n      <td>41</td>\n      <td>13</td>\n      <td>drill</td>\n      <td>drill_1</td>\n      <td>inanimate</td>\n      <td>control</td>\n      <td>jumble14.mp3</td>\n      <td>encoding</td>\n      <td>test</td>\n      <td>.png</td>\n      <td>400</td>\n      <td>animate</td>\n      <td>inanimate</td>\n    </tr>\n  </tbody>\n</table>\n</div>"
     },
     "metadata": {},
     "execution_count": 138
    }
   ],
   "source": [
    "version1enc = enc_cong1.append(enc_incong3).append(enc_ctrl2)\n",
    "version1enc['phase'] = 'encoding'\n",
    "version1enc['type'] = 'test'\n",
    "version1enc['stimFormat'] = '.png'\n",
    "version1enc['presTime'] = 400\n",
    "version1enc['button1'] = 'animate'\n",
    "version1enc['button2'] = 'inanimate'\n",
    "version1enc = version1enc.reset_index()\n",
    "version1enc.at[23,'audio'] = 'doorA.mp3'\n",
    "version1enc.at[27,'audio'] = 'hammerA.mp3'\n",
    "#version1enc = version1enc.sample(frac = 1)\n",
    "version1enc"
   ]
  },
  {
   "cell_type": "code",
   "execution_count": 139,
   "metadata": {},
   "outputs": [
    {
     "output_type": "execute_result",
     "data": {
      "text/plain": "    index  image_shown          stim1    animacy    condition  \\\n27      6        piano        piano_1  inanimate  incongruent   \n12     12         drum         drum_2  inanimate    congruent   \n11     11       guitar       guitar_3  inanimate    congruent   \n35     14         door         door_1  inanimate      control   \n10     10       hammer       hammer_3  inanimate    congruent   \n5      12          dog          dog_2    animate    congruent   \n1       8        goose        goose_1    animate    congruent   \n6      13         deer         deer_4    animate    congruent   \n40     19      bicycle      bicycle_1  inanimate      control   \n26      5          saw          saw_1  inanimate  incongruent   \n39     18         boat         boat_1  inanimate      control   \n20      6      leopard      leopard_1    animate  incongruent   \n23      2      stapler      stapler_1  inanimate  incongruent   \n13     13        drill        drill_1  inanimate    congruent   \n8       8     keyboard     keyboard_2  inanimate    congruent   \n21      0       washer       washer_2  inanimate  incongruent   \n18      4          pig          pig_3    animate  incongruent   \n7       7   motorcycle   motorcycle_1  inanimate    congruent   \n41     20         bell         bell_5  inanimate      control   \n3      10         frog         frog_1    animate    congruent   \n37     16          car          car_3  inanimate      control   \n24      3   smartphone   smartphone_2  inanimate  incongruent   \n16      2        snake        snake_1    animate  incongruent   \n29     15          cow          cow_2    animate      control   \n4      11     elephant     elephant_1    animate    congruent   \n30     16      chicken      chicken_1    animate      control   \n36     15  cymbal_ride  cymbal_ride_2  inanimate      control   \n25      4     scissors     scissors_1  inanimate  incongruent   \n15      1        tiger        tiger_1    animate  incongruent   \n31     17          cat          cat_1    animate      control   \n14      0         wolf         wolf_1    animate  incongruent   \n0       7        horse        horse_1    animate    congruent   \n9       9          jet          jet_1  inanimate    congruent   \n32     18         bird         bird_1    animate      control   \n33     19         bear         bear_1    animate      control   \n22      1        train        train_1  inanimate  incongruent   \n19      5      penguin      penguin_1    animate  incongruent   \n17      3          rat          rat_1    animate  incongruent   \n38     17       camera       camera_1  inanimate      control   \n34     20          bat          bat_1    animate      control   \n28     14    crocodile    crocodile_2    animate      control   \n2       9         goat         goat_3    animate    congruent   \n\n               audio     phase  type stimFormat  presTime  button1    button2  \n27         bellA.mp3  encoding  test       .png       400  animate  inanimate  \n12         drumA.mp3  encoding  test       .png       400  animate  inanimate  \n11       guitarA.mp3  encoding  test       .png       400  animate  inanimate  \n35       jumble8.mp3  encoding  test       .png       400  animate  inanimate  \n10       hammerA.mp3  encoding  test       .png       400  animate  inanimate  \n5           dogA.mp3  encoding  test       .png       400  animate  inanimate  \n1         gooseA.mp3  encoding  test       .png       400  animate  inanimate  \n6          deerA.mp3  encoding  test       .png       400  animate  inanimate  \n40      jumble13.mp3  encoding  test       .png       400  animate  inanimate  \n26      bicycleA.mp3  encoding  test       .png       400  animate  inanimate  \n39      jumble12.mp3  encoding  test       .png       400  animate  inanimate  \n20          batA.mp3  encoding  test       .png       400  animate  inanimate  \n23          carA.mp3  encoding  test       .png       400  animate  inanimate  \n13        drillA.mp3  encoding  test       .png       400  animate  inanimate  \n8      keyboardA.mp3  encoding  test       .png       400  animate  inanimate  \n21         doorA.mp3  encoding  test       .png       400  animate  inanimate  \n18         birdA.mp3  encoding  test       .png       400  animate  inanimate  \n7    motorcycleA.mp3  encoding  test       .png       400  animate  inanimate  \n41      jumble14.mp3  encoding  test       .png       400  animate  inanimate  \n3          frogA.mp3  encoding  test       .png       400  animate  inanimate  \n37      jumble10.mp3  encoding  test       .png       400  animate  inanimate  \n24       cameraA.mp3  encoding  test       .png       400  animate  inanimate  \n16    crocodileA.mp3  encoding  test       .png       400  animate  inanimate  \n29       jumble2.mp3  encoding  test       .png       400  animate  inanimate  \n4      elephantA.mp3  encoding  test       .png       400  animate  inanimate  \n30       jumble3.mp3  encoding  test       .png       400  animate  inanimate  \n36       jumble9.mp3  encoding  test       .png       400  animate  inanimate  \n25         boatA.mp3  encoding  test       .png       400  animate  inanimate  \n15          cowA.mp3  encoding  test       .png       400  animate  inanimate  \n31       jumble4.mp3  encoding  test       .png       400  animate  inanimate  \n14      chickenA.mp3  encoding  test       .png       400  animate  inanimate  \n0         horseA.mp3  encoding  test       .png       400  animate  inanimate  \n9           jetA.mp3  encoding  test       .png       400  animate  inanimate  \n32       jumble5.mp3  encoding  test       .png       400  animate  inanimate  \n33       jumble6.mp3  encoding  test       .png       400  animate  inanimate  \n22  cymbal_rideA.mp3  encoding  test       .png       400  animate  inanimate  \n19         bearA.mp3  encoding  test       .png       400  animate  inanimate  \n17          catA.mp3  encoding  test       .png       400  animate  inanimate  \n38      jumble11.mp3  encoding  test       .png       400  animate  inanimate  \n34       jumble7.mp3  encoding  test       .png       400  animate  inanimate  \n28       jumble1.mp3  encoding  test       .png       400  animate  inanimate  \n2          goatA.mp3  encoding  test       .png       400  animate  inanimate  ",
      "text/html": "<div>\n<style scoped>\n    .dataframe tbody tr th:only-of-type {\n        vertical-align: middle;\n    }\n\n    .dataframe tbody tr th {\n        vertical-align: top;\n    }\n\n    .dataframe thead th {\n        text-align: right;\n    }\n</style>\n<table border=\"1\" class=\"dataframe\">\n  <thead>\n    <tr style=\"text-align: right;\">\n      <th></th>\n      <th>index</th>\n      <th>image_shown</th>\n      <th>stim1</th>\n      <th>animacy</th>\n      <th>condition</th>\n      <th>audio</th>\n      <th>phase</th>\n      <th>type</th>\n      <th>stimFormat</th>\n      <th>presTime</th>\n      <th>button1</th>\n      <th>button2</th>\n    </tr>\n  </thead>\n  <tbody>\n    <tr>\n      <td>27</td>\n      <td>6</td>\n      <td>piano</td>\n      <td>piano_1</td>\n      <td>inanimate</td>\n      <td>incongruent</td>\n      <td>bellA.mp3</td>\n      <td>encoding</td>\n      <td>test</td>\n      <td>.png</td>\n      <td>400</td>\n      <td>animate</td>\n      <td>inanimate</td>\n    </tr>\n    <tr>\n      <td>12</td>\n      <td>12</td>\n      <td>drum</td>\n      <td>drum_2</td>\n      <td>inanimate</td>\n      <td>congruent</td>\n      <td>drumA.mp3</td>\n      <td>encoding</td>\n      <td>test</td>\n      <td>.png</td>\n      <td>400</td>\n      <td>animate</td>\n      <td>inanimate</td>\n    </tr>\n    <tr>\n      <td>11</td>\n      <td>11</td>\n      <td>guitar</td>\n      <td>guitar_3</td>\n      <td>inanimate</td>\n      <td>congruent</td>\n      <td>guitarA.mp3</td>\n      <td>encoding</td>\n      <td>test</td>\n      <td>.png</td>\n      <td>400</td>\n      <td>animate</td>\n      <td>inanimate</td>\n    </tr>\n    <tr>\n      <td>35</td>\n      <td>14</td>\n      <td>door</td>\n      <td>door_1</td>\n      <td>inanimate</td>\n      <td>control</td>\n      <td>jumble8.mp3</td>\n      <td>encoding</td>\n      <td>test</td>\n      <td>.png</td>\n      <td>400</td>\n      <td>animate</td>\n      <td>inanimate</td>\n    </tr>\n    <tr>\n      <td>10</td>\n      <td>10</td>\n      <td>hammer</td>\n      <td>hammer_3</td>\n      <td>inanimate</td>\n      <td>congruent</td>\n      <td>hammerA.mp3</td>\n      <td>encoding</td>\n      <td>test</td>\n      <td>.png</td>\n      <td>400</td>\n      <td>animate</td>\n      <td>inanimate</td>\n    </tr>\n    <tr>\n      <td>5</td>\n      <td>12</td>\n      <td>dog</td>\n      <td>dog_2</td>\n      <td>animate</td>\n      <td>congruent</td>\n      <td>dogA.mp3</td>\n      <td>encoding</td>\n      <td>test</td>\n      <td>.png</td>\n      <td>400</td>\n      <td>animate</td>\n      <td>inanimate</td>\n    </tr>\n    <tr>\n      <td>1</td>\n      <td>8</td>\n      <td>goose</td>\n      <td>goose_1</td>\n      <td>animate</td>\n      <td>congruent</td>\n      <td>gooseA.mp3</td>\n      <td>encoding</td>\n      <td>test</td>\n      <td>.png</td>\n      <td>400</td>\n      <td>animate</td>\n      <td>inanimate</td>\n    </tr>\n    <tr>\n      <td>6</td>\n      <td>13</td>\n      <td>deer</td>\n      <td>deer_4</td>\n      <td>animate</td>\n      <td>congruent</td>\n      <td>deerA.mp3</td>\n      <td>encoding</td>\n      <td>test</td>\n      <td>.png</td>\n      <td>400</td>\n      <td>animate</td>\n      <td>inanimate</td>\n    </tr>\n    <tr>\n      <td>40</td>\n      <td>19</td>\n      <td>bicycle</td>\n      <td>bicycle_1</td>\n      <td>inanimate</td>\n      <td>control</td>\n      <td>jumble13.mp3</td>\n      <td>encoding</td>\n      <td>test</td>\n      <td>.png</td>\n      <td>400</td>\n      <td>animate</td>\n      <td>inanimate</td>\n    </tr>\n    <tr>\n      <td>26</td>\n      <td>5</td>\n      <td>saw</td>\n      <td>saw_1</td>\n      <td>inanimate</td>\n      <td>incongruent</td>\n      <td>bicycleA.mp3</td>\n      <td>encoding</td>\n      <td>test</td>\n      <td>.png</td>\n      <td>400</td>\n      <td>animate</td>\n      <td>inanimate</td>\n    </tr>\n    <tr>\n      <td>39</td>\n      <td>18</td>\n      <td>boat</td>\n      <td>boat_1</td>\n      <td>inanimate</td>\n      <td>control</td>\n      <td>jumble12.mp3</td>\n      <td>encoding</td>\n      <td>test</td>\n      <td>.png</td>\n      <td>400</td>\n      <td>animate</td>\n      <td>inanimate</td>\n    </tr>\n    <tr>\n      <td>20</td>\n      <td>6</td>\n      <td>leopard</td>\n      <td>leopard_1</td>\n      <td>animate</td>\n      <td>incongruent</td>\n      <td>batA.mp3</td>\n      <td>encoding</td>\n      <td>test</td>\n      <td>.png</td>\n      <td>400</td>\n      <td>animate</td>\n      <td>inanimate</td>\n    </tr>\n    <tr>\n      <td>23</td>\n      <td>2</td>\n      <td>stapler</td>\n      <td>stapler_1</td>\n      <td>inanimate</td>\n      <td>incongruent</td>\n      <td>carA.mp3</td>\n      <td>encoding</td>\n      <td>test</td>\n      <td>.png</td>\n      <td>400</td>\n      <td>animate</td>\n      <td>inanimate</td>\n    </tr>\n    <tr>\n      <td>13</td>\n      <td>13</td>\n      <td>drill</td>\n      <td>drill_1</td>\n      <td>inanimate</td>\n      <td>congruent</td>\n      <td>drillA.mp3</td>\n      <td>encoding</td>\n      <td>test</td>\n      <td>.png</td>\n      <td>400</td>\n      <td>animate</td>\n      <td>inanimate</td>\n    </tr>\n    <tr>\n      <td>8</td>\n      <td>8</td>\n      <td>keyboard</td>\n      <td>keyboard_2</td>\n      <td>inanimate</td>\n      <td>congruent</td>\n      <td>keyboardA.mp3</td>\n      <td>encoding</td>\n      <td>test</td>\n      <td>.png</td>\n      <td>400</td>\n      <td>animate</td>\n      <td>inanimate</td>\n    </tr>\n    <tr>\n      <td>21</td>\n      <td>0</td>\n      <td>washer</td>\n      <td>washer_2</td>\n      <td>inanimate</td>\n      <td>incongruent</td>\n      <td>doorA.mp3</td>\n      <td>encoding</td>\n      <td>test</td>\n      <td>.png</td>\n      <td>400</td>\n      <td>animate</td>\n      <td>inanimate</td>\n    </tr>\n    <tr>\n      <td>18</td>\n      <td>4</td>\n      <td>pig</td>\n      <td>pig_3</td>\n      <td>animate</td>\n      <td>incongruent</td>\n      <td>birdA.mp3</td>\n      <td>encoding</td>\n      <td>test</td>\n      <td>.png</td>\n      <td>400</td>\n      <td>animate</td>\n      <td>inanimate</td>\n    </tr>\n    <tr>\n      <td>7</td>\n      <td>7</td>\n      <td>motorcycle</td>\n      <td>motorcycle_1</td>\n      <td>inanimate</td>\n      <td>congruent</td>\n      <td>motorcycleA.mp3</td>\n      <td>encoding</td>\n      <td>test</td>\n      <td>.png</td>\n      <td>400</td>\n      <td>animate</td>\n      <td>inanimate</td>\n    </tr>\n    <tr>\n      <td>41</td>\n      <td>20</td>\n      <td>bell</td>\n      <td>bell_5</td>\n      <td>inanimate</td>\n      <td>control</td>\n      <td>jumble14.mp3</td>\n      <td>encoding</td>\n      <td>test</td>\n      <td>.png</td>\n      <td>400</td>\n      <td>animate</td>\n      <td>inanimate</td>\n    </tr>\n    <tr>\n      <td>3</td>\n      <td>10</td>\n      <td>frog</td>\n      <td>frog_1</td>\n      <td>animate</td>\n      <td>congruent</td>\n      <td>frogA.mp3</td>\n      <td>encoding</td>\n      <td>test</td>\n      <td>.png</td>\n      <td>400</td>\n      <td>animate</td>\n      <td>inanimate</td>\n    </tr>\n    <tr>\n      <td>37</td>\n      <td>16</td>\n      <td>car</td>\n      <td>car_3</td>\n      <td>inanimate</td>\n      <td>control</td>\n      <td>jumble10.mp3</td>\n      <td>encoding</td>\n      <td>test</td>\n      <td>.png</td>\n      <td>400</td>\n      <td>animate</td>\n      <td>inanimate</td>\n    </tr>\n    <tr>\n      <td>24</td>\n      <td>3</td>\n      <td>smartphone</td>\n      <td>smartphone_2</td>\n      <td>inanimate</td>\n      <td>incongruent</td>\n      <td>cameraA.mp3</td>\n      <td>encoding</td>\n      <td>test</td>\n      <td>.png</td>\n      <td>400</td>\n      <td>animate</td>\n      <td>inanimate</td>\n    </tr>\n    <tr>\n      <td>16</td>\n      <td>2</td>\n      <td>snake</td>\n      <td>snake_1</td>\n      <td>animate</td>\n      <td>incongruent</td>\n      <td>crocodileA.mp3</td>\n      <td>encoding</td>\n      <td>test</td>\n      <td>.png</td>\n      <td>400</td>\n      <td>animate</td>\n      <td>inanimate</td>\n    </tr>\n    <tr>\n      <td>29</td>\n      <td>15</td>\n      <td>cow</td>\n      <td>cow_2</td>\n      <td>animate</td>\n      <td>control</td>\n      <td>jumble2.mp3</td>\n      <td>encoding</td>\n      <td>test</td>\n      <td>.png</td>\n      <td>400</td>\n      <td>animate</td>\n      <td>inanimate</td>\n    </tr>\n    <tr>\n      <td>4</td>\n      <td>11</td>\n      <td>elephant</td>\n      <td>elephant_1</td>\n      <td>animate</td>\n      <td>congruent</td>\n      <td>elephantA.mp3</td>\n      <td>encoding</td>\n      <td>test</td>\n      <td>.png</td>\n      <td>400</td>\n      <td>animate</td>\n      <td>inanimate</td>\n    </tr>\n    <tr>\n      <td>30</td>\n      <td>16</td>\n      <td>chicken</td>\n      <td>chicken_1</td>\n      <td>animate</td>\n      <td>control</td>\n      <td>jumble3.mp3</td>\n      <td>encoding</td>\n      <td>test</td>\n      <td>.png</td>\n      <td>400</td>\n      <td>animate</td>\n      <td>inanimate</td>\n    </tr>\n    <tr>\n      <td>36</td>\n      <td>15</td>\n      <td>cymbal_ride</td>\n      <td>cymbal_ride_2</td>\n      <td>inanimate</td>\n      <td>control</td>\n      <td>jumble9.mp3</td>\n      <td>encoding</td>\n      <td>test</td>\n      <td>.png</td>\n      <td>400</td>\n      <td>animate</td>\n      <td>inanimate</td>\n    </tr>\n    <tr>\n      <td>25</td>\n      <td>4</td>\n      <td>scissors</td>\n      <td>scissors_1</td>\n      <td>inanimate</td>\n      <td>incongruent</td>\n      <td>boatA.mp3</td>\n      <td>encoding</td>\n      <td>test</td>\n      <td>.png</td>\n      <td>400</td>\n      <td>animate</td>\n      <td>inanimate</td>\n    </tr>\n    <tr>\n      <td>15</td>\n      <td>1</td>\n      <td>tiger</td>\n      <td>tiger_1</td>\n      <td>animate</td>\n      <td>incongruent</td>\n      <td>cowA.mp3</td>\n      <td>encoding</td>\n      <td>test</td>\n      <td>.png</td>\n      <td>400</td>\n      <td>animate</td>\n      <td>inanimate</td>\n    </tr>\n    <tr>\n      <td>31</td>\n      <td>17</td>\n      <td>cat</td>\n      <td>cat_1</td>\n      <td>animate</td>\n      <td>control</td>\n      <td>jumble4.mp3</td>\n      <td>encoding</td>\n      <td>test</td>\n      <td>.png</td>\n      <td>400</td>\n      <td>animate</td>\n      <td>inanimate</td>\n    </tr>\n    <tr>\n      <td>14</td>\n      <td>0</td>\n      <td>wolf</td>\n      <td>wolf_1</td>\n      <td>animate</td>\n      <td>incongruent</td>\n      <td>chickenA.mp3</td>\n      <td>encoding</td>\n      <td>test</td>\n      <td>.png</td>\n      <td>400</td>\n      <td>animate</td>\n      <td>inanimate</td>\n    </tr>\n    <tr>\n      <td>0</td>\n      <td>7</td>\n      <td>horse</td>\n      <td>horse_1</td>\n      <td>animate</td>\n      <td>congruent</td>\n      <td>horseA.mp3</td>\n      <td>encoding</td>\n      <td>test</td>\n      <td>.png</td>\n      <td>400</td>\n      <td>animate</td>\n      <td>inanimate</td>\n    </tr>\n    <tr>\n      <td>9</td>\n      <td>9</td>\n      <td>jet</td>\n      <td>jet_1</td>\n      <td>inanimate</td>\n      <td>congruent</td>\n      <td>jetA.mp3</td>\n      <td>encoding</td>\n      <td>test</td>\n      <td>.png</td>\n      <td>400</td>\n      <td>animate</td>\n      <td>inanimate</td>\n    </tr>\n    <tr>\n      <td>32</td>\n      <td>18</td>\n      <td>bird</td>\n      <td>bird_1</td>\n      <td>animate</td>\n      <td>control</td>\n      <td>jumble5.mp3</td>\n      <td>encoding</td>\n      <td>test</td>\n      <td>.png</td>\n      <td>400</td>\n      <td>animate</td>\n      <td>inanimate</td>\n    </tr>\n    <tr>\n      <td>33</td>\n      <td>19</td>\n      <td>bear</td>\n      <td>bear_1</td>\n      <td>animate</td>\n      <td>control</td>\n      <td>jumble6.mp3</td>\n      <td>encoding</td>\n      <td>test</td>\n      <td>.png</td>\n      <td>400</td>\n      <td>animate</td>\n      <td>inanimate</td>\n    </tr>\n    <tr>\n      <td>22</td>\n      <td>1</td>\n      <td>train</td>\n      <td>train_1</td>\n      <td>inanimate</td>\n      <td>incongruent</td>\n      <td>cymbal_rideA.mp3</td>\n      <td>encoding</td>\n      <td>test</td>\n      <td>.png</td>\n      <td>400</td>\n      <td>animate</td>\n      <td>inanimate</td>\n    </tr>\n    <tr>\n      <td>19</td>\n      <td>5</td>\n      <td>penguin</td>\n      <td>penguin_1</td>\n      <td>animate</td>\n      <td>incongruent</td>\n      <td>bearA.mp3</td>\n      <td>encoding</td>\n      <td>test</td>\n      <td>.png</td>\n      <td>400</td>\n      <td>animate</td>\n      <td>inanimate</td>\n    </tr>\n    <tr>\n      <td>17</td>\n      <td>3</td>\n      <td>rat</td>\n      <td>rat_1</td>\n      <td>animate</td>\n      <td>incongruent</td>\n      <td>catA.mp3</td>\n      <td>encoding</td>\n      <td>test</td>\n      <td>.png</td>\n      <td>400</td>\n      <td>animate</td>\n      <td>inanimate</td>\n    </tr>\n    <tr>\n      <td>38</td>\n      <td>17</td>\n      <td>camera</td>\n      <td>camera_1</td>\n      <td>inanimate</td>\n      <td>control</td>\n      <td>jumble11.mp3</td>\n      <td>encoding</td>\n      <td>test</td>\n      <td>.png</td>\n      <td>400</td>\n      <td>animate</td>\n      <td>inanimate</td>\n    </tr>\n    <tr>\n      <td>34</td>\n      <td>20</td>\n      <td>bat</td>\n      <td>bat_1</td>\n      <td>animate</td>\n      <td>control</td>\n      <td>jumble7.mp3</td>\n      <td>encoding</td>\n      <td>test</td>\n      <td>.png</td>\n      <td>400</td>\n      <td>animate</td>\n      <td>inanimate</td>\n    </tr>\n    <tr>\n      <td>28</td>\n      <td>14</td>\n      <td>crocodile</td>\n      <td>crocodile_2</td>\n      <td>animate</td>\n      <td>control</td>\n      <td>jumble1.mp3</td>\n      <td>encoding</td>\n      <td>test</td>\n      <td>.png</td>\n      <td>400</td>\n      <td>animate</td>\n      <td>inanimate</td>\n    </tr>\n    <tr>\n      <td>2</td>\n      <td>9</td>\n      <td>goat</td>\n      <td>goat_3</td>\n      <td>animate</td>\n      <td>congruent</td>\n      <td>goatA.mp3</td>\n      <td>encoding</td>\n      <td>test</td>\n      <td>.png</td>\n      <td>400</td>\n      <td>animate</td>\n      <td>inanimate</td>\n    </tr>\n  </tbody>\n</table>\n</div>"
     },
     "metadata": {},
     "execution_count": 139
    }
   ],
   "source": [
    "version2enc = enc_cong2.append(enc_incong1).append(enc_ctrl3)\n",
    "version2enc['phase'] = 'encoding'\n",
    "version2enc['type'] = 'test'\n",
    "version2enc['stimFormat'] = '.png'\n",
    "version2enc['presTime'] = 400\n",
    "version2enc['button1'] = 'animate'\n",
    "version2enc['button2'] = 'inanimate'\n",
    "version2enc = version2enc.reset_index()\n",
    "version2enc.at[14,'audio'] = 'chickenA.mp3'\n",
    "version2enc.at[16,'audio'] = 'crocodileA.mp3'\n",
    "version2enc = version2enc.sample(frac = 1)\n",
    "version2enc"
   ]
  },
  {
   "cell_type": "code",
   "execution_count": 140,
   "metadata": {},
   "outputs": [],
   "source": [
    "version3enc = enc_cong3.append(enc_incong2).append(enc_ctrl1)\n",
    "version3enc['phase'] = 'encoding'\n",
    "version3enc['type'] = 'test'\n",
    "version3enc['stimFormat'] = '.png'\n",
    "version3enc['presTime'] = 400\n",
    "version3enc['button1'] = 'animate'\n",
    "version3enc['button2'] = 'inanimate'\n",
    "version3enc = version3enc.reset_index()\n",
    "version3enc.at[27,'audio'] = 'penguinA.mp3'\n",
    "version3enc.at[20,'audio'] = 'snakeA.mp3'\n",
    "version3enc.at[16,'audio'] = 'leopardA.mp3'\n",
    "version3enc.at[19,'audio'] = 'pigA.mp3'\n",
    "version3enc.at[22,'audio'] = 'staplerA.mp3'\n",
    "version3enc.at[23,'audio'] = 'trainA.mp3'\n",
    "version3enc = version3enc.sample(frac = 1)"
   ]
  },
  {
   "cell_type": "markdown",
   "metadata": {},
   "source": [
    "### Recognition phase:\n",
    "- copy each version separately\n",
    "- remove audio\n",
    "- phase = encoding\n",
    "- new buttons (4)\n",
    "- add in all the 'new' items\n",
    "- shuffle again"
   ]
  },
  {
   "cell_type": "code",
   "execution_count": 141,
   "metadata": {},
   "outputs": [
    {
     "output_type": "execute_result",
     "data": {
      "text/plain": "      image_shown            stim1    animacy condition        phase  type  \\\n0          wrench         wrench_1  inanimate       new  recognition  test   \n2           whale          whale_5    animate       new  recognition  test   \n3    watering_can   watering_can_1  inanimate       new  recognition  test   \n5          walkie         walkie_1  inanimate       new  recognition  test   \n8            tape           tape_1  inanimate       new  recognition  test   \n12          shark          shark_2    animate       new  recognition  test   \n15     salamander     salamander_3    animate       new  recognition  test   \n16          rhino          rhino_2    animate       new  recognition  test   \n17  record_player  record_player_1  inanimate       new  recognition  test   \n19          radio          radio_2  inanimate       new  recognition  test   \n20         rabbit         rabbit_2    animate       new  recognition  test   \n26         laptop         laptop_2  inanimate       new  recognition  test   \n35           fish           fish_4    animate       new  recognition  test   \n44           crab           crab_2    animate       new  recognition  test   \n46          coins          coins_1  inanimate       new  recognition  test   \n51          camel          camel_3    animate       new  recognition  test   \n52      butterfly      butterfly_4    animate       new  recognition  test   \n53            bus            bus_2  inanimate       new  recognition  test   \n\n    presTime stimFormat button1    button2   button3 button4  \n0        400       .png    same  different  nonsense     new  \n2        400       .png    same  different  nonsense     new  \n3        400       .png    same  different  nonsense     new  \n5        400       .png    same  different  nonsense     new  \n8        400       .png    same  different  nonsense     new  \n12       400       .png    same  different  nonsense     new  \n15       400       .png    same  different  nonsense     new  \n16       400       .png    same  different  nonsense     new  \n17       400       .png    same  different  nonsense     new  \n19       400       .png    same  different  nonsense     new  \n20       400       .png    same  different  nonsense     new  \n26       400       .png    same  different  nonsense     new  \n35       400       .png    same  different  nonsense     new  \n44       400       .png    same  different  nonsense     new  \n46       400       .png    same  different  nonsense     new  \n51       400       .png    same  different  nonsense     new  \n52       400       .png    same  different  nonsense     new  \n53       400       .png    same  different  nonsense     new  ",
      "text/html": "<div>\n<style scoped>\n    .dataframe tbody tr th:only-of-type {\n        vertical-align: middle;\n    }\n\n    .dataframe tbody tr th {\n        vertical-align: top;\n    }\n\n    .dataframe thead th {\n        text-align: right;\n    }\n</style>\n<table border=\"1\" class=\"dataframe\">\n  <thead>\n    <tr style=\"text-align: right;\">\n      <th></th>\n      <th>image_shown</th>\n      <th>stim1</th>\n      <th>animacy</th>\n      <th>condition</th>\n      <th>phase</th>\n      <th>type</th>\n      <th>presTime</th>\n      <th>stimFormat</th>\n      <th>button1</th>\n      <th>button2</th>\n      <th>button3</th>\n      <th>button4</th>\n    </tr>\n  </thead>\n  <tbody>\n    <tr>\n      <td>0</td>\n      <td>wrench</td>\n      <td>wrench_1</td>\n      <td>inanimate</td>\n      <td>new</td>\n      <td>recognition</td>\n      <td>test</td>\n      <td>400</td>\n      <td>.png</td>\n      <td>same</td>\n      <td>different</td>\n      <td>nonsense</td>\n      <td>new</td>\n    </tr>\n    <tr>\n      <td>2</td>\n      <td>whale</td>\n      <td>whale_5</td>\n      <td>animate</td>\n      <td>new</td>\n      <td>recognition</td>\n      <td>test</td>\n      <td>400</td>\n      <td>.png</td>\n      <td>same</td>\n      <td>different</td>\n      <td>nonsense</td>\n      <td>new</td>\n    </tr>\n    <tr>\n      <td>3</td>\n      <td>watering_can</td>\n      <td>watering_can_1</td>\n      <td>inanimate</td>\n      <td>new</td>\n      <td>recognition</td>\n      <td>test</td>\n      <td>400</td>\n      <td>.png</td>\n      <td>same</td>\n      <td>different</td>\n      <td>nonsense</td>\n      <td>new</td>\n    </tr>\n    <tr>\n      <td>5</td>\n      <td>walkie</td>\n      <td>walkie_1</td>\n      <td>inanimate</td>\n      <td>new</td>\n      <td>recognition</td>\n      <td>test</td>\n      <td>400</td>\n      <td>.png</td>\n      <td>same</td>\n      <td>different</td>\n      <td>nonsense</td>\n      <td>new</td>\n    </tr>\n    <tr>\n      <td>8</td>\n      <td>tape</td>\n      <td>tape_1</td>\n      <td>inanimate</td>\n      <td>new</td>\n      <td>recognition</td>\n      <td>test</td>\n      <td>400</td>\n      <td>.png</td>\n      <td>same</td>\n      <td>different</td>\n      <td>nonsense</td>\n      <td>new</td>\n    </tr>\n    <tr>\n      <td>12</td>\n      <td>shark</td>\n      <td>shark_2</td>\n      <td>animate</td>\n      <td>new</td>\n      <td>recognition</td>\n      <td>test</td>\n      <td>400</td>\n      <td>.png</td>\n      <td>same</td>\n      <td>different</td>\n      <td>nonsense</td>\n      <td>new</td>\n    </tr>\n    <tr>\n      <td>15</td>\n      <td>salamander</td>\n      <td>salamander_3</td>\n      <td>animate</td>\n      <td>new</td>\n      <td>recognition</td>\n      <td>test</td>\n      <td>400</td>\n      <td>.png</td>\n      <td>same</td>\n      <td>different</td>\n      <td>nonsense</td>\n      <td>new</td>\n    </tr>\n    <tr>\n      <td>16</td>\n      <td>rhino</td>\n      <td>rhino_2</td>\n      <td>animate</td>\n      <td>new</td>\n      <td>recognition</td>\n      <td>test</td>\n      <td>400</td>\n      <td>.png</td>\n      <td>same</td>\n      <td>different</td>\n      <td>nonsense</td>\n      <td>new</td>\n    </tr>\n    <tr>\n      <td>17</td>\n      <td>record_player</td>\n      <td>record_player_1</td>\n      <td>inanimate</td>\n      <td>new</td>\n      <td>recognition</td>\n      <td>test</td>\n      <td>400</td>\n      <td>.png</td>\n      <td>same</td>\n      <td>different</td>\n      <td>nonsense</td>\n      <td>new</td>\n    </tr>\n    <tr>\n      <td>19</td>\n      <td>radio</td>\n      <td>radio_2</td>\n      <td>inanimate</td>\n      <td>new</td>\n      <td>recognition</td>\n      <td>test</td>\n      <td>400</td>\n      <td>.png</td>\n      <td>same</td>\n      <td>different</td>\n      <td>nonsense</td>\n      <td>new</td>\n    </tr>\n    <tr>\n      <td>20</td>\n      <td>rabbit</td>\n      <td>rabbit_2</td>\n      <td>animate</td>\n      <td>new</td>\n      <td>recognition</td>\n      <td>test</td>\n      <td>400</td>\n      <td>.png</td>\n      <td>same</td>\n      <td>different</td>\n      <td>nonsense</td>\n      <td>new</td>\n    </tr>\n    <tr>\n      <td>26</td>\n      <td>laptop</td>\n      <td>laptop_2</td>\n      <td>inanimate</td>\n      <td>new</td>\n      <td>recognition</td>\n      <td>test</td>\n      <td>400</td>\n      <td>.png</td>\n      <td>same</td>\n      <td>different</td>\n      <td>nonsense</td>\n      <td>new</td>\n    </tr>\n    <tr>\n      <td>35</td>\n      <td>fish</td>\n      <td>fish_4</td>\n      <td>animate</td>\n      <td>new</td>\n      <td>recognition</td>\n      <td>test</td>\n      <td>400</td>\n      <td>.png</td>\n      <td>same</td>\n      <td>different</td>\n      <td>nonsense</td>\n      <td>new</td>\n    </tr>\n    <tr>\n      <td>44</td>\n      <td>crab</td>\n      <td>crab_2</td>\n      <td>animate</td>\n      <td>new</td>\n      <td>recognition</td>\n      <td>test</td>\n      <td>400</td>\n      <td>.png</td>\n      <td>same</td>\n      <td>different</td>\n      <td>nonsense</td>\n      <td>new</td>\n    </tr>\n    <tr>\n      <td>46</td>\n      <td>coins</td>\n      <td>coins_1</td>\n      <td>inanimate</td>\n      <td>new</td>\n      <td>recognition</td>\n      <td>test</td>\n      <td>400</td>\n      <td>.png</td>\n      <td>same</td>\n      <td>different</td>\n      <td>nonsense</td>\n      <td>new</td>\n    </tr>\n    <tr>\n      <td>51</td>\n      <td>camel</td>\n      <td>camel_3</td>\n      <td>animate</td>\n      <td>new</td>\n      <td>recognition</td>\n      <td>test</td>\n      <td>400</td>\n      <td>.png</td>\n      <td>same</td>\n      <td>different</td>\n      <td>nonsense</td>\n      <td>new</td>\n    </tr>\n    <tr>\n      <td>52</td>\n      <td>butterfly</td>\n      <td>butterfly_4</td>\n      <td>animate</td>\n      <td>new</td>\n      <td>recognition</td>\n      <td>test</td>\n      <td>400</td>\n      <td>.png</td>\n      <td>same</td>\n      <td>different</td>\n      <td>nonsense</td>\n      <td>new</td>\n    </tr>\n    <tr>\n      <td>53</td>\n      <td>bus</td>\n      <td>bus_2</td>\n      <td>inanimate</td>\n      <td>new</td>\n      <td>recognition</td>\n      <td>test</td>\n      <td>400</td>\n      <td>.png</td>\n      <td>same</td>\n      <td>different</td>\n      <td>nonsense</td>\n      <td>new</td>\n    </tr>\n  </tbody>\n</table>\n</div>"
     },
     "metadata": {},
     "execution_count": 141
    }
   ],
   "source": [
    "new_cols = control_images[['object_image', 'stim1']]\n",
    "new_cols = new_cols.rename(columns={'object_image': 'image_shown'})\n",
    "new_cols['animacy'] = ['inanimate', 'animate', 'inanimate', 'inanimate', 'inanimate','animate','animate','animate','inanimate', 'inanimate', 'animate', 'inanimate', 'animate', 'animate', 'inanimate', 'animate', 'animate','inanimate']\n",
    "new_cols['condition'] = 'new'\n",
    "new_cols['phase'] = 'recognition'\n",
    "new_cols['type'] = 'test'\n",
    "new_cols['presTime'] = 400\n",
    "new_cols['stimFormat'] = '.png'\n",
    "new_cols['button1'] = 'same'\n",
    "new_cols['button2'] = 'different'\n",
    "new_cols['button3'] = 'nonsense'\n",
    "new_cols['button4'] = 'new'\n",
    "new_cols"
   ]
  },
  {
   "cell_type": "markdown",
   "metadata": {},
   "source": [
    "### trial file 1"
   ]
  },
  {
   "cell_type": "code",
   "execution_count": 142,
   "metadata": {},
   "outputs": [],
   "source": [
    "version1rec = version1enc.copy()\n",
    "version1rec = version1rec.drop(columns=['audio'])\n",
    "version1rec['phase'] = 'recognition'\n",
    "version1rec['button1'] = 'same'\n",
    "version1rec['button2'] = 'different'\n",
    "version1rec['button3'] = 'nonsense'\n",
    "version1rec['button4'] = 'new'"
   ]
  },
  {
   "cell_type": "code",
   "execution_count": 143,
   "metadata": {},
   "outputs": [],
   "source": [
    "version1rec = version1rec.merge(new_cols, how='outer')\n",
    "version1rec = version1rec.sample(frac = 1)"
   ]
  },
  {
   "cell_type": "code",
   "execution_count": 144,
   "metadata": {},
   "outputs": [],
   "source": [
    "trial_file1 = version1enc.append(version1rec)\n",
    "trial_file1['version'] = 1\n",
    "trial_file1 = trial_file1[['version','type','phase','condition','animacy','image_shown','stim1','stimFormat','audio','presTime','button1','button2','button3','button4']]\n",
    "#trial_file1.to_csv('/Users/sheaduarte/Desktop/trial_file1.csv', index=False)"
   ]
  },
  {
   "cell_type": "markdown",
   "metadata": {},
   "source": [
    "### trial file 2"
   ]
  },
  {
   "cell_type": "code",
   "execution_count": 145,
   "metadata": {},
   "outputs": [],
   "source": [
    "version2rec = version2enc.copy()\n",
    "version2rec = version2rec.drop(columns=['audio'])\n",
    "version2rec['phase'] = 'recognition'\n",
    "version2rec['button1'] = 'same'\n",
    "version2rec['button2'] = 'different'\n",
    "version2rec['button3'] = 'nonsense'\n",
    "version2rec['button4'] = 'new'"
   ]
  },
  {
   "cell_type": "code",
   "execution_count": 146,
   "metadata": {},
   "outputs": [],
   "source": [
    "version2rec = version2rec.merge(new_cols, how='outer')\n",
    "version2rec = version2rec.sample(frac = 1)"
   ]
  },
  {
   "cell_type": "code",
   "execution_count": 147,
   "metadata": {},
   "outputs": [],
   "source": [
    "trial_file2 = version2enc.append(version2rec)\n",
    "trial_file2['version'] = 2\n",
    "trial_file2 = trial_file2[['version','type','phase','condition','animacy','image_shown','stim1','stimFormat','audio','presTime','button1','button2','button3','button4']]\n",
    "#trial_file2.to_csv('/Users/sheaduarte/Desktop/trial_file2.csv', index=False)"
   ]
  },
  {
   "cell_type": "markdown",
   "metadata": {},
   "source": [
    "### trial file 3"
   ]
  },
  {
   "cell_type": "code",
   "execution_count": 148,
   "metadata": {},
   "outputs": [],
   "source": [
    "version3rec = version3enc.copy()\n",
    "version3rec = version3rec.drop(columns=['audio'])\n",
    "version3rec['phase'] = 'recognition'\n",
    "version3rec['button1'] = 'same'\n",
    "version3rec['button2'] = 'different'\n",
    "version3rec['button3'] = 'nonsense'\n",
    "version3rec['button4'] = 'new'"
   ]
  },
  {
   "cell_type": "code",
   "execution_count": 149,
   "metadata": {},
   "outputs": [],
   "source": [
    "version3rec = version3rec.merge(new_cols, how='outer')\n",
    "version3rec = version3rec.sample(frac = 1)"
   ]
  },
  {
   "cell_type": "code",
   "execution_count": 150,
   "metadata": {},
   "outputs": [],
   "source": [
    "trial_file3 = version3enc.append(version3rec)\n",
    "trial_file3['version'] = 3\n",
    "trial_file3 = trial_file3[['version','type','phase','condition','animacy','image_shown','stim1','stimFormat','audio','presTime','button1','button2','button3','button4']]\n",
    "#trial_file3.to_csv('/Users/sheaduarte/Desktop/trial_file3.csv', index=False)"
   ]
  },
  {
   "cell_type": "code",
   "execution_count": 151,
   "metadata": {},
   "outputs": [
    {
     "output_type": "execute_result",
     "data": {
      "text/plain": "102"
     },
     "metadata": {},
     "execution_count": 151
    }
   ],
   "source": [
    "len(trial_file2)"
   ]
  },
  {
   "cell_type": "code",
   "execution_count": 152,
   "metadata": {},
   "outputs": [
    {
     "output_type": "execute_result",
     "data": {
      "text/plain": "102"
     },
     "metadata": {},
     "execution_count": 152
    }
   ],
   "source": [
    "len(trial_file1)"
   ]
  },
  {
   "cell_type": "code",
   "execution_count": 153,
   "metadata": {},
   "outputs": [
    {
     "output_type": "execute_result",
     "data": {
      "text/plain": "    version  type        phase    condition    animacy image_shown  \\\n0         1  test     encoding    congruent    animate        wolf   \n1         1  test     encoding    congruent    animate       tiger   \n2         1  test     encoding    congruent    animate       snake   \n3         1  test     encoding    congruent    animate         rat   \n4         1  test     encoding    congruent    animate         pig   \n..      ...   ...          ...          ...        ...         ...   \n49        1  test  recognition          new    animate       rhino   \n27        1  test  recognition  incongruent  inanimate        bell   \n56        1  test  recognition          new  inanimate       coins   \n48        1  test  recognition          new    animate  salamander   \n41        1  test  recognition      control  inanimate       drill   \n\n           stim1 stimFormat       audio  presTime  button1    button2  \\\n0         wolf_1       .png   wolfA.mp3       400  animate  inanimate   \n1        tiger_1       .png  tigerA.mp3       400  animate  inanimate   \n2        snake_1       .png  snakeA.mp3       400  animate  inanimate   \n3          rat_1       .png    ratA.mp3       400  animate  inanimate   \n4          pig_3       .png    pigA.mp3       400  animate  inanimate   \n..           ...        ...         ...       ...      ...        ...   \n49       rhino_2       .png         NaN       400     same  different   \n27        bell_5       .png         NaN       400     same  different   \n56       coins_1       .png         NaN       400     same  different   \n48  salamander_3       .png         NaN       400     same  different   \n41       drill_1       .png         NaN       400     same  different   \n\n     button3 button4  \n0        NaN     NaN  \n1        NaN     NaN  \n2        NaN     NaN  \n3        NaN     NaN  \n4        NaN     NaN  \n..       ...     ...  \n49  nonsense     new  \n27  nonsense     new  \n56  nonsense     new  \n48  nonsense     new  \n41  nonsense     new  \n\n[102 rows x 14 columns]",
      "text/html": "<div>\n<style scoped>\n    .dataframe tbody tr th:only-of-type {\n        vertical-align: middle;\n    }\n\n    .dataframe tbody tr th {\n        vertical-align: top;\n    }\n\n    .dataframe thead th {\n        text-align: right;\n    }\n</style>\n<table border=\"1\" class=\"dataframe\">\n  <thead>\n    <tr style=\"text-align: right;\">\n      <th></th>\n      <th>version</th>\n      <th>type</th>\n      <th>phase</th>\n      <th>condition</th>\n      <th>animacy</th>\n      <th>image_shown</th>\n      <th>stim1</th>\n      <th>stimFormat</th>\n      <th>audio</th>\n      <th>presTime</th>\n      <th>button1</th>\n      <th>button2</th>\n      <th>button3</th>\n      <th>button4</th>\n    </tr>\n  </thead>\n  <tbody>\n    <tr>\n      <td>0</td>\n      <td>1</td>\n      <td>test</td>\n      <td>encoding</td>\n      <td>congruent</td>\n      <td>animate</td>\n      <td>wolf</td>\n      <td>wolf_1</td>\n      <td>.png</td>\n      <td>wolfA.mp3</td>\n      <td>400</td>\n      <td>animate</td>\n      <td>inanimate</td>\n      <td>NaN</td>\n      <td>NaN</td>\n    </tr>\n    <tr>\n      <td>1</td>\n      <td>1</td>\n      <td>test</td>\n      <td>encoding</td>\n      <td>congruent</td>\n      <td>animate</td>\n      <td>tiger</td>\n      <td>tiger_1</td>\n      <td>.png</td>\n      <td>tigerA.mp3</td>\n      <td>400</td>\n      <td>animate</td>\n      <td>inanimate</td>\n      <td>NaN</td>\n      <td>NaN</td>\n    </tr>\n    <tr>\n      <td>2</td>\n      <td>1</td>\n      <td>test</td>\n      <td>encoding</td>\n      <td>congruent</td>\n      <td>animate</td>\n      <td>snake</td>\n      <td>snake_1</td>\n      <td>.png</td>\n      <td>snakeA.mp3</td>\n      <td>400</td>\n      <td>animate</td>\n      <td>inanimate</td>\n      <td>NaN</td>\n      <td>NaN</td>\n    </tr>\n    <tr>\n      <td>3</td>\n      <td>1</td>\n      <td>test</td>\n      <td>encoding</td>\n      <td>congruent</td>\n      <td>animate</td>\n      <td>rat</td>\n      <td>rat_1</td>\n      <td>.png</td>\n      <td>ratA.mp3</td>\n      <td>400</td>\n      <td>animate</td>\n      <td>inanimate</td>\n      <td>NaN</td>\n      <td>NaN</td>\n    </tr>\n    <tr>\n      <td>4</td>\n      <td>1</td>\n      <td>test</td>\n      <td>encoding</td>\n      <td>congruent</td>\n      <td>animate</td>\n      <td>pig</td>\n      <td>pig_3</td>\n      <td>.png</td>\n      <td>pigA.mp3</td>\n      <td>400</td>\n      <td>animate</td>\n      <td>inanimate</td>\n      <td>NaN</td>\n      <td>NaN</td>\n    </tr>\n    <tr>\n      <td>...</td>\n      <td>...</td>\n      <td>...</td>\n      <td>...</td>\n      <td>...</td>\n      <td>...</td>\n      <td>...</td>\n      <td>...</td>\n      <td>...</td>\n      <td>...</td>\n      <td>...</td>\n      <td>...</td>\n      <td>...</td>\n      <td>...</td>\n      <td>...</td>\n    </tr>\n    <tr>\n      <td>49</td>\n      <td>1</td>\n      <td>test</td>\n      <td>recognition</td>\n      <td>new</td>\n      <td>animate</td>\n      <td>rhino</td>\n      <td>rhino_2</td>\n      <td>.png</td>\n      <td>NaN</td>\n      <td>400</td>\n      <td>same</td>\n      <td>different</td>\n      <td>nonsense</td>\n      <td>new</td>\n    </tr>\n    <tr>\n      <td>27</td>\n      <td>1</td>\n      <td>test</td>\n      <td>recognition</td>\n      <td>incongruent</td>\n      <td>inanimate</td>\n      <td>bell</td>\n      <td>bell_5</td>\n      <td>.png</td>\n      <td>NaN</td>\n      <td>400</td>\n      <td>same</td>\n      <td>different</td>\n      <td>nonsense</td>\n      <td>new</td>\n    </tr>\n    <tr>\n      <td>56</td>\n      <td>1</td>\n      <td>test</td>\n      <td>recognition</td>\n      <td>new</td>\n      <td>inanimate</td>\n      <td>coins</td>\n      <td>coins_1</td>\n      <td>.png</td>\n      <td>NaN</td>\n      <td>400</td>\n      <td>same</td>\n      <td>different</td>\n      <td>nonsense</td>\n      <td>new</td>\n    </tr>\n    <tr>\n      <td>48</td>\n      <td>1</td>\n      <td>test</td>\n      <td>recognition</td>\n      <td>new</td>\n      <td>animate</td>\n      <td>salamander</td>\n      <td>salamander_3</td>\n      <td>.png</td>\n      <td>NaN</td>\n      <td>400</td>\n      <td>same</td>\n      <td>different</td>\n      <td>nonsense</td>\n      <td>new</td>\n    </tr>\n    <tr>\n      <td>41</td>\n      <td>1</td>\n      <td>test</td>\n      <td>recognition</td>\n      <td>control</td>\n      <td>inanimate</td>\n      <td>drill</td>\n      <td>drill_1</td>\n      <td>.png</td>\n      <td>NaN</td>\n      <td>400</td>\n      <td>same</td>\n      <td>different</td>\n      <td>nonsense</td>\n      <td>new</td>\n    </tr>\n  </tbody>\n</table>\n<p>102 rows × 14 columns</p>\n</div>"
     },
     "metadata": {},
     "execution_count": 153
    }
   ],
   "source": [
    "trial_file1\n",
    "#trial_file1.to_csv('/Users/sheaduarte/Desktop/trial_file1.csv', index=False)"
   ]
  },
  {
   "cell_type": "code",
   "execution_count": 154,
   "metadata": {},
   "outputs": [
    {
     "output_type": "execute_result",
     "data": {
      "text/plain": "    version  type        phase    condition    animacy   image_shown  \\\n0         1  test     encoding    congruent    animate          wolf   \n1         1  test     encoding    congruent    animate         tiger   \n2         1  test     encoding    congruent    animate         snake   \n3         1  test     encoding    congruent    animate           rat   \n4         1  test     encoding    congruent    animate           pig   \n5         1  test     encoding    congruent    animate       penguin   \n6         1  test     encoding    congruent    animate       leopard   \n7         1  test     encoding    congruent  inanimate        washer   \n8         1  test     encoding    congruent  inanimate         train   \n9         1  test     encoding    congruent  inanimate       stapler   \n10        1  test     encoding    congruent  inanimate    smartphone   \n11        1  test     encoding    congruent  inanimate      scissors   \n12        1  test     encoding    congruent  inanimate           saw   \n13        1  test     encoding    congruent  inanimate         piano   \n14        1  test     encoding  incongruent    animate     crocodile   \n15        1  test     encoding  incongruent    animate           cow   \n16        1  test     encoding  incongruent    animate       chicken   \n17        1  test     encoding  incongruent    animate           cat   \n18        1  test     encoding  incongruent    animate          bird   \n19        1  test     encoding  incongruent    animate          bear   \n20        1  test     encoding  incongruent    animate           bat   \n21        1  test     encoding  incongruent  inanimate          door   \n22        1  test     encoding  incongruent  inanimate   cymbal_ride   \n23        1  test     encoding  incongruent  inanimate           car   \n24        1  test     encoding  incongruent  inanimate        camera   \n25        1  test     encoding  incongruent  inanimate          boat   \n26        1  test     encoding  incongruent  inanimate       bicycle   \n27        1  test     encoding  incongruent  inanimate          bell   \n28        1  test     encoding      control    animate         horse   \n29        1  test     encoding      control    animate         goose   \n30        1  test     encoding      control    animate          goat   \n31        1  test     encoding      control    animate          frog   \n32        1  test     encoding      control    animate      elephant   \n33        1  test     encoding      control    animate           dog   \n34        1  test     encoding      control    animate          deer   \n35        1  test     encoding      control  inanimate    motorcycle   \n36        1  test     encoding      control  inanimate      keyboard   \n37        1  test     encoding      control  inanimate           jet   \n38        1  test     encoding      control  inanimate        hammer   \n39        1  test     encoding      control  inanimate        guitar   \n40        1  test     encoding      control  inanimate          drum   \n41        1  test     encoding      control  inanimate         drill   \n37        1  test  recognition      control  inanimate           jet   \n24        1  test  recognition  incongruent  inanimate        camera   \n2         1  test  recognition    congruent    animate         snake   \n55        1  test  recognition          new    animate          crab   \n35        1  test  recognition      control  inanimate    motorcycle   \n32        1  test  recognition      control    animate      elephant   \n40        1  test  recognition      control  inanimate          drum   \n44        1  test  recognition          new  inanimate  watering_can   \n\n             stim1 stimFormat            audio  presTime  button1    button2  \\\n0           wolf_1       .png        wolfA.mp3       400  animate  inanimate   \n1          tiger_1       .png       tigerA.mp3       400  animate  inanimate   \n2          snake_1       .png       snakeA.mp3       400  animate  inanimate   \n3            rat_1       .png         ratA.mp3       400  animate  inanimate   \n4            pig_3       .png         pigA.mp3       400  animate  inanimate   \n5        penguin_1       .png     penguinA.mp3       400  animate  inanimate   \n6        leopard_1       .png     leopardA.mp3       400  animate  inanimate   \n7         washer_2       .png      washerA.mp3       400  animate  inanimate   \n8          train_1       .png       trainA.mp3       400  animate  inanimate   \n9        stapler_1       .png     staplerA.mp3       400  animate  inanimate   \n10    smartphone_2       .png  smartphoneA.mp3       400  animate  inanimate   \n11      scissors_1       .png    scissorsA.mp3       400  animate  inanimate   \n12           saw_1       .png         sawA.mp3       400  animate  inanimate   \n13         piano_1       .png       pianoA.mp3       400  animate  inanimate   \n14     crocodile_2       .png       horseA.mp3       400  animate  inanimate   \n15           cow_2       .png       gooseA.mp3       400  animate  inanimate   \n16       chicken_1       .png        goatA.mp3       400  animate  inanimate   \n17           cat_1       .png        frogA.mp3       400  animate  inanimate   \n18          bird_1       .png    elephantA.mp3       400  animate  inanimate   \n19          bear_1       .png         dogA.mp3       400  animate  inanimate   \n20           bat_1       .png        deerA.mp3       400  animate  inanimate   \n21          door_1       .png  motorcycleA.mp3       400  animate  inanimate   \n22   cymbal_ride_2       .png    keyboardA.mp3       400  animate  inanimate   \n23           car_3       .png        doorA.mp3       400  animate  inanimate   \n24        camera_1       .png      hammerA.mp3       400  animate  inanimate   \n25          boat_1       .png      guitarA.mp3       400  animate  inanimate   \n26       bicycle_1       .png        drumA.mp3       400  animate  inanimate   \n27          bell_5       .png      hammerA.mp3       400  animate  inanimate   \n28         horse_1       .png      jumble1.mp3       400  animate  inanimate   \n29         goose_1       .png      jumble2.mp3       400  animate  inanimate   \n30          goat_3       .png      jumble3.mp3       400  animate  inanimate   \n31          frog_1       .png      jumble4.mp3       400  animate  inanimate   \n32      elephant_1       .png      jumble5.mp3       400  animate  inanimate   \n33           dog_2       .png      jumble6.mp3       400  animate  inanimate   \n34          deer_4       .png      jumble7.mp3       400  animate  inanimate   \n35    motorcycle_1       .png      jumble8.mp3       400  animate  inanimate   \n36      keyboard_2       .png      jumble9.mp3       400  animate  inanimate   \n37           jet_1       .png     jumble10.mp3       400  animate  inanimate   \n38        hammer_3       .png     jumble11.mp3       400  animate  inanimate   \n39        guitar_3       .png     jumble12.mp3       400  animate  inanimate   \n40          drum_2       .png     jumble13.mp3       400  animate  inanimate   \n41         drill_1       .png     jumble14.mp3       400  animate  inanimate   \n37           jet_1       .png              NaN       400     same  different   \n24        camera_1       .png              NaN       400     same  different   \n2          snake_1       .png              NaN       400     same  different   \n55          crab_2       .png              NaN       400     same  different   \n35    motorcycle_1       .png              NaN       400     same  different   \n32      elephant_1       .png              NaN       400     same  different   \n40          drum_2       .png              NaN       400     same  different   \n44  watering_can_1       .png              NaN       400     same  different   \n\n     button3 button4  \n0        NaN     NaN  \n1        NaN     NaN  \n2        NaN     NaN  \n3        NaN     NaN  \n4        NaN     NaN  \n5        NaN     NaN  \n6        NaN     NaN  \n7        NaN     NaN  \n8        NaN     NaN  \n9        NaN     NaN  \n10       NaN     NaN  \n11       NaN     NaN  \n12       NaN     NaN  \n13       NaN     NaN  \n14       NaN     NaN  \n15       NaN     NaN  \n16       NaN     NaN  \n17       NaN     NaN  \n18       NaN     NaN  \n19       NaN     NaN  \n20       NaN     NaN  \n21       NaN     NaN  \n22       NaN     NaN  \n23       NaN     NaN  \n24       NaN     NaN  \n25       NaN     NaN  \n26       NaN     NaN  \n27       NaN     NaN  \n28       NaN     NaN  \n29       NaN     NaN  \n30       NaN     NaN  \n31       NaN     NaN  \n32       NaN     NaN  \n33       NaN     NaN  \n34       NaN     NaN  \n35       NaN     NaN  \n36       NaN     NaN  \n37       NaN     NaN  \n38       NaN     NaN  \n39       NaN     NaN  \n40       NaN     NaN  \n41       NaN     NaN  \n37  nonsense     new  \n24  nonsense     new  \n2   nonsense     new  \n55  nonsense     new  \n35  nonsense     new  \n32  nonsense     new  \n40  nonsense     new  \n44  nonsense     new  ",
      "text/html": "<div>\n<style scoped>\n    .dataframe tbody tr th:only-of-type {\n        vertical-align: middle;\n    }\n\n    .dataframe tbody tr th {\n        vertical-align: top;\n    }\n\n    .dataframe thead th {\n        text-align: right;\n    }\n</style>\n<table border=\"1\" class=\"dataframe\">\n  <thead>\n    <tr style=\"text-align: right;\">\n      <th></th>\n      <th>version</th>\n      <th>type</th>\n      <th>phase</th>\n      <th>condition</th>\n      <th>animacy</th>\n      <th>image_shown</th>\n      <th>stim1</th>\n      <th>stimFormat</th>\n      <th>audio</th>\n      <th>presTime</th>\n      <th>button1</th>\n      <th>button2</th>\n      <th>button3</th>\n      <th>button4</th>\n    </tr>\n  </thead>\n  <tbody>\n    <tr>\n      <td>0</td>\n      <td>1</td>\n      <td>test</td>\n      <td>encoding</td>\n      <td>congruent</td>\n      <td>animate</td>\n      <td>wolf</td>\n      <td>wolf_1</td>\n      <td>.png</td>\n      <td>wolfA.mp3</td>\n      <td>400</td>\n      <td>animate</td>\n      <td>inanimate</td>\n      <td>NaN</td>\n      <td>NaN</td>\n    </tr>\n    <tr>\n      <td>1</td>\n      <td>1</td>\n      <td>test</td>\n      <td>encoding</td>\n      <td>congruent</td>\n      <td>animate</td>\n      <td>tiger</td>\n      <td>tiger_1</td>\n      <td>.png</td>\n      <td>tigerA.mp3</td>\n      <td>400</td>\n      <td>animate</td>\n      <td>inanimate</td>\n      <td>NaN</td>\n      <td>NaN</td>\n    </tr>\n    <tr>\n      <td>2</td>\n      <td>1</td>\n      <td>test</td>\n      <td>encoding</td>\n      <td>congruent</td>\n      <td>animate</td>\n      <td>snake</td>\n      <td>snake_1</td>\n      <td>.png</td>\n      <td>snakeA.mp3</td>\n      <td>400</td>\n      <td>animate</td>\n      <td>inanimate</td>\n      <td>NaN</td>\n      <td>NaN</td>\n    </tr>\n    <tr>\n      <td>3</td>\n      <td>1</td>\n      <td>test</td>\n      <td>encoding</td>\n      <td>congruent</td>\n      <td>animate</td>\n      <td>rat</td>\n      <td>rat_1</td>\n      <td>.png</td>\n      <td>ratA.mp3</td>\n      <td>400</td>\n      <td>animate</td>\n      <td>inanimate</td>\n      <td>NaN</td>\n      <td>NaN</td>\n    </tr>\n    <tr>\n      <td>4</td>\n      <td>1</td>\n      <td>test</td>\n      <td>encoding</td>\n      <td>congruent</td>\n      <td>animate</td>\n      <td>pig</td>\n      <td>pig_3</td>\n      <td>.png</td>\n      <td>pigA.mp3</td>\n      <td>400</td>\n      <td>animate</td>\n      <td>inanimate</td>\n      <td>NaN</td>\n      <td>NaN</td>\n    </tr>\n    <tr>\n      <td>5</td>\n      <td>1</td>\n      <td>test</td>\n      <td>encoding</td>\n      <td>congruent</td>\n      <td>animate</td>\n      <td>penguin</td>\n      <td>penguin_1</td>\n      <td>.png</td>\n      <td>penguinA.mp3</td>\n      <td>400</td>\n      <td>animate</td>\n      <td>inanimate</td>\n      <td>NaN</td>\n      <td>NaN</td>\n    </tr>\n    <tr>\n      <td>6</td>\n      <td>1</td>\n      <td>test</td>\n      <td>encoding</td>\n      <td>congruent</td>\n      <td>animate</td>\n      <td>leopard</td>\n      <td>leopard_1</td>\n      <td>.png</td>\n      <td>leopardA.mp3</td>\n      <td>400</td>\n      <td>animate</td>\n      <td>inanimate</td>\n      <td>NaN</td>\n      <td>NaN</td>\n    </tr>\n    <tr>\n      <td>7</td>\n      <td>1</td>\n      <td>test</td>\n      <td>encoding</td>\n      <td>congruent</td>\n      <td>inanimate</td>\n      <td>washer</td>\n      <td>washer_2</td>\n      <td>.png</td>\n      <td>washerA.mp3</td>\n      <td>400</td>\n      <td>animate</td>\n      <td>inanimate</td>\n      <td>NaN</td>\n      <td>NaN</td>\n    </tr>\n    <tr>\n      <td>8</td>\n      <td>1</td>\n      <td>test</td>\n      <td>encoding</td>\n      <td>congruent</td>\n      <td>inanimate</td>\n      <td>train</td>\n      <td>train_1</td>\n      <td>.png</td>\n      <td>trainA.mp3</td>\n      <td>400</td>\n      <td>animate</td>\n      <td>inanimate</td>\n      <td>NaN</td>\n      <td>NaN</td>\n    </tr>\n    <tr>\n      <td>9</td>\n      <td>1</td>\n      <td>test</td>\n      <td>encoding</td>\n      <td>congruent</td>\n      <td>inanimate</td>\n      <td>stapler</td>\n      <td>stapler_1</td>\n      <td>.png</td>\n      <td>staplerA.mp3</td>\n      <td>400</td>\n      <td>animate</td>\n      <td>inanimate</td>\n      <td>NaN</td>\n      <td>NaN</td>\n    </tr>\n    <tr>\n      <td>10</td>\n      <td>1</td>\n      <td>test</td>\n      <td>encoding</td>\n      <td>congruent</td>\n      <td>inanimate</td>\n      <td>smartphone</td>\n      <td>smartphone_2</td>\n      <td>.png</td>\n      <td>smartphoneA.mp3</td>\n      <td>400</td>\n      <td>animate</td>\n      <td>inanimate</td>\n      <td>NaN</td>\n      <td>NaN</td>\n    </tr>\n    <tr>\n      <td>11</td>\n      <td>1</td>\n      <td>test</td>\n      <td>encoding</td>\n      <td>congruent</td>\n      <td>inanimate</td>\n      <td>scissors</td>\n      <td>scissors_1</td>\n      <td>.png</td>\n      <td>scissorsA.mp3</td>\n      <td>400</td>\n      <td>animate</td>\n      <td>inanimate</td>\n      <td>NaN</td>\n      <td>NaN</td>\n    </tr>\n    <tr>\n      <td>12</td>\n      <td>1</td>\n      <td>test</td>\n      <td>encoding</td>\n      <td>congruent</td>\n      <td>inanimate</td>\n      <td>saw</td>\n      <td>saw_1</td>\n      <td>.png</td>\n      <td>sawA.mp3</td>\n      <td>400</td>\n      <td>animate</td>\n      <td>inanimate</td>\n      <td>NaN</td>\n      <td>NaN</td>\n    </tr>\n    <tr>\n      <td>13</td>\n      <td>1</td>\n      <td>test</td>\n      <td>encoding</td>\n      <td>congruent</td>\n      <td>inanimate</td>\n      <td>piano</td>\n      <td>piano_1</td>\n      <td>.png</td>\n      <td>pianoA.mp3</td>\n      <td>400</td>\n      <td>animate</td>\n      <td>inanimate</td>\n      <td>NaN</td>\n      <td>NaN</td>\n    </tr>\n    <tr>\n      <td>14</td>\n      <td>1</td>\n      <td>test</td>\n      <td>encoding</td>\n      <td>incongruent</td>\n      <td>animate</td>\n      <td>crocodile</td>\n      <td>crocodile_2</td>\n      <td>.png</td>\n      <td>horseA.mp3</td>\n      <td>400</td>\n      <td>animate</td>\n      <td>inanimate</td>\n      <td>NaN</td>\n      <td>NaN</td>\n    </tr>\n    <tr>\n      <td>15</td>\n      <td>1</td>\n      <td>test</td>\n      <td>encoding</td>\n      <td>incongruent</td>\n      <td>animate</td>\n      <td>cow</td>\n      <td>cow_2</td>\n      <td>.png</td>\n      <td>gooseA.mp3</td>\n      <td>400</td>\n      <td>animate</td>\n      <td>inanimate</td>\n      <td>NaN</td>\n      <td>NaN</td>\n    </tr>\n    <tr>\n      <td>16</td>\n      <td>1</td>\n      <td>test</td>\n      <td>encoding</td>\n      <td>incongruent</td>\n      <td>animate</td>\n      <td>chicken</td>\n      <td>chicken_1</td>\n      <td>.png</td>\n      <td>goatA.mp3</td>\n      <td>400</td>\n      <td>animate</td>\n      <td>inanimate</td>\n      <td>NaN</td>\n      <td>NaN</td>\n    </tr>\n    <tr>\n      <td>17</td>\n      <td>1</td>\n      <td>test</td>\n      <td>encoding</td>\n      <td>incongruent</td>\n      <td>animate</td>\n      <td>cat</td>\n      <td>cat_1</td>\n      <td>.png</td>\n      <td>frogA.mp3</td>\n      <td>400</td>\n      <td>animate</td>\n      <td>inanimate</td>\n      <td>NaN</td>\n      <td>NaN</td>\n    </tr>\n    <tr>\n      <td>18</td>\n      <td>1</td>\n      <td>test</td>\n      <td>encoding</td>\n      <td>incongruent</td>\n      <td>animate</td>\n      <td>bird</td>\n      <td>bird_1</td>\n      <td>.png</td>\n      <td>elephantA.mp3</td>\n      <td>400</td>\n      <td>animate</td>\n      <td>inanimate</td>\n      <td>NaN</td>\n      <td>NaN</td>\n    </tr>\n    <tr>\n      <td>19</td>\n      <td>1</td>\n      <td>test</td>\n      <td>encoding</td>\n      <td>incongruent</td>\n      <td>animate</td>\n      <td>bear</td>\n      <td>bear_1</td>\n      <td>.png</td>\n      <td>dogA.mp3</td>\n      <td>400</td>\n      <td>animate</td>\n      <td>inanimate</td>\n      <td>NaN</td>\n      <td>NaN</td>\n    </tr>\n    <tr>\n      <td>20</td>\n      <td>1</td>\n      <td>test</td>\n      <td>encoding</td>\n      <td>incongruent</td>\n      <td>animate</td>\n      <td>bat</td>\n      <td>bat_1</td>\n      <td>.png</td>\n      <td>deerA.mp3</td>\n      <td>400</td>\n      <td>animate</td>\n      <td>inanimate</td>\n      <td>NaN</td>\n      <td>NaN</td>\n    </tr>\n    <tr>\n      <td>21</td>\n      <td>1</td>\n      <td>test</td>\n      <td>encoding</td>\n      <td>incongruent</td>\n      <td>inanimate</td>\n      <td>door</td>\n      <td>door_1</td>\n      <td>.png</td>\n      <td>motorcycleA.mp3</td>\n      <td>400</td>\n      <td>animate</td>\n      <td>inanimate</td>\n      <td>NaN</td>\n      <td>NaN</td>\n    </tr>\n    <tr>\n      <td>22</td>\n      <td>1</td>\n      <td>test</td>\n      <td>encoding</td>\n      <td>incongruent</td>\n      <td>inanimate</td>\n      <td>cymbal_ride</td>\n      <td>cymbal_ride_2</td>\n      <td>.png</td>\n      <td>keyboardA.mp3</td>\n      <td>400</td>\n      <td>animate</td>\n      <td>inanimate</td>\n      <td>NaN</td>\n      <td>NaN</td>\n    </tr>\n    <tr>\n      <td>23</td>\n      <td>1</td>\n      <td>test</td>\n      <td>encoding</td>\n      <td>incongruent</td>\n      <td>inanimate</td>\n      <td>car</td>\n      <td>car_3</td>\n      <td>.png</td>\n      <td>doorA.mp3</td>\n      <td>400</td>\n      <td>animate</td>\n      <td>inanimate</td>\n      <td>NaN</td>\n      <td>NaN</td>\n    </tr>\n    <tr>\n      <td>24</td>\n      <td>1</td>\n      <td>test</td>\n      <td>encoding</td>\n      <td>incongruent</td>\n      <td>inanimate</td>\n      <td>camera</td>\n      <td>camera_1</td>\n      <td>.png</td>\n      <td>hammerA.mp3</td>\n      <td>400</td>\n      <td>animate</td>\n      <td>inanimate</td>\n      <td>NaN</td>\n      <td>NaN</td>\n    </tr>\n    <tr>\n      <td>25</td>\n      <td>1</td>\n      <td>test</td>\n      <td>encoding</td>\n      <td>incongruent</td>\n      <td>inanimate</td>\n      <td>boat</td>\n      <td>boat_1</td>\n      <td>.png</td>\n      <td>guitarA.mp3</td>\n      <td>400</td>\n      <td>animate</td>\n      <td>inanimate</td>\n      <td>NaN</td>\n      <td>NaN</td>\n    </tr>\n    <tr>\n      <td>26</td>\n      <td>1</td>\n      <td>test</td>\n      <td>encoding</td>\n      <td>incongruent</td>\n      <td>inanimate</td>\n      <td>bicycle</td>\n      <td>bicycle_1</td>\n      <td>.png</td>\n      <td>drumA.mp3</td>\n      <td>400</td>\n      <td>animate</td>\n      <td>inanimate</td>\n      <td>NaN</td>\n      <td>NaN</td>\n    </tr>\n    <tr>\n      <td>27</td>\n      <td>1</td>\n      <td>test</td>\n      <td>encoding</td>\n      <td>incongruent</td>\n      <td>inanimate</td>\n      <td>bell</td>\n      <td>bell_5</td>\n      <td>.png</td>\n      <td>hammerA.mp3</td>\n      <td>400</td>\n      <td>animate</td>\n      <td>inanimate</td>\n      <td>NaN</td>\n      <td>NaN</td>\n    </tr>\n    <tr>\n      <td>28</td>\n      <td>1</td>\n      <td>test</td>\n      <td>encoding</td>\n      <td>control</td>\n      <td>animate</td>\n      <td>horse</td>\n      <td>horse_1</td>\n      <td>.png</td>\n      <td>jumble1.mp3</td>\n      <td>400</td>\n      <td>animate</td>\n      <td>inanimate</td>\n      <td>NaN</td>\n      <td>NaN</td>\n    </tr>\n    <tr>\n      <td>29</td>\n      <td>1</td>\n      <td>test</td>\n      <td>encoding</td>\n      <td>control</td>\n      <td>animate</td>\n      <td>goose</td>\n      <td>goose_1</td>\n      <td>.png</td>\n      <td>jumble2.mp3</td>\n      <td>400</td>\n      <td>animate</td>\n      <td>inanimate</td>\n      <td>NaN</td>\n      <td>NaN</td>\n    </tr>\n    <tr>\n      <td>30</td>\n      <td>1</td>\n      <td>test</td>\n      <td>encoding</td>\n      <td>control</td>\n      <td>animate</td>\n      <td>goat</td>\n      <td>goat_3</td>\n      <td>.png</td>\n      <td>jumble3.mp3</td>\n      <td>400</td>\n      <td>animate</td>\n      <td>inanimate</td>\n      <td>NaN</td>\n      <td>NaN</td>\n    </tr>\n    <tr>\n      <td>31</td>\n      <td>1</td>\n      <td>test</td>\n      <td>encoding</td>\n      <td>control</td>\n      <td>animate</td>\n      <td>frog</td>\n      <td>frog_1</td>\n      <td>.png</td>\n      <td>jumble4.mp3</td>\n      <td>400</td>\n      <td>animate</td>\n      <td>inanimate</td>\n      <td>NaN</td>\n      <td>NaN</td>\n    </tr>\n    <tr>\n      <td>32</td>\n      <td>1</td>\n      <td>test</td>\n      <td>encoding</td>\n      <td>control</td>\n      <td>animate</td>\n      <td>elephant</td>\n      <td>elephant_1</td>\n      <td>.png</td>\n      <td>jumble5.mp3</td>\n      <td>400</td>\n      <td>animate</td>\n      <td>inanimate</td>\n      <td>NaN</td>\n      <td>NaN</td>\n    </tr>\n    <tr>\n      <td>33</td>\n      <td>1</td>\n      <td>test</td>\n      <td>encoding</td>\n      <td>control</td>\n      <td>animate</td>\n      <td>dog</td>\n      <td>dog_2</td>\n      <td>.png</td>\n      <td>jumble6.mp3</td>\n      <td>400</td>\n      <td>animate</td>\n      <td>inanimate</td>\n      <td>NaN</td>\n      <td>NaN</td>\n    </tr>\n    <tr>\n      <td>34</td>\n      <td>1</td>\n      <td>test</td>\n      <td>encoding</td>\n      <td>control</td>\n      <td>animate</td>\n      <td>deer</td>\n      <td>deer_4</td>\n      <td>.png</td>\n      <td>jumble7.mp3</td>\n      <td>400</td>\n      <td>animate</td>\n      <td>inanimate</td>\n      <td>NaN</td>\n      <td>NaN</td>\n    </tr>\n    <tr>\n      <td>35</td>\n      <td>1</td>\n      <td>test</td>\n      <td>encoding</td>\n      <td>control</td>\n      <td>inanimate</td>\n      <td>motorcycle</td>\n      <td>motorcycle_1</td>\n      <td>.png</td>\n      <td>jumble8.mp3</td>\n      <td>400</td>\n      <td>animate</td>\n      <td>inanimate</td>\n      <td>NaN</td>\n      <td>NaN</td>\n    </tr>\n    <tr>\n      <td>36</td>\n      <td>1</td>\n      <td>test</td>\n      <td>encoding</td>\n      <td>control</td>\n      <td>inanimate</td>\n      <td>keyboard</td>\n      <td>keyboard_2</td>\n      <td>.png</td>\n      <td>jumble9.mp3</td>\n      <td>400</td>\n      <td>animate</td>\n      <td>inanimate</td>\n      <td>NaN</td>\n      <td>NaN</td>\n    </tr>\n    <tr>\n      <td>37</td>\n      <td>1</td>\n      <td>test</td>\n      <td>encoding</td>\n      <td>control</td>\n      <td>inanimate</td>\n      <td>jet</td>\n      <td>jet_1</td>\n      <td>.png</td>\n      <td>jumble10.mp3</td>\n      <td>400</td>\n      <td>animate</td>\n      <td>inanimate</td>\n      <td>NaN</td>\n      <td>NaN</td>\n    </tr>\n    <tr>\n      <td>38</td>\n      <td>1</td>\n      <td>test</td>\n      <td>encoding</td>\n      <td>control</td>\n      <td>inanimate</td>\n      <td>hammer</td>\n      <td>hammer_3</td>\n      <td>.png</td>\n      <td>jumble11.mp3</td>\n      <td>400</td>\n      <td>animate</td>\n      <td>inanimate</td>\n      <td>NaN</td>\n      <td>NaN</td>\n    </tr>\n    <tr>\n      <td>39</td>\n      <td>1</td>\n      <td>test</td>\n      <td>encoding</td>\n      <td>control</td>\n      <td>inanimate</td>\n      <td>guitar</td>\n      <td>guitar_3</td>\n      <td>.png</td>\n      <td>jumble12.mp3</td>\n      <td>400</td>\n      <td>animate</td>\n      <td>inanimate</td>\n      <td>NaN</td>\n      <td>NaN</td>\n    </tr>\n    <tr>\n      <td>40</td>\n      <td>1</td>\n      <td>test</td>\n      <td>encoding</td>\n      <td>control</td>\n      <td>inanimate</td>\n      <td>drum</td>\n      <td>drum_2</td>\n      <td>.png</td>\n      <td>jumble13.mp3</td>\n      <td>400</td>\n      <td>animate</td>\n      <td>inanimate</td>\n      <td>NaN</td>\n      <td>NaN</td>\n    </tr>\n    <tr>\n      <td>41</td>\n      <td>1</td>\n      <td>test</td>\n      <td>encoding</td>\n      <td>control</td>\n      <td>inanimate</td>\n      <td>drill</td>\n      <td>drill_1</td>\n      <td>.png</td>\n      <td>jumble14.mp3</td>\n      <td>400</td>\n      <td>animate</td>\n      <td>inanimate</td>\n      <td>NaN</td>\n      <td>NaN</td>\n    </tr>\n    <tr>\n      <td>37</td>\n      <td>1</td>\n      <td>test</td>\n      <td>recognition</td>\n      <td>control</td>\n      <td>inanimate</td>\n      <td>jet</td>\n      <td>jet_1</td>\n      <td>.png</td>\n      <td>NaN</td>\n      <td>400</td>\n      <td>same</td>\n      <td>different</td>\n      <td>nonsense</td>\n      <td>new</td>\n    </tr>\n    <tr>\n      <td>24</td>\n      <td>1</td>\n      <td>test</td>\n      <td>recognition</td>\n      <td>incongruent</td>\n      <td>inanimate</td>\n      <td>camera</td>\n      <td>camera_1</td>\n      <td>.png</td>\n      <td>NaN</td>\n      <td>400</td>\n      <td>same</td>\n      <td>different</td>\n      <td>nonsense</td>\n      <td>new</td>\n    </tr>\n    <tr>\n      <td>2</td>\n      <td>1</td>\n      <td>test</td>\n      <td>recognition</td>\n      <td>congruent</td>\n      <td>animate</td>\n      <td>snake</td>\n      <td>snake_1</td>\n      <td>.png</td>\n      <td>NaN</td>\n      <td>400</td>\n      <td>same</td>\n      <td>different</td>\n      <td>nonsense</td>\n      <td>new</td>\n    </tr>\n    <tr>\n      <td>55</td>\n      <td>1</td>\n      <td>test</td>\n      <td>recognition</td>\n      <td>new</td>\n      <td>animate</td>\n      <td>crab</td>\n      <td>crab_2</td>\n      <td>.png</td>\n      <td>NaN</td>\n      <td>400</td>\n      <td>same</td>\n      <td>different</td>\n      <td>nonsense</td>\n      <td>new</td>\n    </tr>\n    <tr>\n      <td>35</td>\n      <td>1</td>\n      <td>test</td>\n      <td>recognition</td>\n      <td>control</td>\n      <td>inanimate</td>\n      <td>motorcycle</td>\n      <td>motorcycle_1</td>\n      <td>.png</td>\n      <td>NaN</td>\n      <td>400</td>\n      <td>same</td>\n      <td>different</td>\n      <td>nonsense</td>\n      <td>new</td>\n    </tr>\n    <tr>\n      <td>32</td>\n      <td>1</td>\n      <td>test</td>\n      <td>recognition</td>\n      <td>control</td>\n      <td>animate</td>\n      <td>elephant</td>\n      <td>elephant_1</td>\n      <td>.png</td>\n      <td>NaN</td>\n      <td>400</td>\n      <td>same</td>\n      <td>different</td>\n      <td>nonsense</td>\n      <td>new</td>\n    </tr>\n    <tr>\n      <td>40</td>\n      <td>1</td>\n      <td>test</td>\n      <td>recognition</td>\n      <td>control</td>\n      <td>inanimate</td>\n      <td>drum</td>\n      <td>drum_2</td>\n      <td>.png</td>\n      <td>NaN</td>\n      <td>400</td>\n      <td>same</td>\n      <td>different</td>\n      <td>nonsense</td>\n      <td>new</td>\n    </tr>\n    <tr>\n      <td>44</td>\n      <td>1</td>\n      <td>test</td>\n      <td>recognition</td>\n      <td>new</td>\n      <td>inanimate</td>\n      <td>watering_can</td>\n      <td>watering_can_1</td>\n      <td>.png</td>\n      <td>NaN</td>\n      <td>400</td>\n      <td>same</td>\n      <td>different</td>\n      <td>nonsense</td>\n      <td>new</td>\n    </tr>\n  </tbody>\n</table>\n</div>"
     },
     "metadata": {},
     "execution_count": 154
    }
   ],
   "source": [
    "trial_file1.head(50)"
   ]
  },
  {
   "cell_type": "code",
   "execution_count": 155,
   "metadata": {},
   "outputs": [],
   "source": [
    "trial_file1.to_csv('/Users/sheaduarte/Desktop/trial_file1.csv', index=False)\n",
    "trial_file2.to_csv('/Users/sheaduarte/Desktop/trial_file2.csv', index=False)\n",
    "trial_file3.to_csv('/Users/sheaduarte/Desktop/trial_file3.csv', index=False)"
   ]
  },
  {
   "cell_type": "code",
   "execution_count": null,
   "metadata": {},
   "outputs": [],
   "source": []
  }
 ],
 "metadata": {
  "language_info": {
   "codemirror_mode": {
    "name": "ipython",
    "version": 3
   },
   "file_extension": ".py",
   "mimetype": "text/x-python",
   "name": "python",
   "nbconvert_exporter": "python",
   "pygments_lexer": "ipython3",
   "version": 3
  },
  "orig_nbformat": 2,
  "kernelspec": {
   "name": "python_defaultSpec_1598478191739",
   "display_name": "Python 3.7.4 64-bit ('base': conda)"
  }
 },
 "nbformat": 4,
 "nbformat_minor": 2
}